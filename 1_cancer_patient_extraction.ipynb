{
 "cells": [
  {
   "cell_type": "code",
   "execution_count": 144,
   "id": "minute-constant",
   "metadata": {},
   "outputs": [],
   "source": [
    "#package loading \n",
    "import sklearn\n",
    "import pandas as pd\n",
    "import numpy as np\n",
    "import matplotlib.pyplot as plt\n",
    "import seaborn as sns\n",
    "from dateutil.relativedelta import relativedelta\n",
    "from scipy.stats import percentileofscore\n",
    "from tqdm import tqdm\n",
    "import cudf\n",
    "import numba as nb\n",
    "import os\n",
    "import sys\n",
    "import time\n",
    "import pickle"
   ]
  },
  {
   "cell_type": "code",
   "execution_count": 66,
   "id": "peripheral-salmon",
   "metadata": {},
   "outputs": [],
   "source": [
    "from utility import *\n",
    "from preprocess import * "
   ]
  },
  {
   "cell_type": "code",
   "execution_count": 50,
   "id": "capable-union",
   "metadata": {},
   "outputs": [],
   "source": [
    "import warnings\n",
    "warnings.filterwarnings(\"ignore\")"
   ]
  },
  {
   "cell_type": "markdown",
   "id": "accomplished-moisture",
   "metadata": {},
   "source": [
    "# Read datasets"
   ]
  },
  {
   "cell_type": "code",
   "execution_count": 4,
   "id": "decent-procurement",
   "metadata": {},
   "outputs": [],
   "source": [
    "data_wd = \"/data/datasets/Tianchen/2022_covid_pasc_1FL_data/20221020/covid_database\""
   ]
  },
  {
   "cell_type": "code",
   "execution_count": 5,
   "id": "stone-sleeping",
   "metadata": {},
   "outputs": [
    {
     "name": "stderr",
     "output_type": "stream",
     "text": [
      "/tmp/ipykernel_79664/3208235642.py:2: DtypeWarning: Columns (7,8,12) have mixed types. Specify dtype option on import or set low_memory=False.\n",
      "  diagnosis_cov = pd.read_csv(data_wd+\"/DIAGNOSIS.csv\",header=0,skiprows=[1])\n",
      "/tmp/ipykernel_79664/3208235642.py:3: DtypeWarning: Columns (2,3,5,6,9,10,12,13,15,17,21,23) have mixed types. Specify dtype option on import or set low_memory=False.\n",
      "  lab_result_cm_cov = pd.read_csv(data_wd+\"/LAB_RESULT_CM.csv\",header=0,skiprows=[1])\n",
      "/tmp/ipykernel_79664/3208235642.py:4: DtypeWarning: Columns (6,7,9,10,13,14,18) have mixed types. Specify dtype option on import or set low_memory=False.\n",
      "  obs_gen_cov = pd.read_csv(data_wd+\"/OBS_GEN.csv\",header=0,skiprows=[1])\n",
      "/tmp/ipykernel_79664/3208235642.py:5: DtypeWarning: Columns (6) have mixed types. Specify dtype option on import or set low_memory=False.\n",
      "  procedure_cov = pd.read_csv(data_wd+\"/PROCEDURES.csv\",header=0,skiprows=[1])\n"
     ]
    }
   ],
   "source": [
    "# covid database\n",
    "diagnosis_cov = pd.read_csv(data_wd+\"/DIAGNOSIS.csv\",header=0,skiprows=[1])\n",
    "procedure_cov = pd.read_csv(data_wd+\"/PROCEDURES.csv\",header=0,skiprows=[1])\n",
    "demographics_cov = pd.read_csv(data_wd+\"/DEMOGRAPHIC.csv\",header=0,skiprows=[1])"
   ]
  },
  {
   "cell_type": "code",
   "execution_count": 6,
   "id": "generous-thanksgiving",
   "metadata": {},
   "outputs": [],
   "source": [
    "data_wd = \"/data/datasets/Tianchen/2022_covid_pasc_1FL_data/20221020/main_database\""
   ]
  },
  {
   "cell_type": "code",
   "execution_count": 7,
   "id": "million-chrome",
   "metadata": {},
   "outputs": [
    {
     "name": "stderr",
     "output_type": "stream",
     "text": [
      "/tmp/ipykernel_79664/3211017016.py:2: DtypeWarning: Columns (7,8,12) have mixed types. Specify dtype option on import or set low_memory=False.\n",
      "  diagnosis_m = pd.read_csv(data_wd+\"/DIAGNOSIS.csv\",header=0,skiprows=[1])\n",
      "/tmp/ipykernel_79664/3211017016.py:3: DtypeWarning: Columns (9,10,12,13,17,21,23,25) have mixed types. Specify dtype option on import or set low_memory=False.\n",
      "  lab_result_cm_m = pd.read_csv(data_wd+\"/LAB_RESULT_CM.csv\",header=0,skiprows=[1])\n",
      "/tmp/ipykernel_79664/3211017016.py:4: DtypeWarning: Columns (6,7,9,10,18) have mixed types. Specify dtype option on import or set low_memory=False.\n",
      "  obs_gen_m = pd.read_csv(data_wd+\"/OBS_GEN.csv\",header=0,skiprows=[1])\n",
      "/tmp/ipykernel_79664/3211017016.py:5: DtypeWarning: Columns (5) have mixed types. Specify dtype option on import or set low_memory=False.\n",
      "  procedure_m = pd.read_csv(data_wd+\"/PROCEDURES.csv\",header=0,skiprows=[1])\n"
     ]
    }
   ],
   "source": [
    "# general database\n",
    "diagnosis_m = pd.read_csv(data_wd+\"/DIAGNOSIS.csv\",header=0,skiprows=[1])\n",
    "procedure_m = pd.read_csv(data_wd+\"/PROCEDURES.csv\",header=0,skiprows=[1])\n",
    "demographics_m = pd.read_csv(data_wd+\"/DEMOGRAPHIC.csv\",header=0,skiprows=[1])"
   ]
  },
  {
   "cell_type": "code",
   "execution_count": 8,
   "id": "approximate-integrity",
   "metadata": {},
   "outputs": [
    {
     "name": "stdout",
     "output_type": "stream",
     "text": [
      "[ True  True  True  True  True  True  True  True  True  True  True  True\n",
      "  True  True]\n",
      "[ True  True  True  True  True  True  True  True  True  True  True  True\n",
      "  True  True  True  True  True  True  True  True  True  True  True  True\n",
      "  True  True  True]\n",
      "[ True  True  True  True  True  True  True  True  True  True  True  True\n",
      "  True  True  True  True  True  True  True  True]\n",
      "[ True  True  True  True  True  True  True  True  True  True  True  True]\n",
      "[ True  True  True  True  True  True  True  True  True  True  True  True]\n"
     ]
    }
   ],
   "source": [
    "print(diagnosis_m.columns == diagnosis_cov.columns)\n",
    "print(procedure_m.columns == procedure_cov.columns)\n",
    "print(demographics_m.columns == demographics_cov.columns)"
   ]
  },
  {
   "cell_type": "code",
   "execution_count": 9,
   "id": "conceptual-luther",
   "metadata": {},
   "outputs": [
    {
     "name": "stdout",
     "output_type": "stream",
     "text": [
      "complete diagnosis\n",
      "complete lab_result_cm\n",
      "complete obs_gen\n",
      "complete procedure\n",
      "complete demographics\n"
     ]
    }
   ],
   "source": [
    "# union them\n",
    "diagnosis = pd.concat([diagnosis_m,diagnosis_cov])\n",
    "print(\"complete diagnosis\")\n",
    "procedure = pd.concat([procedure_m,procedure_cov])\n",
    "print(\"complete procedure\")\n",
    "demographics = pd.concat([demographics_m,demographics_cov])\n",
    "print(\"complete demographics\")"
   ]
  },
  {
   "cell_type": "code",
   "execution_count": 10,
   "id": "combined-police",
   "metadata": {},
   "outputs": [],
   "source": [
    "#release memory\n",
    "del(diagnosis_m)\n",
    "del(diagnosis_cov)\n",
    "del(procedure_m)\n",
    "del(procedure_cov)\n",
    "del(demographics_m)\n",
    "del(demographics_cov)"
   ]
  },
  {
   "cell_type": "markdown",
   "id": "encouraging-clone",
   "metadata": {},
   "source": [
    "# Extract COVID patients"
   ]
  },
  {
   "cell_type": "markdown",
   "id": "automotive-television",
   "metadata": {},
   "source": [
    "## import index date and cohort definition"
   ]
  },
  {
   "cell_type": "code",
   "execution_count": 11,
   "id": "hybrid-procurement",
   "metadata": {},
   "outputs": [],
   "source": [
    "#pasc and covid inex dates\n",
    "index_date = pd.read_csv('/data/datasets/Tianchen/2022_covid_pasc_1FL_data/20221020/covid_pasc_cohort.csv')"
   ]
  },
  {
   "cell_type": "code",
   "execution_count": 12,
   "id": "abstract-greece",
   "metadata": {},
   "outputs": [
    {
     "data": {
      "text/plain": [
       "cont    224041\n",
       "case      5651\n",
       "Name: group, dtype: int64"
      ]
     },
     "execution_count": 12,
     "metadata": {},
     "output_type": "execute_result"
    }
   ],
   "source": [
    "index_date['group'].value_counts()"
   ]
  },
  {
   "cell_type": "code",
   "execution_count": 13,
   "id": "opposed-hearts",
   "metadata": {},
   "outputs": [
    {
     "data": {
      "text/html": [
       "<div>\n",
       "<style scoped>\n",
       "    .dataframe tbody tr th:only-of-type {\n",
       "        vertical-align: middle;\n",
       "    }\n",
       "\n",
       "    .dataframe tbody tr th {\n",
       "        vertical-align: top;\n",
       "    }\n",
       "\n",
       "    .dataframe thead th {\n",
       "        text-align: right;\n",
       "    }\n",
       "</style>\n",
       "<table border=\"1\" class=\"dataframe\">\n",
       "  <thead>\n",
       "    <tr style=\"text-align: right;\">\n",
       "      <th></th>\n",
       "      <th>ID</th>\n",
       "      <th>index_date</th>\n",
       "      <th>pasc_onset_date</th>\n",
       "      <th>group</th>\n",
       "    </tr>\n",
       "  </thead>\n",
       "  <tbody>\n",
       "    <tr>\n",
       "      <th>0</th>\n",
       "      <td>19Oct2022covidpasc00003601</td>\n",
       "      <td>2022-01-13</td>\n",
       "      <td>NaN</td>\n",
       "      <td>cont</td>\n",
       "    </tr>\n",
       "    <tr>\n",
       "      <th>1</th>\n",
       "      <td>19Oct2022covidpasc00003602</td>\n",
       "      <td>2020-09-30</td>\n",
       "      <td>NaN</td>\n",
       "      <td>cont</td>\n",
       "    </tr>\n",
       "    <tr>\n",
       "      <th>2</th>\n",
       "      <td>19Oct2022covidpasc00003603</td>\n",
       "      <td>2020-06-15</td>\n",
       "      <td>NaN</td>\n",
       "      <td>cont</td>\n",
       "    </tr>\n",
       "    <tr>\n",
       "      <th>3</th>\n",
       "      <td>19Oct2022covidpasc00003604</td>\n",
       "      <td>2020-07-07</td>\n",
       "      <td>NaN</td>\n",
       "      <td>cont</td>\n",
       "    </tr>\n",
       "    <tr>\n",
       "      <th>4</th>\n",
       "      <td>19Oct2022covidpasc00003605</td>\n",
       "      <td>2021-01-13</td>\n",
       "      <td>NaN</td>\n",
       "      <td>cont</td>\n",
       "    </tr>\n",
       "  </tbody>\n",
       "</table>\n",
       "</div>"
      ],
      "text/plain": [
       "                           ID  index_date pasc_onset_date group\n",
       "0  19Oct2022covidpasc00003601  2022-01-13             NaN  cont\n",
       "1  19Oct2022covidpasc00003602  2020-09-30             NaN  cont\n",
       "2  19Oct2022covidpasc00003603  2020-06-15             NaN  cont\n",
       "3  19Oct2022covidpasc00003604  2020-07-07             NaN  cont\n",
       "4  19Oct2022covidpasc00003605  2021-01-13             NaN  cont"
      ]
     },
     "execution_count": 13,
     "metadata": {},
     "output_type": "execute_result"
    }
   ],
   "source": [
    "index_date.head()"
   ]
  },
  {
   "cell_type": "markdown",
   "id": "comprehensive-spell",
   "metadata": {},
   "source": [
    "## choose those with covid19 index date"
   ]
  },
  {
   "cell_type": "code",
   "execution_count": 14,
   "id": "developing-dependence",
   "metadata": {},
   "outputs": [],
   "source": [
    "#choose those with covid19 index date\n",
    "index_date = index_date.loc[~index_date['index_date'].isna()]"
   ]
  },
  {
   "cell_type": "code",
   "execution_count": 15,
   "id": "motivated-poker",
   "metadata": {},
   "outputs": [
    {
     "data": {
      "text/plain": [
       "cont    224041\n",
       "case      1937\n",
       "Name: group, dtype: int64"
      ]
     },
     "execution_count": 15,
     "metadata": {},
     "output_type": "execute_result"
    }
   ],
   "source": [
    "index_date['group'].value_counts()"
   ]
  },
  {
   "cell_type": "markdown",
   "id": "bigger-withdrawal",
   "metadata": {},
   "source": [
    "## choose those with pasc date after covid date"
   ]
  },
  {
   "cell_type": "code",
   "execution_count": 16,
   "id": "lesser-karaoke",
   "metadata": {},
   "outputs": [],
   "source": [
    "index_date['index_date'] = pd.to_datetime(index_date['index_date'])\n",
    "index_date['pasc_onset_date'] = pd.to_datetime(index_date['pasc_onset_date'])"
   ]
  },
  {
   "cell_type": "code",
   "execution_count": 17,
   "id": "certified-bible",
   "metadata": {},
   "outputs": [],
   "source": [
    "index_date = index_date.loc[(index_date['index_date']<index_date['pasc_onset_date'])|index_date['pasc_onset_date'].isna()]"
   ]
  },
  {
   "cell_type": "code",
   "execution_count": 21,
   "id": "naked-posting",
   "metadata": {},
   "outputs": [
    {
     "data": {
      "text/plain": [
       "cont    224041\n",
       "case      1706\n",
       "Name: group, dtype: int64"
      ]
     },
     "execution_count": 21,
     "metadata": {},
     "output_type": "execute_result"
    }
   ],
   "source": [
    "index_date['group'].value_counts()"
   ]
  },
  {
   "cell_type": "markdown",
   "id": "continuous-cricket",
   "metadata": {},
   "source": [
    "# Demographics preprocessing"
   ]
  },
  {
   "cell_type": "markdown",
   "id": "failing-seating",
   "metadata": {},
   "source": [
    "## drop duplicate"
   ]
  },
  {
   "cell_type": "code",
   "execution_count": 19,
   "id": "rapid-humanity",
   "metadata": {},
   "outputs": [
    {
     "name": "stdout",
     "output_type": "stream",
     "text": [
      "(455995, 12)\n",
      "(229689, 12)\n"
     ]
    }
   ],
   "source": [
    "# This is because there are two database to be merged, i.e. covid database and general databse. The medical records are not duplicates abut the patient demographics are.\n",
    "print(demographics.shape)\n",
    "demographics = demographics.drop_duplicates(['ID'])\n",
    "print(demographics.shape)"
   ]
  },
  {
   "cell_type": "markdown",
   "id": "arabic-planner",
   "metadata": {},
   "source": [
    "## 1st filter by index date cohorts"
   ]
  },
  {
   "cell_type": "code",
   "execution_count": 20,
   "id": "permanent-prague",
   "metadata": {},
   "outputs": [
    {
     "name": "stdout",
     "output_type": "stream",
     "text": [
      "(229689, 12)\n",
      "(225744, 3)\n"
     ]
    }
   ],
   "source": [
    "#pair demographics and index date\n",
    "print(demographics.shape)\n",
    "demographics = pd.merge(demographics,index_date,left_on='ID',right_on='ID',how='inner')\n",
    "demographics = demographics[['ID', 'index_date','pasc_onset_date']]\n",
    "print(demographics.shape)"
   ]
  },
  {
   "cell_type": "markdown",
   "id": "medical-bottle",
   "metadata": {},
   "source": [
    "# Extract cancer patient cohort by ICD codes"
   ]
  },
  {
   "cell_type": "markdown",
   "id": "parental-entrepreneur",
   "metadata": {},
   "source": [
    "## All cancer"
   ]
  },
  {
   "cell_type": "code",
   "execution_count": 53,
   "id": "operating-jersey",
   "metadata": {},
   "outputs": [],
   "source": [
    "dx_codes_icd9_all = tuple(['140','141','142','143','144','145','146','147','148','149',\n",
    "                     '150','151','152','153','154','155','156','157','158','159',\n",
    "                     '160','161','162','163','164','165','166','167','168','169',\n",
    "                     '170','171','172','173','174','175','176','177','178','179',\n",
    "                     '180','181','182','183','184','185','186','187','188','189',\n",
    "                     '190','191','192','193','194','195','196','197','198','199',\n",
    "                     '200','201','202','203','204','205','206','207','208','209',\n",
    "                     '2300','2310','V1001','V1002','V1021','2301', 'V1003','2302', \n",
    "                     'V1004','2303','V1005','2304','2305','2306','V1006','2308', \n",
    "                     'V1007','2312','V1011','2330','V103','2332','V1042','2331', \n",
    "                     '7950','V1041','V1043','2334', 'V1046','V1047', '2337', 'V1051', \n",
    "                     'V1052', 'V1085', 'V1086', 'V1087', 'V1072', 'V1071', 'V1079',\n",
    "                    'V1060', 'V1061', 'V1062', 'V1063', 'V1069','173','196','197','198'])"
   ]
  },
  {
   "cell_type": "code",
   "execution_count": null,
   "id": "broke-canon",
   "metadata": {},
   "outputs": [],
   "source": [
    "dx_codes_icd10_all = tuple(['C'])"
   ]
  },
  {
   "cell_type": "code",
   "execution_count": 77,
   "id": "forward-asian",
   "metadata": {},
   "outputs": [],
   "source": [
    "#diagnosis\n",
    "pid_dx_all_diag = extract_cancer_pid(df=diagnosis,\\\n",
    "                                     extract_from_col=\"DX\",\\\n",
    "                                     code_type_col=\"DX_TYPE\",\\\n",
    "                                     codes_icd9=dx_codes_icd9_all,\\\n",
    "                                     codes_icd10=dx_codes_icd10_all,\\\n",
    "                                     subtype=\"Any\")\n",
    "\n",
    "#procedure\n",
    "pid_dx_all_procedure = extract_cancer_pid(df=procedure,\\\n",
    "                                          extract_from_col=\"PX\",\\\n",
    "                                          code_type_col=\"PX_TYPE\",\\\n",
    "                                          codes_icd9=dx_codes_icd9_all,\\\n",
    "                                          codes_icd10=dx_codes_icd10_all,\\\n",
    "                                          subtype=\"Any\")\n",
    "\n",
    "pid_dx_all = pd.concat([pid_dx_all_diag,pid_dx_all_procedure]).\\\n",
    "                drop_duplicates(ignore_index=True)"
   ]
  },
  {
   "cell_type": "markdown",
   "id": "blessed-title",
   "metadata": {},
   "source": [
    "## Head and neck cancer"
   ]
  },
  {
   "cell_type": "code",
   "execution_count": 83,
   "id": "driven-collective",
   "metadata": {},
   "outputs": [],
   "source": [
    "dx_codes_icd9_Headandneckcancer = tuple(['1400', '1401', '1403', '1404', '1405', '1406', '1408', '1409', '1410', \n",
    "                                         '1411', '1412', '1413', '1414', '1415', '1416', '1418', '1419', '1420', \n",
    "                                         '1421', '1422', '1428', '1429', '1430', '1431', '1438', '1439', '1440', \n",
    "                                         '1441', '1448', '1449', '1450', '1451', '1452', '1453', '1454', '1455', \n",
    "                                         '1456', '1458', '1459', '1460', '1461', '1462', '1463', '1464', '1465', \n",
    "                                         '1466', '1467', '1468', '1469', '1470', '1471', '1472', '1473', '1478', \n",
    "                                         '1479', '1480', '1481', '1482', '1483', '1488', '1489', '1490', '1491', \n",
    "                                         '1498', '1499', '1600', '1601', '1602', '1603', '1604', '1605', '1608', \n",
    "                                         '1609', '1610', '1611', '1612', '1613', '1618', '1619', '1950', '2300', \n",
    "                                         '2310', 'V1001', 'V1002', 'V1021'])\n",
    "\n",
    "dx_codes_icd10_Headandneckcancer = tuple(['C760','C00','C01','C02','C03','C04','C05','C06','C07','C08','C09',\n",
    "                                          'C10','C11','C12','C13','C14','C30','C31','C32'])"
   ]
  },
  {
   "cell_type": "markdown",
   "id": "according-repair",
   "metadata": {},
   "source": [
    "## Esophageal cancer"
   ]
  },
  {
   "cell_type": "code",
   "execution_count": 85,
   "id": "documentary-melissa",
   "metadata": {},
   "outputs": [],
   "source": [
    "dx_codes_icd9_Esophagealcancer = tuple(['1500', '1501', '1502', '1503', '1504', '1505', '1508', '1509', '2301', 'V1003'])\n",
    "dx_codes_icd10_Esophagealcancer = tuple(['C15'])"
   ]
  },
  {
   "cell_type": "markdown",
   "id": "developmental-function",
   "metadata": {},
   "source": [
    "## Stomach cancer"
   ]
  },
  {
   "cell_type": "code",
   "execution_count": 86,
   "id": "greater-senator",
   "metadata": {},
   "outputs": [],
   "source": [
    "dx_codes_icd9_Stomachcancer = tuple(['1510', '1511', '1512', '1513', '1514', '1515', '1516', '1518', '1519', '2302', 'V1004'])\n",
    "dx_codes_icd10_Stomachcancer = tuple(['C16'])"
   ]
  },
  {
   "cell_type": "markdown",
   "id": "mobile-blank",
   "metadata": {},
   "source": [
    "## Small intestine"
   ]
  },
  {
   "cell_type": "code",
   "execution_count": 87,
   "id": "neural-dress",
   "metadata": {},
   "outputs": [],
   "source": [
    "dx_codes_icd9_Smallintestine = tuple(['1520','1521','1522','1523','1528','1529'])\n",
    "dx_codes_icd10_Smallintestine = tuple(['C17'])"
   ]
  },
  {
   "cell_type": "markdown",
   "id": "executed-impossible",
   "metadata": {},
   "source": [
    "## Colorectal cancer"
   ]
  },
  {
   "cell_type": "code",
   "execution_count": 88,
   "id": "naughty-appeal",
   "metadata": {},
   "outputs": [],
   "source": [
    "dx_codes_icd9_Colorectalcancer = tuple(['1530', '1531', '1532', '1533', '1534', '1535', \n",
    "                                        '1536', '1537', '1538', '1539', '1590', '2303', \n",
    "                                        'V1005', '1540', '1541', '1542', '1543', '1548', \n",
    "                                        '2304', '2305', '2306', 'V1006'])\n",
    "dx_codes_icd10_Colorectalcancer = tuple(['C18','C19','C20','C21'])"
   ]
  },
  {
   "cell_type": "markdown",
   "id": "worthy-laser",
   "metadata": {},
   "source": [
    "## Liver cancer"
   ]
  },
  {
   "cell_type": "code",
   "execution_count": 89,
   "id": "painted-donor",
   "metadata": {},
   "outputs": [],
   "source": [
    "dx_codes_icd9_Livercancer = tuple(['1550', '1551', '1552', '2308', 'V1007'])\n",
    "dx_codes_icd10_Livercancer = tuple(['C22'])"
   ]
  },
  {
   "cell_type": "markdown",
   "id": "rubber-engineer",
   "metadata": {},
   "source": [
    "## Pancreatic cancer"
   ]
  },
  {
   "cell_type": "code",
   "execution_count": 90,
   "id": "short-installation",
   "metadata": {},
   "outputs": [],
   "source": [
    "dx_codes_icd9_Pancreaticcancer = tuple(['1570', '1571', '1572', '1573', '1574', '1578', '1579'])\n",
    "dx_codes_icd10_Pancreaticcancer = tuple(['C25'])"
   ]
  },
  {
   "cell_type": "markdown",
   "id": "cubic-alcohol",
   "metadata": {},
   "source": [
    "## Lung caner"
   ]
  },
  {
   "cell_type": "code",
   "execution_count": 91,
   "id": "seventh-michael",
   "metadata": {},
   "outputs": [],
   "source": [
    "dx_codes_icd9_Lungcaner = tuple(['1622', '1623', '1624', '1625', '1628', '1629', '2312', 'V1011'])\n",
    "dx_codes_icd10_Lungcaner = tuple(['C34'])"
   ]
  },
  {
   "cell_type": "markdown",
   "id": "detected-taylor",
   "metadata": {},
   "source": [
    "## Breast cancer"
   ]
  },
  {
   "cell_type": "code",
   "execution_count": 92,
   "id": "national-productivity",
   "metadata": {},
   "outputs": [],
   "source": [
    "dx_codes_icd9_Breastcancer = tuple(['1740', '1741', '1742', '1743', '1744', '1745', '1746', '1748', '1749', '1750', '1759', '2330', 'V103'])\n",
    "dx_codes_icd10_Breastcancer = tuple(['C50'])"
   ]
  },
  {
   "cell_type": "markdown",
   "id": "precise-title",
   "metadata": {},
   "source": [
    "## Uteral cancer"
   ]
  },
  {
   "cell_type": "code",
   "execution_count": 115,
   "id": "inner-involvement",
   "metadata": {},
   "outputs": [],
   "source": [
    "dx_codes_icd9_Uteralcancer = tuple(['179', '1820', '1821', '1828', '2332', 'V1042'])\n",
    "dx_codes_icd10_Uteralcancer = tuple(['C66'])"
   ]
  },
  {
   "cell_type": "markdown",
   "id": "robust-accused",
   "metadata": {},
   "source": [
    "## Cervical cancer"
   ]
  },
  {
   "cell_type": "code",
   "execution_count": 95,
   "id": "aggregate-catalog",
   "metadata": {},
   "outputs": [],
   "source": [
    "dx_codes_icd9_Cervicalcancer = tuple(['1800', '1801', '1808', '1809', '2331', '7950', 'V1041'])\n",
    "dx_codes_icd10_Cervicalcancer = tuple(['C53'])"
   ]
  },
  {
   "cell_type": "markdown",
   "id": "developmental-default",
   "metadata": {},
   "source": [
    "## Ovarian cancer"
   ]
  },
  {
   "cell_type": "code",
   "execution_count": 96,
   "id": "convenient-baghdad",
   "metadata": {},
   "outputs": [],
   "source": [
    "dx_codes_icd9_Ovariancancer = tuple(['1830', 'V1043'])\n",
    "dx_codes_icd10_Ovariancancer = tuple(['C56'])"
   ]
  },
  {
   "cell_type": "markdown",
   "id": "expired-organization",
   "metadata": {},
   "source": [
    "## Prostate cancer"
   ]
  },
  {
   "cell_type": "code",
   "execution_count": 97,
   "id": "lined-flood",
   "metadata": {},
   "outputs": [],
   "source": [
    "dx_codes_icd9_Prostatecancer = tuple(['185', '2334', 'V1046'])\n",
    "dx_codes_icd10_Prostatecancer = tuple(['C61'])"
   ]
  },
  {
   "cell_type": "markdown",
   "id": "copyrighted-bundle",
   "metadata": {},
   "source": [
    "## Testicular cancer"
   ]
  },
  {
   "cell_type": "code",
   "execution_count": 98,
   "id": "twelve-rugby",
   "metadata": {},
   "outputs": [],
   "source": [
    "dx_codes_icd9_Testicularcancer = tuple(['1860', '1869', 'V1047'])\n",
    "dx_codes_icd10_Testicularcancer = tuple(['C62'])"
   ]
  },
  {
   "cell_type": "markdown",
   "id": "nominated-margin",
   "metadata": {},
   "source": [
    "## Bladder cancer"
   ]
  },
  {
   "cell_type": "code",
   "execution_count": 99,
   "id": "supposed-march",
   "metadata": {},
   "outputs": [],
   "source": [
    "dx_codes_icd9_Bladdercancer = tuple(['1880', '1881', '1882', '1883', '1884', '1885', '1886', '1887', '1888', '1889', '2337', 'V1051'])\n",
    "dx_codes_icd10_Bladdercancer = tuple(['C67'])"
   ]
  },
  {
   "cell_type": "markdown",
   "id": "another-collapse",
   "metadata": {},
   "source": [
    "## Kidney cancer"
   ]
  },
  {
   "cell_type": "code",
   "execution_count": 100,
   "id": "steady-league",
   "metadata": {},
   "outputs": [],
   "source": [
    "dx_codes_icd9_Kidneycancer = tuple(['1890', '1891', 'V1052'])\n",
    "dx_codes_icd10_Kidneycancer = tuple(['C64'])"
   ]
  },
  {
   "cell_type": "markdown",
   "id": "internal-bracelet",
   "metadata": {},
   "source": [
    "## Brain cancer"
   ]
  },
  {
   "cell_type": "code",
   "execution_count": 101,
   "id": "bored-dispatch",
   "metadata": {},
   "outputs": [],
   "source": [
    "dx_codes_icd9_Braincancer = tuple(['1910', '1911', '1912', '1913', '1914', '1915', '1916', '1917', '1918',\n",
    "                                   '1919', '1920', '1921', '1922', '1923', '1928', '1929', 'V1085', 'V1086'])\n",
    "dx_codes_icd10_Braincancer = tuple(['C71'])"
   ]
  },
  {
   "cell_type": "markdown",
   "id": "photographic-school",
   "metadata": {},
   "source": [
    "## Thyroid cancer"
   ]
  },
  {
   "cell_type": "code",
   "execution_count": 102,
   "id": "unique-first",
   "metadata": {},
   "outputs": [],
   "source": [
    "dx_codes_icd9_Thyroidcancer = tuple(['193', 'V1087'])\n",
    "dx_codes_icd10_Thyroidcancer = tuple(['C73'])"
   ]
  },
  {
   "cell_type": "markdown",
   "id": "desirable-intersection",
   "metadata": {},
   "source": [
    "## Hodgkin's lymphoma"
   ]
  },
  {
   "cell_type": "code",
   "execution_count": 103,
   "id": "herbal-research",
   "metadata": {},
   "outputs": [],
   "source": [
    "dx_codes_icd9_Hodgkinslymphoma = tuple(['20100', '20101', '20102', '20103', '20104', '20105', '20106', '20107',\n",
    "                                        '20108', '20110', '20111', '20112', '20113', '20114', '20115', '20116',\n",
    "                                        '20117', '20118', '20120', '20121', '20122', '20123', '20124', '20125', \n",
    "                                        '20126', '20127', '20128', '20140', '20141', '20142', '20143', '20144',\n",
    "                                        '20145', '20146', '20147', '20148', '20150', '20151', '20152', '20153', \n",
    "                                        '20154', '20155', '20156', '20157', '20158', '20160', '20161', '20162', \n",
    "                                        '20163', '20164', '20165', '20166', '20167', '20168', '20170', '20171',\n",
    "                                        '20172', '20173', '20174', '20175', '20176', '20177', '20178', '20190',\n",
    "                                        '20191', '20192', '20193', '20194', '20195', '20196', '20197', '20198', 'V1072'])\n",
    "dx_codes_icd10_Hodgkinslymphoma = tuple(['C81'])"
   ]
  },
  {
   "cell_type": "markdown",
   "id": "asian-buddy",
   "metadata": {},
   "source": [
    "## Non-Hodgkin`s lymphoma"
   ]
  },
  {
   "cell_type": "code",
   "execution_count": 104,
   "id": "hybrid-constitution",
   "metadata": {},
   "outputs": [],
   "source": [
    "dx_codes_icd9_NonHodgkinslymphoma = tuple(['20000', '20001', '20002', '20003', '20004', '20005', '20006', '20007', \n",
    "                                           '20008', '20010', '20011', '20012', '20013', '20014', '20015', '20016', \n",
    "                                           '20017', '20018', '20020', '20021', '20022', '20023', '20024', '20025', \n",
    "                                           '20026', '20027', '20028', '20080', '20081', '20082', '20083', '20084', \n",
    "                                           '20085', '20086', '20087', '20088', '20200', '20201', '20202', '20203', \n",
    "                                           '20204', '20205', '20206', '20207', '20208', '20210', '20211', '20212', \n",
    "                                           '20213', '20214', '20215', '20216', '20217', '20218', '20220', '20221', \n",
    "                                           '20222', '20223', '20224', '20225', '20226', '20227', '20228', '20280', \n",
    "                                           '20281', '20282', '20283', '20284', '20285', '20286', '20287', '20288', \n",
    "                                           '20290', '20291', '20292', '20293', '20294', '20295', '20296', '20297', \n",
    "                                           '20298', 'V1071', 'V1079'])\n",
    "dx_codes_icd10_NonHodgkinslymphoma = tuple(['C82','C83','C84','C85'])"
   ]
  },
  {
   "cell_type": "markdown",
   "id": "intelligent-carroll",
   "metadata": {},
   "source": [
    "## Leukemias"
   ]
  },
  {
   "cell_type": "code",
   "execution_count": 106,
   "id": "noticed-newark",
   "metadata": {},
   "outputs": [],
   "source": [
    "dx_codes_icd9_Leukemias = tuple(['20240', '20241', '20242', '20243', '20244', '20245', '20246', '20247',\n",
    "                                 '20248', '2031', '20310', '20311', '2040', '20400', '20401', '2041', '20410', '20411', '2042', \n",
    "                                 '20420', '20421', '2048', '20480', '20481', '2049', '20490', '20491', '2050', '20500', '20501', \n",
    "                                 '2051', '20510', '20511', '2052', '20520', '20521', '2053', '20530', '20531', '2058', '20580', \n",
    "                                 '20581', '2059', '20590', '20591', '2060', '20600', '20601', '2061', '20610', '20611', '2062', \n",
    "                                 '20620', '20621', '2068', '20680', '20681', '2069', '20690', '20691', '2070', '20700', '20701', \n",
    "                                 '2071', '20710', '20711', '2072', '20720', '20721', '2078', '20780', '20781', '2080', '20800', \n",
    "                                 '20801', '2081', '20810', '20811', '2082', '20820', '20821', '2088', '20880', '20881', '2089', \n",
    "                                 '20890', '20891', 'V1060', 'V1061', 'V1062', 'V1063', 'V1069'])\n",
    "dx_codes_icd10_Leukemias = tuple(['C91','C92','C93','C94','C95'])"
   ]
  },
  {
   "cell_type": "markdown",
   "id": "printable-reward",
   "metadata": {},
   "source": [
    "## Multiple myeloma"
   ]
  },
  {
   "cell_type": "code",
   "execution_count": 107,
   "id": "particular-reggae",
   "metadata": {},
   "outputs": [],
   "source": [
    "dx_codes_icd9_Multiplemyeloma = tuple(['2030', '20300', '20301', '2038', '20380', '20381'])\n",
    "dx_codes_icd10_Multiplemyeloma = tuple(['C90'])"
   ]
  },
  {
   "cell_type": "markdown",
   "id": "united-paint",
   "metadata": {},
   "source": [
    "## Skin cancer"
   ]
  },
  {
   "cell_type": "code",
   "execution_count": 108,
   "id": "adapted-replacement",
   "metadata": {},
   "outputs": [],
   "source": [
    "dx_codes_icd9_Skincancer = tuple(['172','173'])\n",
    "dx_codes_icd10_Skincancer = tuple(['C43','C44','C4A'])"
   ]
  },
  {
   "cell_type": "markdown",
   "id": "respiratory-cylinder",
   "metadata": {},
   "source": [
    "## Secondary cancer"
   ]
  },
  {
   "cell_type": "code",
   "execution_count": 109,
   "id": "parallel-stadium",
   "metadata": {},
   "outputs": [],
   "source": [
    "dx_codes_icd9_Secondarycancer = tuple(['196', '197', '198'])\n",
    "dx_codes_icd10_Secondarycancer = tuple(['C77', 'C78', 'C79', 'C7B'])"
   ]
  },
  {
   "cell_type": "markdown",
   "id": "anticipated-limit",
   "metadata": {},
   "source": [
    "## Assemble them"
   ]
  },
  {
   "cell_type": "code",
   "execution_count": 117,
   "id": "different-arbitration",
   "metadata": {},
   "outputs": [],
   "source": [
    "icd9_list = [dx_codes_icd9_Headandneckcancer,\n",
    "             dx_codes_icd9_Esophagealcancer,\n",
    "             dx_codes_icd9_Stomachcancer,\n",
    "             dx_codes_icd9_Smallintestine,\n",
    "             dx_codes_icd9_Colorectalcancer,\n",
    "             dx_codes_icd9_Livercancer,\n",
    "             dx_codes_icd9_Pancreaticcancer,\n",
    "             dx_codes_icd9_Lungcaner,\n",
    "             dx_codes_icd9_Breastcancer,\n",
    "             dx_codes_icd9_Uteralcancer,\n",
    "             dx_codes_icd9_Cervicalcancer,\n",
    "             dx_codes_icd9_Ovariancancer,\n",
    "             dx_codes_icd9_Prostatecancer,\n",
    "             dx_codes_icd9_Testicularcancer,\n",
    "             dx_codes_icd9_Bladdercancer,\n",
    "             dx_codes_icd9_Kidneycancer,\n",
    "             dx_codes_icd9_Braincancer,\n",
    "             dx_codes_icd9_Thyroidcancer,\n",
    "             dx_codes_icd9_Hodgkinslymphoma,\n",
    "             dx_codes_icd9_NonHodgkinslymphoma,\n",
    "             dx_codes_icd9_Leukemias,\n",
    "             dx_codes_icd9_Multiplemyeloma,\n",
    "             dx_codes_icd9_Skincancer,\n",
    "             dx_codes_icd9_Secondarycancer\n",
    "            ]\n",
    "\n",
    "icd10_list = [dx_codes_icd10_Headandneckcancer,\n",
    "             dx_codes_icd10_Esophagealcancer,\n",
    "             dx_codes_icd10_Stomachcancer,\n",
    "             dx_codes_icd10_Smallintestine,\n",
    "             dx_codes_icd10_Colorectalcancer,\n",
    "             dx_codes_icd10_Livercancer,\n",
    "             dx_codes_icd10_Pancreaticcancer,\n",
    "             dx_codes_icd10_Lungcaner,\n",
    "             dx_codes_icd10_Breastcancer,\n",
    "             dx_codes_icd10_Uteralcancer,\n",
    "             dx_codes_icd10_Cervicalcancer,\n",
    "             dx_codes_icd10_Ovariancancer,\n",
    "             dx_codes_icd10_Prostatecancer,\n",
    "             dx_codes_icd10_Testicularcancer,\n",
    "             dx_codes_icd10_Bladdercancer,\n",
    "             dx_codes_icd10_Kidneycancer,\n",
    "             dx_codes_icd10_Braincancer,\n",
    "             dx_codes_icd10_Thyroidcancer,\n",
    "             dx_codes_icd10_Hodgkinslymphoma,\n",
    "             dx_codes_icd10_NonHodgkinslymphoma,\n",
    "             dx_codes_icd10_Leukemias,\n",
    "             dx_codes_icd10_Multiplemyeloma,\n",
    "             dx_codes_icd10_Skincancer,\n",
    "             dx_codes_icd10_Secondarycancer\n",
    "            ]\n",
    "\n",
    "subtype_list = ['Head and neck',\n",
    "                'Esophageal',\n",
    "                'Stomach',\n",
    "                'Small intestine',\n",
    "                'Colorectal',\n",
    "                'Liver',\n",
    "                'Pancretic',\n",
    "                'Lung',\n",
    "                'Breast',\n",
    "                'Uteral',\n",
    "                'Cervical',\n",
    "                'Ovarian',\n",
    "                'Prostate',\n",
    "                'Testicular',\n",
    "                'Bladder',\n",
    "                'Kidney',\n",
    "                'Brain',\n",
    "                'Thyroid',\n",
    "                'Hodgkin\\'s lymphoma',\n",
    "                'Non-Hodgkin\\'s lymphoma',\n",
    "                'Leukemias',\n",
    "                'Multiple myeloma',\n",
    "                'Skin',\n",
    "                'Secondar cancer']"
   ]
  },
  {
   "cell_type": "code",
   "execution_count": 135,
   "id": "stock-broadcast",
   "metadata": {},
   "outputs": [
    {
     "name": "stdout",
     "output_type": "stream",
     "text": [
      "-----------------tagging cancer subtypes, please wait:\n",
      "Done in --- 15.189109325408936 seconds ---\n"
     ]
    }
   ],
   "source": [
    "pid_dx_subtypes = pid_dx_all.loc[pid_dx_all['ID']==\"\"].reset_index(drop=True)\n",
    "\n",
    "print(\"-----------------tagging cancer subtypes, please wait:\")\n",
    "start_time = time.time()\n",
    "for indx, sub in enumerate(subtype_list):\n",
    "    dx_codes_icd9_tmp = icd9_list[indx]\n",
    "    dx_codes_icd10_tmp = icd10_list[indx]\n",
    "    \n",
    "    #diagnosis\n",
    "    pid_dx_subtypes_tmp = extract_cancer_pid(df=pid_dx_all,\\\n",
    "                                         extract_from_col=\"DX\",\\\n",
    "                                         code_type_col=\"DX_TYPE\",\\\n",
    "                                         codes_icd9=dx_codes_icd9_tmp,\\\n",
    "                                         codes_icd10=dx_codes_icd10_tmp,\\\n",
    "                                         subtype=sub)\n",
    "\n",
    "    pid_dx_subtypes = pd.concat([pid_dx_subtypes,pid_dx_subtypes_tmp]).\\\n",
    "                                drop_duplicates(ignore_index=True)\n",
    "    \n",
    "print(\"Done in --- %s seconds ---\" % (time.time() - start_time))"
   ]
  },
  {
   "cell_type": "markdown",
   "id": "suspected-wound",
   "metadata": {},
   "source": [
    "## Other"
   ]
  },
  {
   "cell_type": "code",
   "execution_count": 138,
   "id": "rental-pocket",
   "metadata": {},
   "outputs": [],
   "source": [
    "pid_dx_subtypes_other = pid_dx_all.loc[~is_in_set_pnb(pid_dx_all['ID'],pid_dx_subtypes['ID'])]\n",
    "pid_dx_subtypes_other['subtype']='Other'"
   ]
  },
  {
   "cell_type": "markdown",
   "id": "greater-differential",
   "metadata": {},
   "source": [
    "## Finalizing"
   ]
  },
  {
   "cell_type": "code",
   "execution_count": 139,
   "id": "canadian-soldier",
   "metadata": {},
   "outputs": [],
   "source": [
    "pid_dx_subtypes = pd.concat([pid_dx_subtypes,pid_dx_subtypes_other])"
   ]
  },
  {
   "cell_type": "code",
   "execution_count": 142,
   "id": "golden-canadian",
   "metadata": {},
   "outputs": [
    {
     "name": "stdout",
     "output_type": "stream",
     "text": [
      "Pass\n"
     ]
    }
   ],
   "source": [
    "#checksum ID\n",
    "if len(set(pid_dx_subtypes['ID'])) == len(set(pid_dx_all['ID'])):\n",
    "    print(\"Pass\")\n",
    "else:\n",
    "    print(\"Fail\")"
   ]
  },
  {
   "cell_type": "markdown",
   "id": "cosmetic-restaurant",
   "metadata": {},
   "source": [
    "# write"
   ]
  },
  {
   "cell_type": "code",
   "execution_count": 146,
   "id": "powerful-evanescence",
   "metadata": {},
   "outputs": [],
   "source": [
    "pickle.dump(pid_dx_subtypes,open('/data/datasets/changyuyin/2_COVIDwithCancer/pid_dx_cancer_subtypes.pkl','wb'))"
   ]
  }
 ],
 "metadata": {
  "kernelspec": {
   "display_name": "rapids-changyu.yin",
   "language": "python",
   "name": "changyu.yin-rapids-22.12"
  },
  "language_info": {
   "codemirror_mode": {
    "name": "ipython",
    "version": 3
   },
   "file_extension": ".py",
   "mimetype": "text/x-python",
   "name": "python",
   "nbconvert_exporter": "python",
   "pygments_lexer": "ipython3",
   "version": "3.9.15"
  },
  "toc-autonumbering": true
 },
 "nbformat": 4,
 "nbformat_minor": 5
}

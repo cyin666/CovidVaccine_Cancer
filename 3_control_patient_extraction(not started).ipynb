{
 "cells": [
  {
   "cell_type": "code",
   "execution_count": 6,
   "id": "numerical-disaster",
   "metadata": {},
   "outputs": [],
   "source": [
    "#package loading \n",
    "import sklearn\n",
    "import pandas as pd\n",
    "import numpy as np\n",
    "import matplotlib.pyplot as plt\n",
    "import seaborn as sns\n",
    "from dateutil.relativedelta import relativedelta\n",
    "from scipy.stats import percentileofscore\n",
    "from tqdm import tqdm\n",
    "import cudf"
   ]
  },
  {
   "cell_type": "code",
   "execution_count": null,
   "id": "nutritional-sierra",
   "metadata": {},
   "outputs": [],
   "source": [
    "from utility import *"
   ]
  },
  {
   "cell_type": "markdown",
   "id": "organized-drove",
   "metadata": {},
   "source": [
    "# 1. Read datasets"
   ]
  },
  {
   "cell_type": "code",
   "execution_count": 7,
   "id": "explicit-shower",
   "metadata": {},
   "outputs": [],
   "source": [
    "data_wd = \"/data/datasets/Tianchen/2022_covid_pasc_1FL_data/20221020/covid_database\""
   ]
  },
  {
   "cell_type": "code",
   "execution_count": 8,
   "id": "breeding-nirvana",
   "metadata": {},
   "outputs": [
    {
     "name": "stderr",
     "output_type": "stream",
     "text": [
      "/tmp/ipykernel_25999/3208235642.py:2: DtypeWarning: Columns (7,8,12) have mixed types. Specify dtype option on import or set low_memory=False.\n",
      "  diagnosis_cov = pd.read_csv(data_wd+\"/DIAGNOSIS.csv\",header=0,skiprows=[1])\n",
      "/tmp/ipykernel_25999/3208235642.py:3: DtypeWarning: Columns (2,3,5,6,9,10,12,13,15,17,21,23) have mixed types. Specify dtype option on import or set low_memory=False.\n",
      "  lab_result_cm_cov = pd.read_csv(data_wd+\"/LAB_RESULT_CM.csv\",header=0,skiprows=[1])\n",
      "/tmp/ipykernel_25999/3208235642.py:4: DtypeWarning: Columns (6,7,9,10,13,14,18) have mixed types. Specify dtype option on import or set low_memory=False.\n",
      "  obs_gen_cov = pd.read_csv(data_wd+\"/OBS_GEN.csv\",header=0,skiprows=[1])\n",
      "/tmp/ipykernel_25999/3208235642.py:5: DtypeWarning: Columns (6) have mixed types. Specify dtype option on import or set low_memory=False.\n",
      "  procedure_cov = pd.read_csv(data_wd+\"/PROCEDURES.csv\",header=0,skiprows=[1])\n"
     ]
    }
   ],
   "source": [
    "# covid database\n",
    "diagnosis_cov = pd.read_csv(data_wd+\"/DIAGNOSIS.csv\",header=0,skiprows=[1])\n",
    "lab_result_cm_cov = pd.read_csv(data_wd+\"/LAB_RESULT_CM.csv\",header=0,skiprows=[1])\n",
    "obs_gen_cov = pd.read_csv(data_wd+\"/OBS_GEN.csv\",header=0,skiprows=[1])\n",
    "procedure_cov = pd.read_csv(data_wd+\"/PROCEDURES.csv\",header=0,skiprows=[1])\n",
    "demographics_cov = pd.read_csv(data_wd+\"/DEMOGRAPHIC.csv\",header=0,skiprows=[1])"
   ]
  },
  {
   "cell_type": "code",
   "execution_count": null,
   "id": "spare-suicide",
   "metadata": {},
   "outputs": [],
   "source": []
  },
  {
   "cell_type": "code",
   "execution_count": 9,
   "id": "damaged-vitamin",
   "metadata": {},
   "outputs": [],
   "source": [
    "data_wd = \"/data/datasets/Tianchen/2022_covid_pasc_1FL_data/20221020/main_database\""
   ]
  },
  {
   "cell_type": "code",
   "execution_count": 10,
   "id": "generic-lying",
   "metadata": {},
   "outputs": [
    {
     "name": "stderr",
     "output_type": "stream",
     "text": [
      "/tmp/ipykernel_25999/3211017016.py:2: DtypeWarning: Columns (7,8,12) have mixed types. Specify dtype option on import or set low_memory=False.\n",
      "  diagnosis_m = pd.read_csv(data_wd+\"/DIAGNOSIS.csv\",header=0,skiprows=[1])\n",
      "/tmp/ipykernel_25999/3211017016.py:3: DtypeWarning: Columns (9,10,12,13,17,21,23,25) have mixed types. Specify dtype option on import or set low_memory=False.\n",
      "  lab_result_cm_m = pd.read_csv(data_wd+\"/LAB_RESULT_CM.csv\",header=0,skiprows=[1])\n",
      "/tmp/ipykernel_25999/3211017016.py:4: DtypeWarning: Columns (6,7,9,10,18) have mixed types. Specify dtype option on import or set low_memory=False.\n",
      "  obs_gen_m = pd.read_csv(data_wd+\"/OBS_GEN.csv\",header=0,skiprows=[1])\n",
      "/tmp/ipykernel_25999/3211017016.py:5: DtypeWarning: Columns (5) have mixed types. Specify dtype option on import or set low_memory=False.\n",
      "  procedure_m = pd.read_csv(data_wd+\"/PROCEDURES.csv\",header=0,skiprows=[1])\n"
     ]
    }
   ],
   "source": [
    "# general database\n",
    "diagnosis_m = pd.read_csv(data_wd+\"/DIAGNOSIS.csv\",header=0,skiprows=[1])\n",
    "lab_result_cm_m = pd.read_csv(data_wd+\"/LAB_RESULT_CM.csv\",header=0,skiprows=[1])\n",
    "obs_gen_m = pd.read_csv(data_wd+\"/OBS_GEN.csv\",header=0,skiprows=[1])\n",
    "procedure_m = pd.read_csv(data_wd+\"/PROCEDURES.csv\",header=0,skiprows=[1])\n",
    "demographics_m = pd.read_csv(data_wd+\"/DEMOGRAPHIC.csv\",header=0,skiprows=[1])"
   ]
  },
  {
   "cell_type": "code",
   "execution_count": 11,
   "id": "stock-macro",
   "metadata": {},
   "outputs": [
    {
     "name": "stdout",
     "output_type": "stream",
     "text": [
      "[ True  True  True  True  True  True  True  True  True  True  True  True\n",
      "  True  True]\n",
      "[ True  True  True  True  True  True  True  True  True  True  True  True\n",
      "  True  True  True  True  True  True  True  True  True  True  True  True\n",
      "  True  True  True]\n",
      "[ True  True  True  True  True  True  True  True  True  True  True  True\n",
      "  True  True  True  True  True  True  True  True]\n",
      "[ True  True  True  True  True  True  True  True  True  True  True  True]\n",
      "[ True  True  True  True  True  True  True  True  True  True  True  True]\n"
     ]
    }
   ],
   "source": [
    "print(diagnosis_m.columns == diagnosis_cov.columns)\n",
    "print(lab_result_cm_m.columns == lab_result_cm_cov.columns)\n",
    "print(obs_gen_m.columns == obs_gen_cov.columns)\n",
    "print(procedure_m.columns == procedure_cov.columns)\n",
    "print(demographics_m.columns == demographics_cov.columns)"
   ]
  },
  {
   "cell_type": "code",
   "execution_count": 12,
   "id": "refined-smile",
   "metadata": {},
   "outputs": [
    {
     "name": "stdout",
     "output_type": "stream",
     "text": [
      "complete diagnosis\n",
      "complete lab_result_cm\n",
      "complete obs_gen\n",
      "complete procedure\n",
      "complete demographics\n"
     ]
    }
   ],
   "source": [
    "# union them\n",
    "diagnosis = pd.concat([diagnosis_m,diagnosis_cov])\n",
    "print(\"complete diagnosis\")\n",
    "lab_result_cm = pd.concat([lab_result_cm_m,lab_result_cm_cov])\n",
    "print(\"complete lab_result_cm\")\n",
    "obs_gen = pd.concat([obs_gen_m,obs_gen_cov])\n",
    "print(\"complete obs_gen\")\n",
    "procedure = pd.concat([procedure_m,procedure_cov])\n",
    "print(\"complete procedure\")\n",
    "demographics = pd.concat([demographics_m,demographics_cov])\n",
    "print(\"complete demographics\")"
   ]
  },
  {
   "cell_type": "code",
   "execution_count": 13,
   "id": "comprehensive-guyana",
   "metadata": {},
   "outputs": [],
   "source": [
    "#release memory\n",
    "del(diagnosis_m)\n",
    "del(diagnosis_cov)\n",
    "del(lab_result_cm_m)\n",
    "del(lab_result_cm_cov)\n",
    "del(obs_gen_m)\n",
    "del(obs_gen_cov)\n",
    "del(procedure_m)\n",
    "del(procedure_cov)\n",
    "del(demographics_m)\n",
    "del(demographics_cov)"
   ]
  },
  {
   "cell_type": "markdown",
   "id": "similar-hundred",
   "metadata": {},
   "source": [
    "# 2. Extract COVID patients"
   ]
  },
  {
   "cell_type": "markdown",
   "id": "current-hunger",
   "metadata": {},
   "source": [
    "## 2.1 import index date and cohort definition"
   ]
  },
  {
   "cell_type": "code",
   "execution_count": 14,
   "id": "binding-credit",
   "metadata": {},
   "outputs": [],
   "source": [
    "#pasc and covid inex dates\n",
    "index_date = pd.read_csv('/data/datasets/Tianchen/2022_covid_pasc_1FL_data/20221020/covid_pasc_cohort.csv')"
   ]
  },
  {
   "cell_type": "code",
   "execution_count": 15,
   "id": "perceived-puppy",
   "metadata": {},
   "outputs": [
    {
     "data": {
      "text/plain": [
       "cont    224041\n",
       "case      5651\n",
       "Name: group, dtype: int64"
      ]
     },
     "execution_count": 15,
     "metadata": {},
     "output_type": "execute_result"
    }
   ],
   "source": [
    "index_date['group'].value_counts()"
   ]
  },
  {
   "cell_type": "code",
   "execution_count": 16,
   "id": "divided-implement",
   "metadata": {},
   "outputs": [
    {
     "data": {
      "text/html": [
       "<div>\n",
       "<style scoped>\n",
       "    .dataframe tbody tr th:only-of-type {\n",
       "        vertical-align: middle;\n",
       "    }\n",
       "\n",
       "    .dataframe tbody tr th {\n",
       "        vertical-align: top;\n",
       "    }\n",
       "\n",
       "    .dataframe thead th {\n",
       "        text-align: right;\n",
       "    }\n",
       "</style>\n",
       "<table border=\"1\" class=\"dataframe\">\n",
       "  <thead>\n",
       "    <tr style=\"text-align: right;\">\n",
       "      <th></th>\n",
       "      <th>ID</th>\n",
       "      <th>index_date</th>\n",
       "      <th>pasc_onset_date</th>\n",
       "      <th>group</th>\n",
       "    </tr>\n",
       "  </thead>\n",
       "  <tbody>\n",
       "    <tr>\n",
       "      <th>0</th>\n",
       "      <td>19Oct2022covidpasc00003601</td>\n",
       "      <td>2022-01-13</td>\n",
       "      <td>NaN</td>\n",
       "      <td>cont</td>\n",
       "    </tr>\n",
       "    <tr>\n",
       "      <th>1</th>\n",
       "      <td>19Oct2022covidpasc00003602</td>\n",
       "      <td>2020-09-30</td>\n",
       "      <td>NaN</td>\n",
       "      <td>cont</td>\n",
       "    </tr>\n",
       "    <tr>\n",
       "      <th>2</th>\n",
       "      <td>19Oct2022covidpasc00003603</td>\n",
       "      <td>2020-06-15</td>\n",
       "      <td>NaN</td>\n",
       "      <td>cont</td>\n",
       "    </tr>\n",
       "    <tr>\n",
       "      <th>3</th>\n",
       "      <td>19Oct2022covidpasc00003604</td>\n",
       "      <td>2020-07-07</td>\n",
       "      <td>NaN</td>\n",
       "      <td>cont</td>\n",
       "    </tr>\n",
       "    <tr>\n",
       "      <th>4</th>\n",
       "      <td>19Oct2022covidpasc00003605</td>\n",
       "      <td>2021-01-13</td>\n",
       "      <td>NaN</td>\n",
       "      <td>cont</td>\n",
       "    </tr>\n",
       "  </tbody>\n",
       "</table>\n",
       "</div>"
      ],
      "text/plain": [
       "                           ID  index_date pasc_onset_date group\n",
       "0  19Oct2022covidpasc00003601  2022-01-13             NaN  cont\n",
       "1  19Oct2022covidpasc00003602  2020-09-30             NaN  cont\n",
       "2  19Oct2022covidpasc00003603  2020-06-15             NaN  cont\n",
       "3  19Oct2022covidpasc00003604  2020-07-07             NaN  cont\n",
       "4  19Oct2022covidpasc00003605  2021-01-13             NaN  cont"
      ]
     },
     "execution_count": 16,
     "metadata": {},
     "output_type": "execute_result"
    }
   ],
   "source": [
    "index_date.head()"
   ]
  },
  {
   "cell_type": "markdown",
   "id": "stock-venture",
   "metadata": {},
   "source": [
    "## 2.2 choose those with covid19 index date"
   ]
  },
  {
   "cell_type": "code",
   "execution_count": 17,
   "id": "invalid-divorce",
   "metadata": {},
   "outputs": [],
   "source": [
    "#choose those with covid19 index date\n",
    "index_date = index_date.loc[~index_date['index_date'].isna()]"
   ]
  },
  {
   "cell_type": "code",
   "execution_count": 18,
   "id": "dietary-kennedy",
   "metadata": {},
   "outputs": [
    {
     "data": {
      "text/plain": [
       "cont    224041\n",
       "case      1937\n",
       "Name: group, dtype: int64"
      ]
     },
     "execution_count": 18,
     "metadata": {},
     "output_type": "execute_result"
    }
   ],
   "source": [
    "index_date['group'].value_counts()"
   ]
  },
  {
   "cell_type": "markdown",
   "id": "casual-boring",
   "metadata": {},
   "source": [
    "## 2.3 choose those with pasc date after covid date"
   ]
  },
  {
   "cell_type": "code",
   "execution_count": 19,
   "id": "circular-print",
   "metadata": {},
   "outputs": [],
   "source": [
    "index_date['index_date'] = pd.to_datetime(index_date['index_date'])\n",
    "index_date['pasc_onset_date'] = pd.to_datetime(index_date['pasc_onset_date'])"
   ]
  },
  {
   "cell_type": "code",
   "execution_count": 20,
   "id": "joint-surrey",
   "metadata": {},
   "outputs": [],
   "source": [
    "index_date = index_date.loc[(index_date['index_date']<index_date['pasc_onset_date'])|index_date['pasc_onset_date'].isna()]"
   ]
  },
  {
   "cell_type": "code",
   "execution_count": 21,
   "id": "inappropriate-license",
   "metadata": {},
   "outputs": [
    {
     "data": {
      "text/plain": [
       "cont    224041\n",
       "case      1706\n",
       "Name: group, dtype: int64"
      ]
     },
     "execution_count": 21,
     "metadata": {},
     "output_type": "execute_result"
    }
   ],
   "source": [
    "index_date['group'].value_counts()"
   ]
  },
  {
   "cell_type": "markdown",
   "id": "fiscal-disorder",
   "metadata": {},
   "source": [
    "# 3. Demographics preprocessing"
   ]
  },
  {
   "cell_type": "markdown",
   "id": "thousand-spectacular",
   "metadata": {},
   "source": [
    "## 3.1 drop duplicate"
   ]
  },
  {
   "cell_type": "code",
   "execution_count": 22,
   "id": "southeast-lighting",
   "metadata": {},
   "outputs": [
    {
     "name": "stdout",
     "output_type": "stream",
     "text": [
      "(455995, 12)\n",
      "(229689, 12)\n"
     ]
    }
   ],
   "source": [
    "# This is because there are two database to be merged, i.e. covid database and general databse. The medical records are not duplicates abut the patient demographics are.\n",
    "print(demographics.shape)\n",
    "demographics = demographics.drop_duplicates(['ID'])\n",
    "print(demographics.shape)"
   ]
  },
  {
   "cell_type": "markdown",
   "id": "finnish-valley",
   "metadata": {},
   "source": [
    "## 3.1 1st filter by index date cohorts"
   ]
  },
  {
   "cell_type": "code",
   "execution_count": 23,
   "id": "funny-refrigerator",
   "metadata": {},
   "outputs": [
    {
     "name": "stdout",
     "output_type": "stream",
     "text": [
      "(229689, 12)\n",
      "(225744, 3)\n"
     ]
    }
   ],
   "source": [
    "#pair demographics and index date\n",
    "print(demographics.shape)\n",
    "demographics = pd.merge(demographics,index_date,left_on='ID',right_on='ID',how='inner')\n",
    "demographics = demographics[['ID', 'index_date','pasc_onset_date']]\n",
    "print(demographics.shape)"
   ]
  },
  {
   "cell_type": "markdown",
   "id": "civilian-interval",
   "metadata": {},
   "source": [
    "# 4. Extract cancer patient cohort by ICD codes"
   ]
  },
  {
   "cell_type": "markdown",
   "id": "loaded-candy",
   "metadata": {},
   "source": [
    "## 4.1 From Diagnosis"
   ]
  },
  {
   "cell_type": "code",
   "execution_count": 24,
   "id": "expressed-interview",
   "metadata": {},
   "outputs": [
    {
     "name": "stdout",
     "output_type": "stream",
     "text": [
      "Index(['DIAGNOSISID', 'ID', 'ENCOUNTERID', 'ENC_TYPE', 'ADMIT_DATE',\n",
      "       'PROVIDERID', 'DX', 'DX_TYPE', 'DX_DATE', 'DX_SOURCE', 'DX_ORIGIN',\n",
      "       'PDX', 'DX_POA', 'SOURCE_masked'],\n",
      "      dtype='object')\n"
     ]
    },
    {
     "data": {
      "text/html": [
       "<div>\n",
       "<style scoped>\n",
       "    .dataframe tbody tr th:only-of-type {\n",
       "        vertical-align: middle;\n",
       "    }\n",
       "\n",
       "    .dataframe tbody tr th {\n",
       "        vertical-align: top;\n",
       "    }\n",
       "\n",
       "    .dataframe thead th {\n",
       "        text-align: right;\n",
       "    }\n",
       "</style>\n",
       "<table border=\"1\" class=\"dataframe\">\n",
       "  <thead>\n",
       "    <tr style=\"text-align: right;\">\n",
       "      <th></th>\n",
       "      <th>DIAGNOSISID</th>\n",
       "      <th>ID</th>\n",
       "      <th>ENCOUNTERID</th>\n",
       "      <th>ENC_TYPE</th>\n",
       "      <th>ADMIT_DATE</th>\n",
       "      <th>PROVIDERID</th>\n",
       "      <th>DX</th>\n",
       "      <th>DX_TYPE</th>\n",
       "      <th>DX_DATE</th>\n",
       "      <th>DX_SOURCE</th>\n",
       "      <th>DX_ORIGIN</th>\n",
       "      <th>PDX</th>\n",
       "      <th>DX_POA</th>\n",
       "      <th>SOURCE_masked</th>\n",
       "    </tr>\n",
       "  </thead>\n",
       "  <tbody>\n",
       "    <tr>\n",
       "      <th>0</th>\n",
       "      <td>cfhOcroEQlKorQC+</td>\n",
       "      <td>19Oct2022covidpasc00089945</td>\n",
       "      <td>cfhOcbsFSV6trgI=</td>\n",
       "      <td>IP</td>\n",
       "      <td>2017-11-09</td>\n",
       "      <td>cfhOcrkLSlE=</td>\n",
       "      <td>K21.9</td>\n",
       "      <td>10</td>\n",
       "      <td>NaN</td>\n",
       "      <td>DI</td>\n",
       "      <td>BI</td>\n",
       "      <td>S</td>\n",
       "      <td>Y</td>\n",
       "      <td>source_3</td>\n",
       "    </tr>\n",
       "    <tr>\n",
       "      <th>1</th>\n",
       "      <td>cfhOcroEQlKorQC/</td>\n",
       "      <td>19Oct2022covidpasc00089945</td>\n",
       "      <td>cfhOcbsFSV6trgI=</td>\n",
       "      <td>IP</td>\n",
       "      <td>2017-11-09</td>\n",
       "      <td>cfhOcrkLSlE=</td>\n",
       "      <td>M19.90</td>\n",
       "      <td>10</td>\n",
       "      <td>NaN</td>\n",
       "      <td>DI</td>\n",
       "      <td>BI</td>\n",
       "      <td>S</td>\n",
       "      <td>Y</td>\n",
       "      <td>source_3</td>\n",
       "    </tr>\n",
       "    <tr>\n",
       "      <th>2</th>\n",
       "      <td>cfhOcroEQlKorQC4</td>\n",
       "      <td>19Oct2022covidpasc00089945</td>\n",
       "      <td>cfhOcbsFSV6trgI=</td>\n",
       "      <td>IP</td>\n",
       "      <td>2017-11-09</td>\n",
       "      <td>cfhOcrkLSlE=</td>\n",
       "      <td>E78.5</td>\n",
       "      <td>10</td>\n",
       "      <td>NaN</td>\n",
       "      <td>DI</td>\n",
       "      <td>BI</td>\n",
       "      <td>S</td>\n",
       "      <td>Y</td>\n",
       "      <td>source_3</td>\n",
       "    </tr>\n",
       "    <tr>\n",
       "      <th>3</th>\n",
       "      <td>cfhOcroEQlKorQC5</td>\n",
       "      <td>19Oct2022covidpasc00089945</td>\n",
       "      <td>cfhOcbsFSV6trgI=</td>\n",
       "      <td>IP</td>\n",
       "      <td>2017-11-09</td>\n",
       "      <td>cfhOcrkLSlE=</td>\n",
       "      <td>I10</td>\n",
       "      <td>10</td>\n",
       "      <td>NaN</td>\n",
       "      <td>DI</td>\n",
       "      <td>BI</td>\n",
       "      <td>S</td>\n",
       "      <td>Y</td>\n",
       "      <td>source_3</td>\n",
       "    </tr>\n",
       "    <tr>\n",
       "      <th>4</th>\n",
       "      <td>cfhOcroEQlKorQC6</td>\n",
       "      <td>19Oct2022covidpasc00089945</td>\n",
       "      <td>cfhOcbsFSV6trgI=</td>\n",
       "      <td>IP</td>\n",
       "      <td>2017-11-09</td>\n",
       "      <td>cfhOcrkLSlE=</td>\n",
       "      <td>I25.10</td>\n",
       "      <td>10</td>\n",
       "      <td>NaN</td>\n",
       "      <td>DI</td>\n",
       "      <td>BI</td>\n",
       "      <td>S</td>\n",
       "      <td>Y</td>\n",
       "      <td>source_3</td>\n",
       "    </tr>\n",
       "  </tbody>\n",
       "</table>\n",
       "</div>"
      ],
      "text/plain": [
       "        DIAGNOSISID                          ID       ENCOUNTERID ENC_TYPE  \\\n",
       "0  cfhOcroEQlKorQC+  19Oct2022covidpasc00089945  cfhOcbsFSV6trgI=       IP   \n",
       "1  cfhOcroEQlKorQC/  19Oct2022covidpasc00089945  cfhOcbsFSV6trgI=       IP   \n",
       "2  cfhOcroEQlKorQC4  19Oct2022covidpasc00089945  cfhOcbsFSV6trgI=       IP   \n",
       "3  cfhOcroEQlKorQC5  19Oct2022covidpasc00089945  cfhOcbsFSV6trgI=       IP   \n",
       "4  cfhOcroEQlKorQC6  19Oct2022covidpasc00089945  cfhOcbsFSV6trgI=       IP   \n",
       "\n",
       "   ADMIT_DATE    PROVIDERID      DX DX_TYPE DX_DATE DX_SOURCE DX_ORIGIN PDX  \\\n",
       "0  2017-11-09  cfhOcrkLSlE=   K21.9      10     NaN        DI        BI   S   \n",
       "1  2017-11-09  cfhOcrkLSlE=  M19.90      10     NaN        DI        BI   S   \n",
       "2  2017-11-09  cfhOcrkLSlE=   E78.5      10     NaN        DI        BI   S   \n",
       "3  2017-11-09  cfhOcrkLSlE=     I10      10     NaN        DI        BI   S   \n",
       "4  2017-11-09  cfhOcrkLSlE=  I25.10      10     NaN        DI        BI   S   \n",
       "\n",
       "  DX_POA SOURCE_masked  \n",
       "0      Y      source_3  \n",
       "1      Y      source_3  \n",
       "2      Y      source_3  \n",
       "3      Y      source_3  \n",
       "4      Y      source_3  "
      ]
     },
     "execution_count": 24,
     "metadata": {},
     "output_type": "execute_result"
    }
   ],
   "source": [
    "print(diagnosis.columns)\n",
    "diagnosis.head()"
   ]
  },
  {
   "cell_type": "code",
   "execution_count": 25,
   "id": "twelve-begin",
   "metadata": {},
   "outputs": [],
   "source": [
    "#Diagnosis ID\n",
    "cond_9_search = tuple([\"140\",\"141\",\"142\",\"143\",\"144\",\"145\",\"146\",\"147\",\"148\",\"149\",\\\n",
    "                       \"150\",\"151\",\"152\",\"153\",\"154\",\"155\",\"156\",\"157\",\"158\",\"159\",\\\n",
    "                       \"160\",\"161\",\"162\",\"163\",\"164\",\"165\",\"166\",\"167\",\"168\",\"169\",\\\n",
    "                       \"170\",\"171\",\"172\",\"173\",\"174\",\"175\",\"176\",\"177\",\"178\",\"179\",\\\n",
    "                       \"180\",\"181\",\"182\",\"183\",\"184\",\"185\",\"186\",\"187\",\"188\",\"189\",\\\n",
    "                       \"190\",\"191\",\"192\",\"193\",\"194\",\\\n",
    "                       \"195.0\",\"195.1\",\"195.2\",\"195.3\",\"195.4\",\"195.5\",\"195.6\",\"195.7\",\"195.8\",\\\n",
    "                       \"1950\",\"1951\",\"1952\",\"1953\",\"1954\",\"1955\",\"1956\",\"1957\",\"1958\",\\\n",
    "                       \"200\",\"201\",\"202\",\"203\",\"204\",\"205\",\"206\",\"207\",\"208\",\"238.6\",\"2386\"])\n",
    "cond_10_search = tuple([\"C00\",\"C01\",\"C02\",\"C03\",\"C04\",\"C05\",\"C06\",\"C07\",\"C08\",\"C09\",\\\n",
    "                       \"C10\",\"C11\",\"C12\",\"C13\",\"C14\",\"C15\",\"C16\",\"C17\",\"C18\",\"C19\",\\\n",
    "                       \"C20\",\"C21\",\"C22\",\"C23\",\"C24\",\"C25\",\"C26\",\"C30\",\"C31\",\"C32\",\\\n",
    "                       \"C33\",\"C34\",\"C37\",\"C38\",\"C39\",\"C40\",\"C41\",\"C43\",\"C45\",\"C46\",\\\n",
    "                       \"C47\",\"C48\",\"C49\",\"C50\",\"C51\",\"C52\",\"C53\",\"C54\",\"C55\",\"C56\",\\\n",
    "                       \"C57\",\"C58\",\"C60\",\"C61\",\"C62\",\"C63\",\"C64\",\"C65\",\"C66\",\"C67\",\\\n",
    "                        \"C68\",\"C69\",\"C70\",\"C71\",\"C72\",\"C73\",\"C74\",\"C75\",\"C76\",\"C81\",\\\n",
    "                        \"C82\",\"C83\",\"C84\",\"C85\",\"C88\",\"C90\",\"C91\",\"C92\",\"C93\",\"C94\",\\\n",
    "                        \"C95\",\"C96\",\"C97\"])\n",
    "cond_9_add = diagnosis.DX == \"195\"\n",
    "cond_9_search_result = diagnosis.DX.str.startswith(cond_9_search,na=False)\n",
    "cond_10_search_result = diagnosis.DX.str.startswith(cond_10_search,na=False)"
   ]
  },
  {
   "cell_type": "code",
   "execution_count": 26,
   "id": "restricted-enzyme",
   "metadata": {},
   "outputs": [
    {
     "name": "stdout",
     "output_type": "stream",
     "text": [
      "{9, 10, '10', 'SM', 'OT', '09'}\n",
      "10    114479274\n",
      "9      25905869\n",
      "10      1384179\n",
      "09       249695\n",
      "SM         4465\n",
      "OT           61\n",
      "Name: DX_TYPE, dtype: int64\n"
     ]
    }
   ],
   "source": [
    "#Diagnosis vocabulary type\n",
    "print(set(diagnosis['DX_TYPE']))\n",
    "print(diagnosis['DX_TYPE'].value_counts())"
   ]
  },
  {
   "cell_type": "code",
   "execution_count": 27,
   "id": "great-somerset",
   "metadata": {},
   "outputs": [],
   "source": [
    "cond_9_type = diagnosis['DX_TYPE'].isin(['09','9',9])\n",
    "cond_10_type = diagnosis['DX_TYPE'].isin(['10',10])"
   ]
  },
  {
   "cell_type": "code",
   "execution_count": 28,
   "id": "surprised-delay",
   "metadata": {},
   "outputs": [
    {
     "name": "stdout",
     "output_type": "stream",
     "text": [
      "0\n",
      "0\n"
     ]
    }
   ],
   "source": [
    "print(np.sum(cond_9_type)-25905869-249695)\n",
    "print(np.sum(cond_10_type)- 114479274-1384179)"
   ]
  },
  {
   "cell_type": "code",
   "execution_count": 29,
   "id": "affected-trauma",
   "metadata": {},
   "outputs": [
    {
     "name": "stdout",
     "output_type": "stream",
     "text": [
      "1637292\n"
     ]
    }
   ],
   "source": [
    "cond_final = ( (cond_9_type&(cond_9_add|cond_9_search_result)) | (cond_10_type&cond_10_search_result) )\n",
    "print(np.sum(cond_final))"
   ]
  },
  {
   "cell_type": "code",
   "execution_count": 30,
   "id": "social-feature",
   "metadata": {},
   "outputs": [],
   "source": [
    "all_cancer_diagnosis = diagnosis.loc[cond_final][['DX','ID','DX_TYPE']].drop_duplicates().reset_index(drop=True)\n",
    "all_cancer_diagnosis['domain'] = 'diagnosis'"
   ]
  },
  {
   "cell_type": "code",
   "execution_count": 31,
   "id": "personal-tribute",
   "metadata": {},
   "outputs": [
    {
     "name": "stdout",
     "output_type": "stream",
     "text": [
      "(65499, 4)\n"
     ]
    },
    {
     "data": {
      "text/html": [
       "<div>\n",
       "<style scoped>\n",
       "    .dataframe tbody tr th:only-of-type {\n",
       "        vertical-align: middle;\n",
       "    }\n",
       "\n",
       "    .dataframe tbody tr th {\n",
       "        vertical-align: top;\n",
       "    }\n",
       "\n",
       "    .dataframe thead th {\n",
       "        text-align: right;\n",
       "    }\n",
       "</style>\n",
       "<table border=\"1\" class=\"dataframe\">\n",
       "  <thead>\n",
       "    <tr style=\"text-align: right;\">\n",
       "      <th></th>\n",
       "      <th>DX</th>\n",
       "      <th>ID</th>\n",
       "      <th>DX_TYPE</th>\n",
       "      <th>domain</th>\n",
       "    </tr>\n",
       "  </thead>\n",
       "  <tbody>\n",
       "    <tr>\n",
       "      <th>0</th>\n",
       "      <td>173.59</td>\n",
       "      <td>19Oct2022covidpasc00001980</td>\n",
       "      <td>9</td>\n",
       "      <td>diagnosis</td>\n",
       "    </tr>\n",
       "    <tr>\n",
       "      <th>1</th>\n",
       "      <td>C61</td>\n",
       "      <td>19Oct2022covidpasc00151597</td>\n",
       "      <td>10</td>\n",
       "      <td>diagnosis</td>\n",
       "    </tr>\n",
       "    <tr>\n",
       "      <th>2</th>\n",
       "      <td>C49.3</td>\n",
       "      <td>19Oct2022covidpasc00201094</td>\n",
       "      <td>10</td>\n",
       "      <td>diagnosis</td>\n",
       "    </tr>\n",
       "    <tr>\n",
       "      <th>3</th>\n",
       "      <td>C61</td>\n",
       "      <td>19Oct2022covidpasc00000881</td>\n",
       "      <td>10</td>\n",
       "      <td>diagnosis</td>\n",
       "    </tr>\n",
       "    <tr>\n",
       "      <th>4</th>\n",
       "      <td>C40.21</td>\n",
       "      <td>19Oct2022covidpasc00200080</td>\n",
       "      <td>10</td>\n",
       "      <td>diagnosis</td>\n",
       "    </tr>\n",
       "  </tbody>\n",
       "</table>\n",
       "</div>"
      ],
      "text/plain": [
       "       DX                          ID DX_TYPE     domain\n",
       "0  173.59  19Oct2022covidpasc00001980       9  diagnosis\n",
       "1     C61  19Oct2022covidpasc00151597      10  diagnosis\n",
       "2   C49.3  19Oct2022covidpasc00201094      10  diagnosis\n",
       "3     C61  19Oct2022covidpasc00000881      10  diagnosis\n",
       "4  C40.21  19Oct2022covidpasc00200080      10  diagnosis"
      ]
     },
     "execution_count": 31,
     "metadata": {},
     "output_type": "execute_result"
    }
   ],
   "source": [
    "print(all_cancer_diagnosis.shape)\n",
    "all_cancer_diagnosis.head()"
   ]
  },
  {
   "cell_type": "code",
   "execution_count": 32,
   "id": "parental-eating",
   "metadata": {},
   "outputs": [
    {
     "data": {
      "text/plain": [
       "(65499, 4)"
      ]
     },
     "execution_count": 32,
     "metadata": {},
     "output_type": "execute_result"
    }
   ],
   "source": [
    "all_cancer_diagnosis.shape"
   ]
  },
  {
   "cell_type": "markdown",
   "id": "chicken-eligibility",
   "metadata": {},
   "source": [
    "## 4.2 From Procedure"
   ]
  },
  {
   "cell_type": "code",
   "execution_count": 33,
   "id": "capital-greene",
   "metadata": {},
   "outputs": [
    {
     "name": "stdout",
     "output_type": "stream",
     "text": [
      "Index(['PROCEDURESID', 'ID', 'ENCOUNTERID', 'ENC_TYPE', 'ADMIT_DATE',\n",
      "       'PROVIDERID', 'PX_DATE', 'PX', 'PX_TYPE', 'PX_SOURCE', 'PPX',\n",
      "       'SOURCE_masked'],\n",
      "      dtype='object')\n"
     ]
    },
    {
     "data": {
      "text/html": [
       "<div>\n",
       "<style scoped>\n",
       "    .dataframe tbody tr th:only-of-type {\n",
       "        vertical-align: middle;\n",
       "    }\n",
       "\n",
       "    .dataframe tbody tr th {\n",
       "        vertical-align: top;\n",
       "    }\n",
       "\n",
       "    .dataframe thead th {\n",
       "        text-align: right;\n",
       "    }\n",
       "</style>\n",
       "<table border=\"1\" class=\"dataframe\">\n",
       "  <thead>\n",
       "    <tr style=\"text-align: right;\">\n",
       "      <th></th>\n",
       "      <th>PROCEDURESID</th>\n",
       "      <th>ID</th>\n",
       "      <th>ENCOUNTERID</th>\n",
       "      <th>ENC_TYPE</th>\n",
       "      <th>ADMIT_DATE</th>\n",
       "      <th>PROVIDERID</th>\n",
       "      <th>PX_DATE</th>\n",
       "      <th>PX</th>\n",
       "      <th>PX_TYPE</th>\n",
       "      <th>PX_SOURCE</th>\n",
       "      <th>PPX</th>\n",
       "      <th>SOURCE_masked</th>\n",
       "    </tr>\n",
       "  </thead>\n",
       "  <tbody>\n",
       "    <tr>\n",
       "      <th>0</th>\n",
       "      <td>cfhOcb0DTlShowY=</td>\n",
       "      <td>19Oct2022covidpasc00035975</td>\n",
       "      <td>cfhOd78BSVKhqA==</td>\n",
       "      <td>IP</td>\n",
       "      <td>2015-12-09</td>\n",
       "      <td>cfhOdrEAQg==</td>\n",
       "      <td>2015-12-12</td>\n",
       "      <td>85025</td>\n",
       "      <td>CH</td>\n",
       "      <td>BI</td>\n",
       "      <td>NI</td>\n",
       "      <td>source_3</td>\n",
       "    </tr>\n",
       "    <tr>\n",
       "      <th>1</th>\n",
       "      <td>cfhOcb0DTlShqQQ=</td>\n",
       "      <td>19Oct2022covidpasc00103273</td>\n",
       "      <td>cfhOerwBTl6how==</td>\n",
       "      <td>IP</td>\n",
       "      <td>2015-02-12</td>\n",
       "      <td>cfhOcb0HSw==</td>\n",
       "      <td>2015-02-17</td>\n",
       "      <td>99472</td>\n",
       "      <td>CH</td>\n",
       "      <td>BI</td>\n",
       "      <td>NI</td>\n",
       "      <td>source_3</td>\n",
       "    </tr>\n",
       "    <tr>\n",
       "      <th>2</th>\n",
       "      <td>cfhOcb0DTlShrg==</td>\n",
       "      <td>19Oct2022covidpasc00059292</td>\n",
       "      <td>cfhOcrsLS1Kvrg==</td>\n",
       "      <td>ED</td>\n",
       "      <td>2014-05-29</td>\n",
       "      <td>cfhOe7gF</td>\n",
       "      <td>2014-05-29</td>\n",
       "      <td>99283</td>\n",
       "      <td>CH</td>\n",
       "      <td>BI</td>\n",
       "      <td>NI</td>\n",
       "      <td>source_3</td>\n",
       "    </tr>\n",
       "    <tr>\n",
       "      <th>3</th>\n",
       "      <td>cfhOcb0DTlSoqw0=</td>\n",
       "      <td>19Oct2022covidpasc00067850</td>\n",
       "      <td>cfhOdL0AQ1Csow==</td>\n",
       "      <td>AV</td>\n",
       "      <td>2012-06-29</td>\n",
       "      <td>cfhOcrkHQ1E=</td>\n",
       "      <td>2012-06-29</td>\n",
       "      <td>84480</td>\n",
       "      <td>CH</td>\n",
       "      <td>BI</td>\n",
       "      <td>NI</td>\n",
       "      <td>source_3</td>\n",
       "    </tr>\n",
       "    <tr>\n",
       "      <th>4</th>\n",
       "      <td>cfhOcb0DTlSorwU=</td>\n",
       "      <td>19Oct2022covidpasc00178296</td>\n",
       "      <td>cfhOdrEETVeh</td>\n",
       "      <td>AV</td>\n",
       "      <td>2012-04-25</td>\n",
       "      <td>cfhOerk=</td>\n",
       "      <td>2012-04-25</td>\n",
       "      <td>90807</td>\n",
       "      <td>CH</td>\n",
       "      <td>BI</td>\n",
       "      <td>NI</td>\n",
       "      <td>source_3</td>\n",
       "    </tr>\n",
       "  </tbody>\n",
       "</table>\n",
       "</div>"
      ],
      "text/plain": [
       "       PROCEDURESID                          ID       ENCOUNTERID ENC_TYPE  \\\n",
       "0  cfhOcb0DTlShowY=  19Oct2022covidpasc00035975  cfhOd78BSVKhqA==       IP   \n",
       "1  cfhOcb0DTlShqQQ=  19Oct2022covidpasc00103273  cfhOerwBTl6how==       IP   \n",
       "2  cfhOcb0DTlShrg==  19Oct2022covidpasc00059292  cfhOcrsLS1Kvrg==       ED   \n",
       "3  cfhOcb0DTlSoqw0=  19Oct2022covidpasc00067850  cfhOdL0AQ1Csow==       AV   \n",
       "4  cfhOcb0DTlSorwU=  19Oct2022covidpasc00178296      cfhOdrEETVeh       AV   \n",
       "\n",
       "   ADMIT_DATE    PROVIDERID     PX_DATE     PX PX_TYPE PX_SOURCE PPX  \\\n",
       "0  2015-12-09  cfhOdrEAQg==  2015-12-12  85025      CH        BI  NI   \n",
       "1  2015-02-12  cfhOcb0HSw==  2015-02-17  99472      CH        BI  NI   \n",
       "2  2014-05-29      cfhOe7gF  2014-05-29  99283      CH        BI  NI   \n",
       "3  2012-06-29  cfhOcrkHQ1E=  2012-06-29  84480      CH        BI  NI   \n",
       "4  2012-04-25      cfhOerk=  2012-04-25  90807      CH        BI  NI   \n",
       "\n",
       "  SOURCE_masked  \n",
       "0      source_3  \n",
       "1      source_3  \n",
       "2      source_3  \n",
       "3      source_3  \n",
       "4      source_3  "
      ]
     },
     "execution_count": 33,
     "metadata": {},
     "output_type": "execute_result"
    }
   ],
   "source": [
    "print(procedure.columns)\n",
    "procedure.head()"
   ]
  },
  {
   "cell_type": "code",
   "execution_count": 34,
   "id": "checked-symphony",
   "metadata": {},
   "outputs": [
    {
     "name": "stdout",
     "output_type": "stream",
     "text": [
      "{'CH', '10', 'OT', 'NI', '09', 'RE'}\n",
      "CH    126246440\n",
      "RE     25087126\n",
      "10      1197371\n",
      "OT       819425\n",
      "09       765631\n",
      "NI         6296\n",
      "Name: PX_TYPE, dtype: int64\n"
     ]
    }
   ],
   "source": [
    "#Diagnosis vocabulary type\n",
    "print(set(procedure['PX_TYPE']))\n",
    "print(procedure['PX_TYPE'].value_counts())"
   ]
  },
  {
   "cell_type": "code",
   "execution_count": 35,
   "id": "healthy-purse",
   "metadata": {},
   "outputs": [],
   "source": [
    "cond_9_type = procedure['PX_TYPE'].isin(['09','9',9])\n",
    "cond_10_type = procedure['PX_TYPE'].isin(['10',10])"
   ]
  },
  {
   "cell_type": "code",
   "execution_count": 36,
   "id": "frank-retention",
   "metadata": {},
   "outputs": [
    {
     "name": "stdout",
     "output_type": "stream",
     "text": [
      "0\n",
      "0\n"
     ]
    }
   ],
   "source": [
    "print(np.sum(cond_9_type)-765631)\n",
    "print(np.sum(cond_10_type)- 1197371)"
   ]
  },
  {
   "cell_type": "code",
   "execution_count": 37,
   "id": "promising-flashing",
   "metadata": {},
   "outputs": [],
   "source": [
    "#Diagnosis ID\n",
    "cond_9_search = tuple([\"140\",\"141\",\"142\",\"143\",\"144\",\"145\",\"146\",\"147\",\"148\",\"149\",\\\n",
    "                       \"150\",\"151\",\"152\",\"153\",\"154\",\"155\",\"156\",\"157\",\"158\",\"159\",\\\n",
    "                       \"160\",\"161\",\"162\",\"163\",\"164\",\"165\",\"166\",\"167\",\"168\",\"169\",\\\n",
    "                       \"170\",\"171\",\"172\",\"173\",\"174\",\"175\",\"176\",\"177\",\"178\",\"179\",\\\n",
    "                       \"180\",\"181\",\"182\",\"183\",\"184\",\"185\",\"186\",\"187\",\"188\",\"189\",\\\n",
    "                       \"190\",\"191\",\"192\",\"193\",\"194\",\\\n",
    "                       \"195.0\",\"195.1\",\"195.2\",\"195.3\",\"195.4\",\"195.5\",\"195.6\",\"195.7\",\"195.8\",\\\n",
    "                       \"1950\",\"1951\",\"1952\",\"1953\",\"1954\",\"1955\",\"1956\",\"1957\",\"1958\",\\\n",
    "                       \"200\",\"201\",\"202\",\"203\",\"204\",\"205\",\"206\",\"207\",\"208\",\"238.6\",\"2386\"])\n",
    "cond_10_search = tuple([\"C00\",\"C01\",\"C02\",\"C03\",\"C04\",\"C05\",\"C06\",\"C07\",\"C08\",\"C09\",\\\n",
    "                       \"C10\",\"C11\",\"C12\",\"C13\",\"C14\",\"C15\",\"C16\",\"C17\",\"C18\",\"C19\",\\\n",
    "                       \"C20\",\"C21\",\"C22\",\"C23\",\"C24\",\"C25\",\"C26\",\"C30\",\"C31\",\"C32\",\\\n",
    "                       \"C33\",\"C34\",\"C37\",\"C38\",\"C39\",\"C40\",\"C41\",\"C43\",\"C45\",\"C46\",\\\n",
    "                       \"C47\",\"C48\",\"C49\",\"C50\",\"C51\",\"C52\",\"C53\",\"C54\",\"C55\",\"C56\",\\\n",
    "                       \"C57\",\"C58\",\"C60\",\"C61\",\"C62\",\"C63\",\"C64\",\"C65\",\"C66\",\"C67\",\\\n",
    "                        \"C68\",\"C69\",\"C70\",\"C71\",\"C72\",\"C73\",\"C74\",\"C75\",\"C76\",\"C81\",\\\n",
    "                        \"C82\",\"C83\",\"C84\",\"C85\",\"C88\",\"C90\",\"C91\",\"C92\",\"C93\",\"C94\",\\\n",
    "                        \"C95\",\"C96\",\"C97\"])\n",
    "cond_9_add = procedure.PX == \"195\"\n",
    "cond_9_search_result = procedure.PX.str.startswith(cond_9_search,na=False)\n",
    "cond_10_search_result = procedure.PX.str.startswith(cond_10_search,na=False)"
   ]
  },
  {
   "cell_type": "code",
   "execution_count": 38,
   "id": "abstract-glance",
   "metadata": {},
   "outputs": [
    {
     "name": "stdout",
     "output_type": "stream",
     "text": [
      "676\n"
     ]
    }
   ],
   "source": [
    "cond_final = ( (cond_9_type&(cond_9_add|cond_9_search_result)) | (cond_10_type&cond_10_search_result) )\n",
    "print(np.sum(cond_final))"
   ]
  },
  {
   "cell_type": "code",
   "execution_count": 39,
   "id": "intimate-gentleman",
   "metadata": {},
   "outputs": [
    {
     "name": "stdout",
     "output_type": "stream",
     "text": [
      "(312, 4)\n"
     ]
    },
    {
     "data": {
      "text/html": [
       "<div>\n",
       "<style scoped>\n",
       "    .dataframe tbody tr th:only-of-type {\n",
       "        vertical-align: middle;\n",
       "    }\n",
       "\n",
       "    .dataframe tbody tr th {\n",
       "        vertical-align: top;\n",
       "    }\n",
       "\n",
       "    .dataframe thead th {\n",
       "        text-align: right;\n",
       "    }\n",
       "</style>\n",
       "<table border=\"1\" class=\"dataframe\">\n",
       "  <thead>\n",
       "    <tr style=\"text-align: right;\">\n",
       "      <th></th>\n",
       "      <th>DX</th>\n",
       "      <th>ID</th>\n",
       "      <th>DX_TYPE</th>\n",
       "      <th>domain</th>\n",
       "    </tr>\n",
       "  </thead>\n",
       "  <tbody>\n",
       "    <tr>\n",
       "      <th>0</th>\n",
       "      <td>C21G1ZZ</td>\n",
       "      <td>19Oct2022covidpasc00032405</td>\n",
       "      <td>10</td>\n",
       "      <td>procedure</td>\n",
       "    </tr>\n",
       "    <tr>\n",
       "      <th>1</th>\n",
       "      <td>C21G1ZZ</td>\n",
       "      <td>19Oct2022covidpasc00018459</td>\n",
       "      <td>10</td>\n",
       "      <td>procedure</td>\n",
       "    </tr>\n",
       "    <tr>\n",
       "      <th>2</th>\n",
       "      <td>1742</td>\n",
       "      <td>19Oct2022covidpasc00182968</td>\n",
       "      <td>09</td>\n",
       "      <td>procedure</td>\n",
       "    </tr>\n",
       "    <tr>\n",
       "      <th>3</th>\n",
       "      <td>1424</td>\n",
       "      <td>19Oct2022covidpasc00107597</td>\n",
       "      <td>09</td>\n",
       "      <td>procedure</td>\n",
       "    </tr>\n",
       "    <tr>\n",
       "      <th>4</th>\n",
       "      <td>1474</td>\n",
       "      <td>19Oct2022covidpasc00107597</td>\n",
       "      <td>09</td>\n",
       "      <td>procedure</td>\n",
       "    </tr>\n",
       "  </tbody>\n",
       "</table>\n",
       "</div>"
      ],
      "text/plain": [
       "        DX                          ID DX_TYPE     domain\n",
       "0  C21G1ZZ  19Oct2022covidpasc00032405      10  procedure\n",
       "1  C21G1ZZ  19Oct2022covidpasc00018459      10  procedure\n",
       "2     1742  19Oct2022covidpasc00182968      09  procedure\n",
       "3     1424  19Oct2022covidpasc00107597      09  procedure\n",
       "4     1474  19Oct2022covidpasc00107597      09  procedure"
      ]
     },
     "execution_count": 39,
     "metadata": {},
     "output_type": "execute_result"
    }
   ],
   "source": [
    "all_cancer_procedure = procedure.loc[cond_final][['PX','ID','PX_TYPE']].drop_duplicates().reset_index(drop=True)\n",
    "all_cancer_procedure['domain'] = 'procedure'\n",
    "all_cancer_procedure.columns = ['DX','ID','DX_TYPE','domain']\n",
    "print(all_cancer_procedure.shape)\n",
    "all_cancer_procedure.head()"
   ]
  },
  {
   "cell_type": "code",
   "execution_count": 40,
   "id": "adapted-kernel",
   "metadata": {},
   "outputs": [
    {
     "data": {
      "text/plain": [
       "{'1424',\n",
       " '1439',\n",
       " '1454',\n",
       " '1459',\n",
       " '1473',\n",
       " '1474',\n",
       " '1475',\n",
       " '1479',\n",
       " '149',\n",
       " '1511',\n",
       " '1631',\n",
       " '1711',\n",
       " '1712',\n",
       " '1713',\n",
       " '1724',\n",
       " '1733',\n",
       " '1735',\n",
       " '1736',\n",
       " '1741',\n",
       " '1742',\n",
       " '1749',\n",
       " '1753',\n",
       " '1755',\n",
       " '1756',\n",
       " '1781',\n",
       " '1829',\n",
       " '184',\n",
       " '194',\n",
       " '2001',\n",
       " '2009',\n",
       " '201',\n",
       " '2042',\n",
       " '2049',\n",
       " 'C0101ZZ',\n",
       " 'C010YZZ',\n",
       " 'C015DZZ',\n",
       " 'C030KZZ',\n",
       " 'C030YZZ',\n",
       " 'C2161ZZ',\n",
       " 'C21G1ZZ',\n",
       " 'C21GYZZ',\n",
       " 'C21YYZZ',\n",
       " 'C22G1ZZ',\n",
       " 'C22GSZZ',\n",
       " 'C23GYZZ',\n",
       " 'C71L1ZZ',\n",
       " 'C71LYZZ'}"
      ]
     },
     "execution_count": 40,
     "metadata": {},
     "output_type": "execute_result"
    }
   ],
   "source": [
    "set(all_cancer_procedure['DX'])"
   ]
  },
  {
   "cell_type": "code",
   "execution_count": 62,
   "id": "medical-canadian",
   "metadata": {},
   "outputs": [],
   "source": [
    "all_cancer_procedure = all_cancer_procedure.loc[~all_cancer_procedure['DX'].isin([ 'C0101ZZ',\n",
    " 'C010YZZ',\n",
    " 'C015DZZ',\n",
    " 'C030KZZ',\n",
    " 'C030YZZ',\n",
    " 'C2161ZZ',\n",
    " 'C21G1ZZ',\n",
    " 'C21GYZZ',\n",
    " 'C21YYZZ',\n",
    " 'C22G1ZZ',\n",
    " 'C22GSZZ',\n",
    " 'C23GYZZ',\n",
    " 'C71L1ZZ',\n",
    " 'C71LYZZ'])]"
   ]
  },
  {
   "cell_type": "markdown",
   "id": "facial-crown",
   "metadata": {},
   "source": [
    "## 4.3 From lab"
   ]
  },
  {
   "cell_type": "code",
   "execution_count": 49,
   "id": "fossil-label",
   "metadata": {},
   "outputs": [
    {
     "name": "stdout",
     "output_type": "stream",
     "text": [
      "Index(['LAB_RESULT_CM_ID', 'ID', 'ENCOUNTERID', 'SPECIMEN_SOURCE', 'LAB_LOINC',\n",
      "       'LAB_RESULT_SOURCE', 'LAB_LOINC_SOURCE', 'PRIORITY', 'RESULT_LOC',\n",
      "       'LAB_PX', 'LAB_PX_TYPE', 'LAB_ORDER_DATE', 'SPECIMEN_DATE',\n",
      "       'SPECIMEN_TIME', 'RESULT_DATE', 'RESULT_TIME', 'RESULT_QUAL',\n",
      "       'RESULT_SNOMED', 'RESULT_NUM', 'RESULT_MODIFIER', 'RESULT_UNIT',\n",
      "       'NORM_RANGE_LOW', 'NORM_MODIFIER_LOW', 'NORM_RANGE_HIGH',\n",
      "       'NORM_MODIFIER_HIGH', 'ABN_IND', 'SOURCE_masked'],\n",
      "      dtype='object')\n"
     ]
    },
    {
     "data": {
      "text/html": [
       "<div>\n",
       "<style scoped>\n",
       "    .dataframe tbody tr th:only-of-type {\n",
       "        vertical-align: middle;\n",
       "    }\n",
       "\n",
       "    .dataframe tbody tr th {\n",
       "        vertical-align: top;\n",
       "    }\n",
       "\n",
       "    .dataframe thead th {\n",
       "        text-align: right;\n",
       "    }\n",
       "</style>\n",
       "<table border=\"1\" class=\"dataframe\">\n",
       "  <thead>\n",
       "    <tr style=\"text-align: right;\">\n",
       "      <th></th>\n",
       "      <th>LAB_RESULT_CM_ID</th>\n",
       "      <th>ID</th>\n",
       "      <th>ENCOUNTERID</th>\n",
       "      <th>SPECIMEN_SOURCE</th>\n",
       "      <th>LAB_LOINC</th>\n",
       "      <th>LAB_RESULT_SOURCE</th>\n",
       "      <th>LAB_LOINC_SOURCE</th>\n",
       "      <th>PRIORITY</th>\n",
       "      <th>RESULT_LOC</th>\n",
       "      <th>LAB_PX</th>\n",
       "      <th>...</th>\n",
       "      <th>RESULT_SNOMED</th>\n",
       "      <th>RESULT_NUM</th>\n",
       "      <th>RESULT_MODIFIER</th>\n",
       "      <th>RESULT_UNIT</th>\n",
       "      <th>NORM_RANGE_LOW</th>\n",
       "      <th>NORM_MODIFIER_LOW</th>\n",
       "      <th>NORM_RANGE_HIGH</th>\n",
       "      <th>NORM_MODIFIER_HIGH</th>\n",
       "      <th>ABN_IND</th>\n",
       "      <th>SOURCE_masked</th>\n",
       "    </tr>\n",
       "  </thead>\n",
       "  <tbody>\n",
       "    <tr>\n",
       "      <th>0</th>\n",
       "      <td>cfhOcbEKSlSqrw0=</td>\n",
       "      <td>19Oct2022covidpasc00151140</td>\n",
       "      <td>cfhOcrgES1arogw=</td>\n",
       "      <td>SER_PLAS</td>\n",
       "      <td>2823-3</td>\n",
       "      <td>OD</td>\n",
       "      <td>DW</td>\n",
       "      <td>S</td>\n",
       "      <td>L</td>\n",
       "      <td>LAB15</td>\n",
       "      <td>...</td>\n",
       "      <td>NaN</td>\n",
       "      <td>3.9</td>\n",
       "      <td>EQ</td>\n",
       "      <td>mmol/L</td>\n",
       "      <td>3.3</td>\n",
       "      <td>EQ</td>\n",
       "      <td>4.6</td>\n",
       "      <td>EQ</td>\n",
       "      <td>NI</td>\n",
       "      <td>source_3</td>\n",
       "    </tr>\n",
       "    <tr>\n",
       "      <th>1</th>\n",
       "      <td>cfhOcbEKSlSqrw29</td>\n",
       "      <td>19Oct2022covidpasc00143912</td>\n",
       "      <td>cfhOdr8GS16rrQA=</td>\n",
       "      <td>SER_PLAS</td>\n",
       "      <td>48642-3</td>\n",
       "      <td>OD</td>\n",
       "      <td>DW</td>\n",
       "      <td>R</td>\n",
       "      <td>L</td>\n",
       "      <td>LAB170044</td>\n",
       "      <td>...</td>\n",
       "      <td>NaN</td>\n",
       "      <td>45.0</td>\n",
       "      <td>EQ</td>\n",
       "      <td>mL/min/{1.73_m2}</td>\n",
       "      <td>NaN</td>\n",
       "      <td>NI</td>\n",
       "      <td>NaN</td>\n",
       "      <td>NI</td>\n",
       "      <td>NI</td>\n",
       "      <td>source_3</td>\n",
       "    </tr>\n",
       "    <tr>\n",
       "      <th>2</th>\n",
       "      <td>cfhOcbEKSlSqrwI=</td>\n",
       "      <td>19Oct2022covidpasc00151140</td>\n",
       "      <td>cfhOcrgES1arogw=</td>\n",
       "      <td>BLD</td>\n",
       "      <td>787-2</td>\n",
       "      <td>OD</td>\n",
       "      <td>DW</td>\n",
       "      <td>S</td>\n",
       "      <td>L</td>\n",
       "      <td>LAB293</td>\n",
       "      <td>...</td>\n",
       "      <td>NaN</td>\n",
       "      <td>81.4</td>\n",
       "      <td>EQ</td>\n",
       "      <td>fL</td>\n",
       "      <td>82.0</td>\n",
       "      <td>EQ</td>\n",
       "      <td>101.0</td>\n",
       "      <td>EQ</td>\n",
       "      <td>AL</td>\n",
       "      <td>source_3</td>\n",
       "    </tr>\n",
       "    <tr>\n",
       "      <th>3</th>\n",
       "      <td>cfhOcbEKSlSqrww=</td>\n",
       "      <td>19Oct2022covidpasc00151140</td>\n",
       "      <td>cfhOcrgES1arogw=</td>\n",
       "      <td>SER_PLAS</td>\n",
       "      <td>2075-0</td>\n",
       "      <td>OD</td>\n",
       "      <td>DW</td>\n",
       "      <td>S</td>\n",
       "      <td>L</td>\n",
       "      <td>LAB15</td>\n",
       "      <td>...</td>\n",
       "      <td>NaN</td>\n",
       "      <td>94.0</td>\n",
       "      <td>EQ</td>\n",
       "      <td>mmol/L</td>\n",
       "      <td>101</td>\n",
       "      <td>EQ</td>\n",
       "      <td>110</td>\n",
       "      <td>EQ</td>\n",
       "      <td>AL</td>\n",
       "      <td>source_3</td>\n",
       "    </tr>\n",
       "    <tr>\n",
       "      <th>4</th>\n",
       "      <td>cfhOcbEKSlSqrwW4</td>\n",
       "      <td>19Oct2022covidpasc00079370</td>\n",
       "      <td>cfhOdr8CTFWgqwQ=</td>\n",
       "      <td>BLDA</td>\n",
       "      <td>2019-8</td>\n",
       "      <td>OD</td>\n",
       "      <td>DW</td>\n",
       "      <td>R</td>\n",
       "      <td>L</td>\n",
       "      <td>LAB4320</td>\n",
       "      <td>...</td>\n",
       "      <td>NaN</td>\n",
       "      <td>54.0</td>\n",
       "      <td>EQ</td>\n",
       "      <td>NaN</td>\n",
       "      <td>NaN</td>\n",
       "      <td>NI</td>\n",
       "      <td>NaN</td>\n",
       "      <td>NI</td>\n",
       "      <td>NI</td>\n",
       "      <td>source_3</td>\n",
       "    </tr>\n",
       "  </tbody>\n",
       "</table>\n",
       "<p>5 rows × 27 columns</p>\n",
       "</div>"
      ],
      "text/plain": [
       "   LAB_RESULT_CM_ID                          ID       ENCOUNTERID  \\\n",
       "0  cfhOcbEKSlSqrw0=  19Oct2022covidpasc00151140  cfhOcrgES1arogw=   \n",
       "1  cfhOcbEKSlSqrw29  19Oct2022covidpasc00143912  cfhOdr8GS16rrQA=   \n",
       "2  cfhOcbEKSlSqrwI=  19Oct2022covidpasc00151140  cfhOcrgES1arogw=   \n",
       "3  cfhOcbEKSlSqrww=  19Oct2022covidpasc00151140  cfhOcrgES1arogw=   \n",
       "4  cfhOcbEKSlSqrwW4  19Oct2022covidpasc00079370  cfhOdr8CTFWgqwQ=   \n",
       "\n",
       "  SPECIMEN_SOURCE LAB_LOINC LAB_RESULT_SOURCE LAB_LOINC_SOURCE PRIORITY  \\\n",
       "0        SER_PLAS    2823-3                OD               DW        S   \n",
       "1        SER_PLAS   48642-3                OD               DW        R   \n",
       "2             BLD     787-2                OD               DW        S   \n",
       "3        SER_PLAS    2075-0                OD               DW        S   \n",
       "4            BLDA    2019-8                OD               DW        R   \n",
       "\n",
       "  RESULT_LOC     LAB_PX  ... RESULT_SNOMED RESULT_NUM RESULT_MODIFIER  \\\n",
       "0          L      LAB15  ...           NaN        3.9              EQ   \n",
       "1          L  LAB170044  ...           NaN       45.0              EQ   \n",
       "2          L     LAB293  ...           NaN       81.4              EQ   \n",
       "3          L      LAB15  ...           NaN       94.0              EQ   \n",
       "4          L    LAB4320  ...           NaN       54.0              EQ   \n",
       "\n",
       "        RESULT_UNIT NORM_RANGE_LOW NORM_MODIFIER_LOW NORM_RANGE_HIGH  \\\n",
       "0            mmol/L            3.3                EQ             4.6   \n",
       "1  mL/min/{1.73_m2}            NaN                NI             NaN   \n",
       "2                fL           82.0                EQ           101.0   \n",
       "3            mmol/L            101                EQ             110   \n",
       "4               NaN            NaN                NI             NaN   \n",
       "\n",
       "  NORM_MODIFIER_HIGH  ABN_IND SOURCE_masked  \n",
       "0                 EQ       NI      source_3  \n",
       "1                 NI       NI      source_3  \n",
       "2                 EQ       AL      source_3  \n",
       "3                 EQ       AL      source_3  \n",
       "4                 NI       NI      source_3  \n",
       "\n",
       "[5 rows x 27 columns]"
      ]
     },
     "execution_count": 49,
     "metadata": {},
     "output_type": "execute_result"
    }
   ],
   "source": [
    "print(lab_result_cm.columns)\n",
    "lab_result_cm.head()"
   ]
  },
  {
   "cell_type": "code",
   "execution_count": 50,
   "id": "supreme-virgin",
   "metadata": {},
   "outputs": [],
   "source": [
    "lab_result_cm = lab_result_cm[['ID','LAB_PX_TYPE','LAB_PX']].drop_duplicates().reset_index(drop=True)"
   ]
  },
  {
   "cell_type": "code",
   "execution_count": 60,
   "id": "measured-foundation",
   "metadata": {},
   "outputs": [
    {
     "name": "stdout",
     "output_type": "stream",
     "text": [
      "OT    7943236\n",
      "LC    1480002\n",
      "CH     132849\n",
      "NI      54495\n",
      "Name: LAB_PX_TYPE, dtype: int64\n"
     ]
    }
   ],
   "source": [
    "#Diagnosis vocabulary type\n",
    "#print(set(lab_result_cm['LAB_PX_TYPE']))\n",
    "print(lab_result_cm['LAB_PX_TYPE'].value_counts())"
   ]
  },
  {
   "cell_type": "markdown",
   "id": "contrary-computer",
   "metadata": {
    "tags": []
   },
   "source": [
    "## 4.4 From obs_gen"
   ]
  },
  {
   "cell_type": "code",
   "execution_count": 41,
   "id": "smart-today",
   "metadata": {},
   "outputs": [
    {
     "name": "stdout",
     "output_type": "stream",
     "text": [
      "Index(['OBSGENID', 'ID', 'ENCOUNTERID', 'OBSGEN_PROVIDERID',\n",
      "       'OBSGEN_START_DATE', 'OBSGEN_START_TIME', 'OBSGEN_STOP_DATE',\n",
      "       'OBSGEN_STOP_TIME', 'OBSGEN_TYPE', 'OBSGEN_CODE', 'OBSGEN_RESULT_QUAL',\n",
      "       'OBSGEN_RESULT_TEXT', 'OBSGEN_RESULT_NUM', 'OBSGEN_RESULT_MODIFIER',\n",
      "       'OBSGEN_RESULT_UNIT', 'OBSGEN_TABLE_MODIFIED', 'OBSGEN_ID_MODIFIED',\n",
      "       'OBSGEN_SOURCE', 'OBSGEN_ABN_IND', 'SOURCE_masked'],\n",
      "      dtype='object')\n"
     ]
    },
    {
     "data": {
      "text/html": [
       "<div>\n",
       "<style scoped>\n",
       "    .dataframe tbody tr th:only-of-type {\n",
       "        vertical-align: middle;\n",
       "    }\n",
       "\n",
       "    .dataframe tbody tr th {\n",
       "        vertical-align: top;\n",
       "    }\n",
       "\n",
       "    .dataframe thead th {\n",
       "        text-align: right;\n",
       "    }\n",
       "</style>\n",
       "<table border=\"1\" class=\"dataframe\">\n",
       "  <thead>\n",
       "    <tr style=\"text-align: right;\">\n",
       "      <th></th>\n",
       "      <th>OBSGENID</th>\n",
       "      <th>ID</th>\n",
       "      <th>ENCOUNTERID</th>\n",
       "      <th>OBSGEN_PROVIDERID</th>\n",
       "      <th>OBSGEN_START_DATE</th>\n",
       "      <th>OBSGEN_START_TIME</th>\n",
       "      <th>OBSGEN_STOP_DATE</th>\n",
       "      <th>OBSGEN_STOP_TIME</th>\n",
       "      <th>OBSGEN_TYPE</th>\n",
       "      <th>OBSGEN_CODE</th>\n",
       "      <th>OBSGEN_RESULT_QUAL</th>\n",
       "      <th>OBSGEN_RESULT_TEXT</th>\n",
       "      <th>OBSGEN_RESULT_NUM</th>\n",
       "      <th>OBSGEN_RESULT_MODIFIER</th>\n",
       "      <th>OBSGEN_RESULT_UNIT</th>\n",
       "      <th>OBSGEN_TABLE_MODIFIED</th>\n",
       "      <th>OBSGEN_ID_MODIFIED</th>\n",
       "      <th>OBSGEN_SOURCE</th>\n",
       "      <th>OBSGEN_ABN_IND</th>\n",
       "      <th>SOURCE_masked</th>\n",
       "    </tr>\n",
       "  </thead>\n",
       "  <tbody>\n",
       "    <tr>\n",
       "      <th>0</th>\n",
       "      <td>YvJOcrBOSFapqgW4e/FSIUJyuP0dizZ6</td>\n",
       "      <td>19Oct2022covidpasc00138151</td>\n",
       "      <td>YvJOcLgCS1apqgX0evIWIUNzvP8d</td>\n",
       "      <td>YvJOcLgCS1apqgX0c/IaJUV5</td>\n",
       "      <td>2020-05-28</td>\n",
       "      <td>12:30</td>\n",
       "      <td>2021-04-06</td>\n",
       "      <td>23:59</td>\n",
       "      <td>PC_COVID</td>\n",
       "      <td>2000</td>\n",
       "      <td>NaN</td>\n",
       "      <td>N</td>\n",
       "      <td>NaN</td>\n",
       "      <td>NaN</td>\n",
       "      <td>NaN</td>\n",
       "      <td>NaN</td>\n",
       "      <td>NaN</td>\n",
       "      <td>DR</td>\n",
       "      <td>NaN</td>\n",
       "      <td>source_12</td>\n",
       "    </tr>\n",
       "    <tr>\n",
       "      <th>1</th>\n",
       "      <td>YvJOcrBOSFapqgW4e/FSIUJyvf4VjzB6</td>\n",
       "      <td>19Oct2022covidpasc00067531</td>\n",
       "      <td>YvJOcLgCS1apqgX0evIWJEB7uPkd</td>\n",
       "      <td>YvJOcLgCS1apqgX0fPUYIUB9sfc=</td>\n",
       "      <td>2021-02-11</td>\n",
       "      <td>12:27</td>\n",
       "      <td>2021-02-14</td>\n",
       "      <td>04:59</td>\n",
       "      <td>PC_COVID</td>\n",
       "      <td>2000</td>\n",
       "      <td>NaN</td>\n",
       "      <td>N</td>\n",
       "      <td>NaN</td>\n",
       "      <td>NaN</td>\n",
       "      <td>NaN</td>\n",
       "      <td>NaN</td>\n",
       "      <td>NaN</td>\n",
       "      <td>DR</td>\n",
       "      <td>NaN</td>\n",
       "      <td>source_12</td>\n",
       "    </tr>\n",
       "    <tr>\n",
       "      <th>2</th>\n",
       "      <td>YvJOcrBOSFapqgW4e/FSIUJzu/sUijN7</td>\n",
       "      <td>19Oct2022covidpasc00163770</td>\n",
       "      <td>YvJOcLgCS1apqgX0evIXIkV6vfoc</td>\n",
       "      <td>YvJOcLgCS1apqgX0ffgbIkN5uP8=</td>\n",
       "      <td>2020-07-21</td>\n",
       "      <td>00:16</td>\n",
       "      <td>2021-04-19</td>\n",
       "      <td>23:39</td>\n",
       "      <td>PC_COVID</td>\n",
       "      <td>2000</td>\n",
       "      <td>NaN</td>\n",
       "      <td>N</td>\n",
       "      <td>NaN</td>\n",
       "      <td>NaN</td>\n",
       "      <td>NaN</td>\n",
       "      <td>NaN</td>\n",
       "      <td>NaN</td>\n",
       "      <td>DR</td>\n",
       "      <td>NaN</td>\n",
       "      <td>source_12</td>\n",
       "    </tr>\n",
       "    <tr>\n",
       "      <th>3</th>\n",
       "      <td>YvJOcrBOSFapqgW4e/FSIUJzuf0QjjJ6</td>\n",
       "      <td>19Oct2022covidpasc00210320</td>\n",
       "      <td>YvJOcLgCS1apqgX0evIXIEN+ufsd</td>\n",
       "      <td>YvJOcLgCS1apqgX0f/YaJkZyvv8=</td>\n",
       "      <td>2021-05-04</td>\n",
       "      <td>09:00</td>\n",
       "      <td>2021-05-04</td>\n",
       "      <td>09:30</td>\n",
       "      <td>PC_COVID</td>\n",
       "      <td>2000</td>\n",
       "      <td>NaN</td>\n",
       "      <td>N</td>\n",
       "      <td>NaN</td>\n",
       "      <td>NaN</td>\n",
       "      <td>NaN</td>\n",
       "      <td>NaN</td>\n",
       "      <td>NaN</td>\n",
       "      <td>DR</td>\n",
       "      <td>NaN</td>\n",
       "      <td>source_12</td>\n",
       "    </tr>\n",
       "    <tr>\n",
       "      <th>4</th>\n",
       "      <td>YvJOcrBOSFapqgW4e/FSIUJzufoUijV7</td>\n",
       "      <td>19Oct2022covidpasc00190524</td>\n",
       "      <td>YvJOcLgCS1apqgX0evIXIER6vfwc</td>\n",
       "      <td>YvJOcLgCS1apqgX0ffQZJ0B/uf0=</td>\n",
       "      <td>2020-07-12</td>\n",
       "      <td>04:32</td>\n",
       "      <td>2021-02-11</td>\n",
       "      <td>14:05</td>\n",
       "      <td>PC_COVID</td>\n",
       "      <td>2000</td>\n",
       "      <td>NaN</td>\n",
       "      <td>Y</td>\n",
       "      <td>NaN</td>\n",
       "      <td>NaN</td>\n",
       "      <td>NaN</td>\n",
       "      <td>NaN</td>\n",
       "      <td>NaN</td>\n",
       "      <td>DR</td>\n",
       "      <td>NaN</td>\n",
       "      <td>source_12</td>\n",
       "    </tr>\n",
       "  </tbody>\n",
       "</table>\n",
       "</div>"
      ],
      "text/plain": [
       "                           OBSGENID                          ID  \\\n",
       "0  YvJOcrBOSFapqgW4e/FSIUJyuP0dizZ6  19Oct2022covidpasc00138151   \n",
       "1  YvJOcrBOSFapqgW4e/FSIUJyvf4VjzB6  19Oct2022covidpasc00067531   \n",
       "2  YvJOcrBOSFapqgW4e/FSIUJzu/sUijN7  19Oct2022covidpasc00163770   \n",
       "3  YvJOcrBOSFapqgW4e/FSIUJzuf0QjjJ6  19Oct2022covidpasc00210320   \n",
       "4  YvJOcrBOSFapqgW4e/FSIUJzufoUijV7  19Oct2022covidpasc00190524   \n",
       "\n",
       "                    ENCOUNTERID             OBSGEN_PROVIDERID  \\\n",
       "0  YvJOcLgCS1apqgX0evIWIUNzvP8d      YvJOcLgCS1apqgX0c/IaJUV5   \n",
       "1  YvJOcLgCS1apqgX0evIWJEB7uPkd  YvJOcLgCS1apqgX0fPUYIUB9sfc=   \n",
       "2  YvJOcLgCS1apqgX0evIXIkV6vfoc  YvJOcLgCS1apqgX0ffgbIkN5uP8=   \n",
       "3  YvJOcLgCS1apqgX0evIXIEN+ufsd  YvJOcLgCS1apqgX0f/YaJkZyvv8=   \n",
       "4  YvJOcLgCS1apqgX0evIXIER6vfwc  YvJOcLgCS1apqgX0ffQZJ0B/uf0=   \n",
       "\n",
       "  OBSGEN_START_DATE OBSGEN_START_TIME OBSGEN_STOP_DATE OBSGEN_STOP_TIME  \\\n",
       "0        2020-05-28             12:30       2021-04-06            23:59   \n",
       "1        2021-02-11             12:27       2021-02-14            04:59   \n",
       "2        2020-07-21             00:16       2021-04-19            23:39   \n",
       "3        2021-05-04             09:00       2021-05-04            09:30   \n",
       "4        2020-07-12             04:32       2021-02-11            14:05   \n",
       "\n",
       "  OBSGEN_TYPE OBSGEN_CODE OBSGEN_RESULT_QUAL OBSGEN_RESULT_TEXT  \\\n",
       "0    PC_COVID        2000                NaN                  N   \n",
       "1    PC_COVID        2000                NaN                  N   \n",
       "2    PC_COVID        2000                NaN                  N   \n",
       "3    PC_COVID        2000                NaN                  N   \n",
       "4    PC_COVID        2000                NaN                  Y   \n",
       "\n",
       "   OBSGEN_RESULT_NUM OBSGEN_RESULT_MODIFIER OBSGEN_RESULT_UNIT  \\\n",
       "0                NaN                    NaN                NaN   \n",
       "1                NaN                    NaN                NaN   \n",
       "2                NaN                    NaN                NaN   \n",
       "3                NaN                    NaN                NaN   \n",
       "4                NaN                    NaN                NaN   \n",
       "\n",
       "   OBSGEN_TABLE_MODIFIED  OBSGEN_ID_MODIFIED OBSGEN_SOURCE OBSGEN_ABN_IND  \\\n",
       "0                    NaN                 NaN            DR            NaN   \n",
       "1                    NaN                 NaN            DR            NaN   \n",
       "2                    NaN                 NaN            DR            NaN   \n",
       "3                    NaN                 NaN            DR            NaN   \n",
       "4                    NaN                 NaN            DR            NaN   \n",
       "\n",
       "  SOURCE_masked  \n",
       "0     source_12  \n",
       "1     source_12  \n",
       "2     source_12  \n",
       "3     source_12  \n",
       "4     source_12  "
      ]
     },
     "execution_count": 41,
     "metadata": {},
     "output_type": "execute_result"
    }
   ],
   "source": [
    "print(obs_gen.columns)\n",
    "obs_gen.head()"
   ]
  },
  {
   "cell_type": "code",
   "execution_count": 59,
   "id": "possible-competition",
   "metadata": {},
   "outputs": [
    {
     "name": "stdout",
     "output_type": "stream",
     "text": [
      "{'LC', 'UD_PC_COVID (Admission to ICU)', 'PC_COVID', 'UD_PC_COVID (Mechanical Vent)', 'NI'}\n",
      "PC_COVID                          7726048\n",
      "UD_PC_COVID (Mechanical Vent)       13936\n",
      "UD_PC_COVID (Admission to ICU)      11553\n",
      "NI                                    724\n",
      "LC                                     18\n",
      "Name: OBSGEN_TYPE, dtype: int64\n"
     ]
    }
   ],
   "source": [
    "#Diagnosis vocabulary type\n",
    "print(set(obs_gen['OBSGEN_TYPE']))\n",
    "print(obs_gen['OBSGEN_TYPE'].value_counts())"
   ]
  },
  {
   "cell_type": "markdown",
   "id": "fitting-feeling",
   "metadata": {},
   "source": [
    "## 4.5 write"
   ]
  },
  {
   "cell_type": "code",
   "execution_count": 65,
   "id": "statewide-vector",
   "metadata": {},
   "outputs": [],
   "source": [
    "all_cancer_pid = pd.concat([all_cancer_procedure,all_cancer_diagnosis])"
   ]
  },
  {
   "cell_type": "code",
   "execution_count": 67,
   "id": "combined-lightweight",
   "metadata": {},
   "outputs": [
    {
     "data": {
      "text/plain": [
       "((65730, 4), (231, 4), (65499, 4))"
      ]
     },
     "execution_count": 67,
     "metadata": {},
     "output_type": "execute_result"
    }
   ],
   "source": [
    "all_cancer_pid.shape,all_cancer_procedure.shape,all_cancer_diagnosis.shape"
   ]
  },
  {
   "cell_type": "code",
   "execution_count": 69,
   "id": "instructional-provider",
   "metadata": {},
   "outputs": [
    {
     "data": {
      "text/plain": [
       "19652"
      ]
     },
     "execution_count": 69,
     "metadata": {},
     "output_type": "execute_result"
    }
   ],
   "source": [
    "len(set(all_cancer_pid['ID']))"
   ]
  },
  {
   "cell_type": "code",
   "execution_count": 70,
   "id": "young-teach",
   "metadata": {},
   "outputs": [],
   "source": [
    "all_cancer_pid.to_csv('/data/datasets/changyuyin/2_LongCOVID_OneFL/cancer_pid.csv')"
   ]
  },
  {
   "cell_type": "markdown",
   "id": "recent-albert",
   "metadata": {},
   "source": [
    "# cancer subcohort"
   ]
  },
  {
   "cell_type": "code",
   "execution_count": null,
   "id": "organized-logan",
   "metadata": {},
   "outputs": [],
   "source": [
    "#from data request form\n",
    "lung_cancer_icd = ['162.2',\n",
    "                   '162.3',\n",
    "                   '162.4',\n",
    "                   '162.5',\n",
    "                   '162.8',\n",
    "                   '162.9',\n",
    "                   'C34',\n",
    "                   'C34.0',\n",
    "                   'C34.01','C34.02','C34.00',\n",
    "                  'C34.1','C34.10','C34.11','C34.12',\n",
    "                  'C34.2',\n",
    "                   'C34.3','C34.30','C34.31','C34.32',\n",
    "                   'C34.8','C34.80','C34.82','C34.81',\n",
    "                  'C34.9','C34.90','C34.91','C34.92',\n",
    "                  '1622',\n",
    "                   '1623',\n",
    "                   '1624',\n",
    "                   '1625',\n",
    "                   '1628',\n",
    "                   '1629',\n",
    "                   'C34',\n",
    "                   'C340',\n",
    "                   'C3401','C3402','C3400',\n",
    "                  'C341','C3410','C3411','C3412',\n",
    "                  'C342',\n",
    "                   'C343','C3430','C3431','C3432',\n",
    "                   'C348','C3480','C3482','C3481',\n",
    "                  'C349','C3490','C3491','C3492']\n",
    "colorectal_cancer_icd = ['153','153.0','153.1','153.2','153.3','153.4','153.5','153.6','153.7','153.8','153.9',\n",
    "                         '154','154.0','154.1','154.2','154.3','154.8',\n",
    "                         '159.0',\n",
    "                         'C18','C18.0','C18.1','C18.2','C18.3','C18.4','C18.5','C18.6','C18.7','C18.8','C18.9',\n",
    "                         'C19',\n",
    "                         'C20',\n",
    "                         'C21','C21.0','C21.1','C21.2','C21.8',\n",
    "                         'C26.0',\n",
    "                        '153','1530','1531','1532','1533','1534','1535','1536','1537','1538','1539',\n",
    "                         '154','1540','1541','1542','1543','1548',\n",
    "                         '1590',\n",
    "                         'C18','C180','C181','C182','C183','C184','C185','C186','C187','C188','C189',\n",
    "                         'C19',\n",
    "                         'C20',\n",
    "                         'C21','C210','C211','C212','C218',\n",
    "                         'C260']\n",
    "breast_cancer_icd = ['174','174.0','174.1','174.2','174.3','174.4','174.5','174.6','174.8','174.9',\n",
    "                     '175','175.0','175.9',\n",
    "                     'C50',\n",
    "                     'C50.0',\n",
    "                     'C50.01','C50.011','C50.012','C50.019',\n",
    "                     'C50.02','C50.021','C50.022','C50.029',\n",
    "                     'C50.1',\n",
    "                     'C50.11','C50.111','C50.112','C50.119',\n",
    "                     'C50.12','C50.121','C50.122','C50.129',\n",
    "                     'C50.2',\n",
    "                     'C50.21','C50.211','C50.212','C50.219',\n",
    "                     'C50.22','C50.221','C50.222','C50.229',\n",
    "                     'C50.3',\n",
    "                     'C50.31','C50.311','C50.312','C50.319',\n",
    "                     'C50.32','C50.321','C50.322','C50.329',\n",
    "                     'C50.4',\n",
    "                     'C50.41','C50.411','C50.412','C50.419',\n",
    "                     'C50.42','C50.421','C50.422','C50.429',\n",
    "                     'C50.5',\n",
    "                     'C50.51','C50.511','C50.512','C50.519',\n",
    "                     'C50.52','C50.521','C50.522','C50.529',\n",
    "                     'C50.6',\n",
    "                     'C50.61','C50.611','C50.612','C50.619',\n",
    "                     'C50.62','C50.621','C50.622','C50.629',\n",
    "                     'C50.8',\n",
    "                     'C50.81','C50.811','C50.812','C50.819',\n",
    "                     'C50.82','C50.821','C50.822','C50.829',\n",
    "                     'C50.9',\n",
    "                     'C50.91','C50.911','C50.912','C50.919',\n",
    "                     'C50.92','C50.921','C50.922','C50.929',\n",
    "                     \n",
    "                     '174','1740','1741','1742','1743','1744','1745','1746','1748','1749',\n",
    "                     '175','1750','1759',\n",
    "                     'C50',\n",
    "                     'C500',\n",
    "                     'C5001','C50011','C50012','C50019',\n",
    "                     'C5002','C50021','C50022','C50029',\n",
    "                     'C501',\n",
    "                     'C5011','C50111','C50112','C50119',\n",
    "                     'C5012','C50121','C50122','C50129',\n",
    "                     'C502',\n",
    "                     'C5021','C50211','C50212','C50219',\n",
    "                     'C5022','C50221','C50222','C50229',\n",
    "                     'C503',\n",
    "                     'C5031','C50311','C50312','C50319',\n",
    "                     'C5032','C50321','C50322','C50329',\n",
    "                     'C504',\n",
    "                     'C5041','C50411','C50412','C50419',\n",
    "                     'C5042','C50421','C50422','C50429',\n",
    "                     'C505',\n",
    "                     'C5051','C50511','C50512','C50519',\n",
    "                     'C5052','C50521','C50522','C50529',\n",
    "                     'C506',\n",
    "                     'C5061','C50611','C50612','C50619',\n",
    "                     'C5062','C50621','C50622','C50629',\n",
    "                     'C508',\n",
    "                     'C5081','C50811','C50812','C50819',\n",
    "                     'C5082','C50821','C50822','C50829',\n",
    "                     'C509',\n",
    "                     'C5091','C50911','C50912','C50919',\n",
    "                     'C5092','C50921','C50922','C50929'\n",
    "                    ]"
   ]
  },
  {
   "cell_type": "code",
   "execution_count": 61,
   "id": "destroyed-usage",
   "metadata": {},
   "outputs": [],
   "source": [
    "all3_cancer_icd = np.concatenate((lung_cancer_icd,colorectal_cancer_icd,breast_cancer_icd),axis=0)"
   ]
  },
  {
   "cell_type": "code",
   "execution_count": 64,
   "id": "listed-workstation",
   "metadata": {},
   "outputs": [
    {
     "data": {
      "text/plain": [
       "DX\n",
       "153        1\n",
       "153.0     22\n",
       "153.1     19\n",
       "153.2     18\n",
       "153.3     48\n",
       "          ..\n",
       "C50819     4\n",
       "C50911    42\n",
       "C50912    39\n",
       "C50919    54\n",
       "C50929     1\n",
       "Length: 180, dtype: int64"
      ]
     },
     "execution_count": 64,
     "metadata": {},
     "output_type": "execute_result"
    }
   ],
   "source": [
    "#\n",
    "all3_patient = diagnosis.loc[diagnosis['DX'].isin(all3_cancer_icd)][['DX','ID','index_age']].drop_duplicates().reset_index(drop=True)\n",
    "all3_patient.groupby('DX').size()"
   ]
  },
  {
   "cell_type": "code",
   "execution_count": 65,
   "id": "solved-overall",
   "metadata": {},
   "outputs": [
    {
     "data": {
      "text/plain": [
       "(6448, 2)"
      ]
     },
     "execution_count": 65,
     "metadata": {},
     "output_type": "execute_result"
    }
   ],
   "source": [
    "#total number of patients by grouping size, filtered by cancer icd codes\n",
    "all3_patient[['ID','index_age']].drop_duplicates().shape"
   ]
  },
  {
   "cell_type": "code",
   "execution_count": 66,
   "id": "cardiovascular-blood",
   "metadata": {},
   "outputs": [
    {
     "data": {
      "text/plain": [
       "<AxesSubplot:>"
      ]
     },
     "execution_count": 66,
     "metadata": {},
     "output_type": "execute_result"
    },
    {
     "data": {
      "image/png": "[encoded data removed]",
      "text/plain": [
       "<Figure size 640x480 with 1 Axes>"
      ]
     },
     "metadata": {},
     "output_type": "display_data"
    }
   ],
   "source": [
    "all3_patient[['ID','index_age']].drop_duplicates()['index_age'].hist()"
   ]
  },
  {
   "cell_type": "code",
   "execution_count": 93,
   "id": "gentle-silver",
   "metadata": {},
   "outputs": [
    {
     "name": "stdout",
     "output_type": "stream",
     "text": [
      "58.86037028873705\n",
      "[0.0, 32.0, 42.0, 50.0, 56.0, 61.0, 65.0, 69.0, 75.0, 82.0]\n"
     ]
    }
   ],
   "source": [
    "print(np.mean(all3_patient['index_age']))\n",
    "print([all3_patient['index_age'].quantile(p) for p in np.arange(0,1,0.1)])"
   ]
  },
  {
   "cell_type": "code",
   "execution_count": null,
   "id": "southwest-bernard",
   "metadata": {},
   "outputs": [],
   "source": []
  },
  {
   "cell_type": "code",
   "execution_count": null,
   "id": "communist-national",
   "metadata": {},
   "outputs": [],
   "source": []
  },
  {
   "cell_type": "code",
   "execution_count": 67,
   "id": "accessible-craft",
   "metadata": {},
   "outputs": [],
   "source": [
    "#lung\n",
    "lung_patient = diagnosis.loc[diagnosis['DX'].isin(lung_cancer_icd)][['DX','ID','index_age']].drop_duplicates().reset_index(drop=True)"
   ]
  },
  {
   "cell_type": "code",
   "execution_count": 69,
   "id": "resident-innocent",
   "metadata": {},
   "outputs": [
    {
     "data": {
      "text/html": [
       "<div>\n",
       "<style scoped>\n",
       "    .dataframe tbody tr th:only-of-type {\n",
       "        vertical-align: middle;\n",
       "    }\n",
       "\n",
       "    .dataframe tbody tr th {\n",
       "        vertical-align: top;\n",
       "    }\n",
       "\n",
       "    .dataframe thead th {\n",
       "        text-align: right;\n",
       "    }\n",
       "</style>\n",
       "<table border=\"1\" class=\"dataframe\">\n",
       "  <thead>\n",
       "    <tr style=\"text-align: right;\">\n",
       "      <th></th>\n",
       "      <th>DX</th>\n",
       "      <th>ID</th>\n",
       "      <th>index_age</th>\n",
       "    </tr>\n",
       "  </thead>\n",
       "  <tbody>\n",
       "    <tr>\n",
       "      <th>0</th>\n",
       "      <td>C34.92</td>\n",
       "      <td>19Oct2022covidpasc00144842</td>\n",
       "      <td>80</td>\n",
       "    </tr>\n",
       "    <tr>\n",
       "      <th>1</th>\n",
       "      <td>C34.32</td>\n",
       "      <td>19Oct2022covidpasc00144842</td>\n",
       "      <td>80</td>\n",
       "    </tr>\n",
       "    <tr>\n",
       "      <th>2</th>\n",
       "      <td>C34.90</td>\n",
       "      <td>19Oct2022covidpasc00144842</td>\n",
       "      <td>80</td>\n",
       "    </tr>\n",
       "    <tr>\n",
       "      <th>3</th>\n",
       "      <td>162.9</td>\n",
       "      <td>19Oct2022covidpasc00146782</td>\n",
       "      <td>47</td>\n",
       "    </tr>\n",
       "    <tr>\n",
       "      <th>4</th>\n",
       "      <td>162.3</td>\n",
       "      <td>19Oct2022covidpasc00146782</td>\n",
       "      <td>47</td>\n",
       "    </tr>\n",
       "    <tr>\n",
       "      <th>...</th>\n",
       "      <td>...</td>\n",
       "      <td>...</td>\n",
       "      <td>...</td>\n",
       "    </tr>\n",
       "    <tr>\n",
       "      <th>4656</th>\n",
       "      <td>C34.90</td>\n",
       "      <td>19Oct2022covidpasc00084515</td>\n",
       "      <td>18</td>\n",
       "    </tr>\n",
       "    <tr>\n",
       "      <th>4657</th>\n",
       "      <td>C34.2</td>\n",
       "      <td>19Oct2022covidpasc00084515</td>\n",
       "      <td>18</td>\n",
       "    </tr>\n",
       "    <tr>\n",
       "      <th>4658</th>\n",
       "      <td>C34.90</td>\n",
       "      <td>19Oct2022covidpasc00092826</td>\n",
       "      <td>38</td>\n",
       "    </tr>\n",
       "    <tr>\n",
       "      <th>4659</th>\n",
       "      <td>C34.92</td>\n",
       "      <td>19Oct2022covidpasc00092826</td>\n",
       "      <td>38</td>\n",
       "    </tr>\n",
       "    <tr>\n",
       "      <th>4660</th>\n",
       "      <td>C3432</td>\n",
       "      <td>19Oct2022covidpasc00123999</td>\n",
       "      <td>60</td>\n",
       "    </tr>\n",
       "  </tbody>\n",
       "</table>\n",
       "<p>4661 rows × 3 columns</p>\n",
       "</div>"
      ],
      "text/plain": [
       "          DX                          ID  index_age\n",
       "0     C34.92  19Oct2022covidpasc00144842         80\n",
       "1     C34.32  19Oct2022covidpasc00144842         80\n",
       "2     C34.90  19Oct2022covidpasc00144842         80\n",
       "3      162.9  19Oct2022covidpasc00146782         47\n",
       "4      162.3  19Oct2022covidpasc00146782         47\n",
       "...      ...                         ...        ...\n",
       "4656  C34.90  19Oct2022covidpasc00084515         18\n",
       "4657   C34.2  19Oct2022covidpasc00084515         18\n",
       "4658  C34.90  19Oct2022covidpasc00092826         38\n",
       "4659  C34.92  19Oct2022covidpasc00092826         38\n",
       "4660   C3432  19Oct2022covidpasc00123999         60\n",
       "\n",
       "[4661 rows x 3 columns]"
      ]
     },
     "execution_count": 69,
     "metadata": {},
     "output_type": "execute_result"
    }
   ],
   "source": [
    "lung_patient"
   ]
  },
  {
   "cell_type": "code",
   "execution_count": 71,
   "id": "fixed-arctic",
   "metadata": {},
   "outputs": [
    {
     "data": {
      "text/plain": [
       "1888"
      ]
     },
     "execution_count": 71,
     "metadata": {},
     "output_type": "execute_result"
    }
   ],
   "source": [
    "len(lung_patient[['ID','index_age']].drop_duplicates())"
   ]
  },
  {
   "cell_type": "code",
   "execution_count": 72,
   "id": "proud-smoke",
   "metadata": {},
   "outputs": [
    {
     "data": {
      "text/plain": [
       "<AxesSubplot:>"
      ]
     },
     "execution_count": 72,
     "metadata": {},
     "output_type": "execute_result"
    },
    {
     "data": {
      "image/png": "[encoded data removed]",
      "text/plain": [
       "<Figure size 640x480 with 1 Axes>"
      ]
     },
     "metadata": {},
     "output_type": "display_data"
    }
   ],
   "source": [
    "lung_patient[['ID','index_age']].drop_duplicates()['index_age'].hist()"
   ]
  },
  {
   "cell_type": "code",
   "execution_count": 92,
   "id": "white-developer",
   "metadata": {},
   "outputs": [
    {
     "name": "stdout",
     "output_type": "stream",
     "text": [
      "60.26775370092255\n",
      "[1.0, 30.0, 44.0, 55.0, 60.0, 63.0, 67.0, 71.0, 76.0, 82.0]\n"
     ]
    }
   ],
   "source": [
    "print(np.mean(lung_patient['index_age']))\n",
    "print([lung_patient['index_age'].quantile(p) for p in np.arange(0,1,0.1)])"
   ]
  },
  {
   "cell_type": "code",
   "execution_count": null,
   "id": "civic-passing",
   "metadata": {},
   "outputs": [],
   "source": []
  },
  {
   "cell_type": "code",
   "execution_count": null,
   "id": "moving-makeup",
   "metadata": {},
   "outputs": [],
   "source": []
  },
  {
   "cell_type": "code",
   "execution_count": 73,
   "id": "essential-plastic",
   "metadata": {},
   "outputs": [
    {
     "data": {
      "text/plain": [
       "1806"
      ]
     },
     "execution_count": 73,
     "metadata": {},
     "output_type": "execute_result"
    }
   ],
   "source": [
    "colorectal_patient = diagnosis.loc[diagnosis['DX'].isin(colorectal_cancer_icd)][['DX','ID','index_age']].drop_duplicates().reset_index(drop=True)\n",
    "len(colorectal_patient['ID'].drop_duplicates())"
   ]
  },
  {
   "cell_type": "code",
   "execution_count": 74,
   "id": "delayed-harassment",
   "metadata": {},
   "outputs": [
    {
     "data": {
      "text/plain": [
       "<AxesSubplot:>"
      ]
     },
     "execution_count": 74,
     "metadata": {},
     "output_type": "execute_result"
    },
    {
     "data": {
      "image/png": "[encoded data removed]",
      "text/plain": [
       "<Figure size 640x480 with 1 Axes>"
      ]
     },
     "metadata": {},
     "output_type": "display_data"
    }
   ],
   "source": [
    "colorectal_patient[['ID','index_age']].drop_duplicates()['index_age'].hist()"
   ]
  },
  {
   "cell_type": "code",
   "execution_count": 91,
   "id": "dynamic-authorization",
   "metadata": {},
   "outputs": [
    {
     "name": "stdout",
     "output_type": "stream",
     "text": [
      "59.418386941910704\n",
      "[0.0, 33.0, 43.0, 51.0, 57.0, 61.0, 65.0, 69.5, 76.0, 83.0]\n"
     ]
    }
   ],
   "source": [
    "print(np.mean(colorectal_patient['index_age']))\n",
    "print([colorectal_patient['index_age'].quantile(p) for p in np.arange(0,1,0.1)])"
   ]
  },
  {
   "cell_type": "code",
   "execution_count": null,
   "id": "adjustable-times",
   "metadata": {},
   "outputs": [],
   "source": []
  },
  {
   "cell_type": "code",
   "execution_count": null,
   "id": "authorized-penny",
   "metadata": {},
   "outputs": [],
   "source": []
  },
  {
   "cell_type": "code",
   "execution_count": 76,
   "id": "demonstrated-wealth",
   "metadata": {},
   "outputs": [
    {
     "data": {
      "text/plain": [
       "3158"
      ]
     },
     "execution_count": 76,
     "metadata": {},
     "output_type": "execute_result"
    }
   ],
   "source": [
    "breast_patient = diagnosis.loc[diagnosis['DX'].isin(breast_cancer_icd)][['DX','ID','index_age']].drop_duplicates().reset_index(drop=True)\n",
    "len(breast_patient[['ID','index_age']].drop_duplicates())"
   ]
  },
  {
   "cell_type": "code",
   "execution_count": 77,
   "id": "incorporated-paris",
   "metadata": {},
   "outputs": [
    {
     "data": {
      "text/plain": [
       "<AxesSubplot:>"
      ]
     },
     "execution_count": 77,
     "metadata": {},
     "output_type": "execute_result"
    },
    {
     "data": {
      "image/png": "[encoded data removed]",
      "text/plain": [
       "<Figure size 640x480 with 1 Axes>"
      ]
     },
     "metadata": {},
     "output_type": "display_data"
    }
   ],
   "source": [
    "breast_patient[['ID','index_age']].drop_duplicates()['index_age'].hist()"
   ]
  },
  {
   "cell_type": "code",
   "execution_count": 90,
   "id": "suffering-analyst",
   "metadata": {},
   "outputs": [
    {
     "name": "stdout",
     "output_type": "stream",
     "text": [
      "57.90719879841219\n",
      "[13.0, 33.0, 41.0, 48.0, 54.0, 59.0, 63.0, 68.0, 74.0, 81.0]\n"
     ]
    }
   ],
   "source": [
    "print(np.mean(breast_patient['index_age']))\n",
    "print([breast_patient['index_age'].quantile(p) for p in np.arange(0,1,0.1)])"
   ]
  },
  {
   "cell_type": "code",
   "execution_count": null,
   "id": "armed-contents",
   "metadata": {},
   "outputs": [],
   "source": [
    "#all cancer"
   ]
  },
  {
   "cell_type": "code",
   "execution_count": 46,
   "id": "operational-kruger",
   "metadata": {},
   "outputs": [],
   "source": [
    "#cond 9 "
   ]
  },
  {
   "cell_type": "code",
   "execution_count": 99,
   "id": "published-heating",
   "metadata": {},
   "outputs": [
    {
     "data": {
      "text/plain": [
       "10    110315784\n",
       "9      25115972\n",
       "10      1315678\n",
       "09       242782\n",
       "SM         4268\n",
       "OT           61\n",
       "Name: DX_TYPE, dtype: int64"
      ]
     },
     "execution_count": 99,
     "metadata": {},
     "output_type": "execute_result"
    }
   ],
   "source": [
    "diagnosis.DX_TYPE.value_counts()"
   ]
  },
  {
   "cell_type": "code",
   "execution_count": null,
   "id": "helpful-monster",
   "metadata": {},
   "outputs": [],
   "source": []
  },
  {
   "cell_type": "markdown",
   "id": "electric-tamil",
   "metadata": {},
   "source": [
    "# 2. Exploratory Data Analysis"
   ]
  },
  {
   "cell_type": "markdown",
   "id": "sustainable-dinner",
   "metadata": {},
   "source": [
    "## 2.1 All"
   ]
  },
  {
   "cell_type": "code",
   "execution_count": 48,
   "id": "surprising-attempt",
   "metadata": {},
   "outputs": [],
   "source": [
    "#take the positive cases\n",
    "index_date_case = index_date.loc[index_date['group']=='case']\n",
    "index_date_control = index_date.loc[index_date['group']=='cont']"
   ]
  },
  {
   "cell_type": "code",
   "execution_count": 50,
   "id": "excellent-birmingham",
   "metadata": {},
   "outputs": [
    {
     "name": "stderr",
     "output_type": "stream",
     "text": [
      "/tmp/ipykernel_4228/278145710.py:1: SettingWithCopyWarning: \n",
      "A value is trying to be set on a copy of a slice from a DataFrame.\n",
      "Try using .loc[row_indexer,col_indexer] = value instead\n",
      "\n",
      "See the caveats in the documentation: https://pandas.pydata.org/pandas-docs/stable/user_guide/indexing.html#returning-a-view-versus-a-copy\n",
      "  index_date_case['index_date']=pd.to_datetime(index_date_case['index_date'])\n",
      "/tmp/ipykernel_4228/278145710.py:2: SettingWithCopyWarning: \n",
      "A value is trying to be set on a copy of a slice from a DataFrame.\n",
      "Try using .loc[row_indexer,col_indexer] = value instead\n",
      "\n",
      "See the caveats in the documentation: https://pandas.pydata.org/pandas-docs/stable/user_guide/indexing.html#returning-a-view-versus-a-copy\n",
      "  index_date_case['pasc_onset_date']=pd.to_datetime(index_date_case['pasc_onset_date'])\n",
      "/tmp/ipykernel_4228/278145710.py:3: SettingWithCopyWarning: \n",
      "A value is trying to be set on a copy of a slice from a DataFrame.\n",
      "Try using .loc[row_indexer,col_indexer] = value instead\n",
      "\n",
      "See the caveats in the documentation: https://pandas.pydata.org/pandas-docs/stable/user_guide/indexing.html#returning-a-view-versus-a-copy\n",
      "  index_date_control['index_date']=pd.to_datetime(index_date_control['index_date'])\n"
     ]
    }
   ],
   "source": [
    "index_date_case['index_date']=pd.to_datetime(index_date_case['index_date'])\n",
    "index_date_case['pasc_onset_date']=pd.to_datetime(index_date_case['pasc_onset_date'])\n",
    "index_date_control['index_date']=pd.to_datetime(index_date_control['index_date'])"
   ]
  },
  {
   "cell_type": "code",
   "execution_count": 77,
   "id": "floppy-india",
   "metadata": {},
   "outputs": [],
   "source": [
    "index_date_processed = pd.concat([index_date_case,index_date_control])"
   ]
  },
  {
   "cell_type": "code",
   "execution_count": 69,
   "id": "received-income",
   "metadata": {},
   "outputs": [
    {
     "data": {
      "text/plain": [
       "(5651, 224041, 229692)"
      ]
     },
     "execution_count": 69,
     "metadata": {},
     "output_type": "execute_result"
    }
   ],
   "source": [
    "len(index_date_case),len(index_date_control),len(index_date_case)+len(index_date_control)"
   ]
  },
  {
   "cell_type": "code",
   "execution_count": 70,
   "id": "combined-breakdown",
   "metadata": {},
   "outputs": [],
   "source": [
    "#index_date_case['time_to_pasc'] = index_date_case.apply(lambda x: relativedelta( x.pasc_onset_date,x.index_date).days, axis=1)\n",
    "#index_date_control['time_to_pasc'] = np.nan"
   ]
  },
  {
   "cell_type": "code",
   "execution_count": 74,
   "id": "portable-foster",
   "metadata": {},
   "outputs": [],
   "source": [
    "index_date_nonna = index_date.loc[~(index_date['index_date'].isna())] \n",
    "index_date_case_nonna = index_date_nonna.loc[index_date['group']=='case']\n",
    "index_date_control_nonna = index_date_nonna.loc[index_date['group']=='cont']"
   ]
  },
  {
   "cell_type": "code",
   "execution_count": 75,
   "id": "thorough-seminar",
   "metadata": {},
   "outputs": [
    {
     "data": {
      "text/plain": [
       "(1937, 224041, 225978)"
      ]
     },
     "execution_count": 75,
     "metadata": {},
     "output_type": "execute_result"
    }
   ],
   "source": [
    "len(index_date_case_nonna),len(index_date_control_nonna),len(index_date_case_nonna)+len(index_date_control_nonna)"
   ]
  },
  {
   "cell_type": "code",
   "execution_count": 98,
   "id": "coral-belize",
   "metadata": {},
   "outputs": [
    {
     "data": {
      "text/plain": [
       "(Timestamp('2020-03-01 00:00:00'), Timestamp('2022-06-04 00:00:00'))"
      ]
     },
     "execution_count": 98,
     "metadata": {},
     "output_type": "execute_result"
    }
   ],
   "source": [
    "#date of events\n",
    "min(index_date_processed['index_date'].dropna()),max(index_date_processed['index_date'].dropna())"
   ]
  },
  {
   "cell_type": "code",
   "execution_count": 99,
   "id": "macro-issue",
   "metadata": {},
   "outputs": [
    {
     "data": {
      "text/plain": [
       "(Timestamp('2020-06-24 00:00:00'), Timestamp('2022-05-25 00:00:00'))"
      ]
     },
     "execution_count": 99,
     "metadata": {},
     "output_type": "execute_result"
    }
   ],
   "source": [
    "min(index_date_processed['pasc_onset_date'].dropna()),max(index_date_processed['pasc_onset_date'].dropna())"
   ]
  },
  {
   "cell_type": "code",
   "execution_count": 95,
   "id": "dietary-spyware",
   "metadata": {},
   "outputs": [
    {
     "data": {
      "image/png": "[encoded data removed]",
      "text/plain": [
       "<Figure size 640x480 with 1 Axes>"
      ]
     },
     "metadata": {},
     "output_type": "display_data"
    }
   ],
   "source": [
    "index_date_processed['pasc_onset_date'].dropna().hist(bins=100)\n",
    "plt.xticks(rotation=45,fontsize=10)\n",
    "plt.title('Distribution of PASC onset dates')\n",
    "plt.show()"
   ]
  },
  {
   "cell_type": "code",
   "execution_count": 96,
   "id": "false-method",
   "metadata": {},
   "outputs": [
    {
     "data": {
      "image/png": "[encoded data removed]",
      "text/plain": [
       "<Figure size 640x480 with 1 Axes>"
      ]
     },
     "metadata": {},
     "output_type": "display_data"
    }
   ],
   "source": [
    "index_date_processed['index_date'].dropna().hist(bins=100)\n",
    "plt.xticks(rotation=45,fontsize=10)\n",
    "plt.title('Distribution of COVID19 onset dates')\n",
    "plt.show()"
   ]
  },
  {
   "cell_type": "code",
   "execution_count": null,
   "id": "impaired-louisville",
   "metadata": {},
   "outputs": [],
   "source": []
  },
  {
   "cell_type": "code",
   "execution_count": null,
   "id": "thick-turtle",
   "metadata": {},
   "outputs": [],
   "source": [
    "#race ethnicity"
   ]
  },
  {
   "cell_type": "code",
   "execution_count": null,
   "id": "endangered-pepper",
   "metadata": {},
   "outputs": [],
   "source": []
  },
  {
   "cell_type": "code",
   "execution_count": 101,
   "id": "canadian-paste",
   "metadata": {},
   "outputs": [
    {
     "name": "stderr",
     "output_type": "stream",
     "text": [
      "/tmp/ipykernel_4228/1129743.py:3: SettingWithCopyWarning: \n",
      "A value is trying to be set on a copy of a slice from a DataFrame.\n",
      "Try using .loc[row_indexer,col_indexer] = value instead\n",
      "\n",
      "See the caveats in the documentation: https://pandas.pydata.org/pandas-docs/stable/user_guide/indexing.html#returning-a-view-versus-a-copy\n",
      "  index_date_processed_pasc_nonna['time_to_pasc'] = index_date_processed_pasc_nonna.apply(lambda x: relativedelta( x.pasc_onset_date,x.index_date).days, axis=1)\n"
     ]
    }
   ],
   "source": [
    "#distribution of covid to pasc date\n",
    "index_date_processed_pasc_nonna = index_date_processed.loc[(~index_date_processed['index_date'].isna())&(~index_date_processed['pasc_onset_date'].isna())]\n",
    "index_date_processed_pasc_nonna['time_to_pasc'] = index_date_processed_pasc_nonna.apply(lambda x: relativedelta( x.pasc_onset_date,x.index_date).days, axis=1)"
   ]
  },
  {
   "cell_type": "code",
   "execution_count": 103,
   "id": "rough-chorus",
   "metadata": {},
   "outputs": [
    {
     "data": {
      "text/html": [
       "<div>\n",
       "<style scoped>\n",
       "    .dataframe tbody tr th:only-of-type {\n",
       "        vertical-align: middle;\n",
       "    }\n",
       "\n",
       "    .dataframe tbody tr th {\n",
       "        vertical-align: top;\n",
       "    }\n",
       "\n",
       "    .dataframe thead th {\n",
       "        text-align: right;\n",
       "    }\n",
       "</style>\n",
       "<table border=\"1\" class=\"dataframe\">\n",
       "  <thead>\n",
       "    <tr style=\"text-align: right;\">\n",
       "      <th></th>\n",
       "      <th>ID</th>\n",
       "      <th>index_date</th>\n",
       "      <th>pasc_onset_date</th>\n",
       "      <th>group</th>\n",
       "      <th>time_to_pasc</th>\n",
       "    </tr>\n",
       "  </thead>\n",
       "  <tbody>\n",
       "    <tr>\n",
       "      <th>8622</th>\n",
       "      <td>19Oct2022covidpasc00068949</td>\n",
       "      <td>2022-01-25</td>\n",
       "      <td>2022-01-18 00:00:00</td>\n",
       "      <td>case</td>\n",
       "      <td>-7</td>\n",
       "    </tr>\n",
       "    <tr>\n",
       "      <th>9488</th>\n",
       "      <td>19Oct2022covidpasc00076115</td>\n",
       "      <td>2021-12-16</td>\n",
       "      <td>2021-12-09 00:00:00</td>\n",
       "      <td>case</td>\n",
       "      <td>-7</td>\n",
       "    </tr>\n",
       "    <tr>\n",
       "      <th>10754</th>\n",
       "      <td>19Oct2022covidpasc00085481</td>\n",
       "      <td>2021-12-08</td>\n",
       "      <td>2021-11-10 00:00:00</td>\n",
       "      <td>case</td>\n",
       "      <td>-28</td>\n",
       "    </tr>\n",
       "    <tr>\n",
       "      <th>13927</th>\n",
       "      <td>19Oct2022covidpasc00112054</td>\n",
       "      <td>2022-01-21</td>\n",
       "      <td>2022-01-20 00:00:00</td>\n",
       "      <td>case</td>\n",
       "      <td>-1</td>\n",
       "    </tr>\n",
       "    <tr>\n",
       "      <th>14066</th>\n",
       "      <td>19Oct2022covidpasc00112193</td>\n",
       "      <td>2022-03-23</td>\n",
       "      <td>2022-02-17 00:00:00</td>\n",
       "      <td>case</td>\n",
       "      <td>-6</td>\n",
       "    </tr>\n",
       "    <tr>\n",
       "      <th>...</th>\n",
       "      <td>...</td>\n",
       "      <td>...</td>\n",
       "      <td>...</td>\n",
       "      <td>...</td>\n",
       "      <td>...</td>\n",
       "    </tr>\n",
       "    <tr>\n",
       "      <th>202520</th>\n",
       "      <td>19Oct2022covidpasc00007930</td>\n",
       "      <td>2021-10-29</td>\n",
       "      <td>2021-08-23 00:00:00</td>\n",
       "      <td>case</td>\n",
       "      <td>-6</td>\n",
       "    </tr>\n",
       "    <tr>\n",
       "      <th>205968</th>\n",
       "      <td>19Oct2022covidpasc00039277</td>\n",
       "      <td>2021-12-26</td>\n",
       "      <td>2021-10-14 00:00:00</td>\n",
       "      <td>case</td>\n",
       "      <td>-12</td>\n",
       "    </tr>\n",
       "    <tr>\n",
       "      <th>215745</th>\n",
       "      <td>19Oct2022covidpasc00118354</td>\n",
       "      <td>2021-12-02</td>\n",
       "      <td>2021-12-01 00:00:00</td>\n",
       "      <td>case</td>\n",
       "      <td>-1</td>\n",
       "    </tr>\n",
       "    <tr>\n",
       "      <th>221942</th>\n",
       "      <td>19Oct2022covidpasc00165051</td>\n",
       "      <td>2022-01-12</td>\n",
       "      <td>2021-09-27 00:00:00</td>\n",
       "      <td>case</td>\n",
       "      <td>-15</td>\n",
       "    </tr>\n",
       "    <tr>\n",
       "      <th>223048</th>\n",
       "      <td>19Oct2022covidpasc00171557</td>\n",
       "      <td>2022-01-26</td>\n",
       "      <td>2022-01-21 00:00:00</td>\n",
       "      <td>case</td>\n",
       "      <td>-5</td>\n",
       "    </tr>\n",
       "  </tbody>\n",
       "</table>\n",
       "<p>65 rows × 5 columns</p>\n",
       "</div>"
      ],
      "text/plain": [
       "                                ID index_date      pasc_onset_date group  \\\n",
       "8622    19Oct2022covidpasc00068949 2022-01-25  2022-01-18 00:00:00  case   \n",
       "9488    19Oct2022covidpasc00076115 2021-12-16  2021-12-09 00:00:00  case   \n",
       "10754   19Oct2022covidpasc00085481 2021-12-08  2021-11-10 00:00:00  case   \n",
       "13927   19Oct2022covidpasc00112054 2022-01-21  2022-01-20 00:00:00  case   \n",
       "14066   19Oct2022covidpasc00112193 2022-03-23  2022-02-17 00:00:00  case   \n",
       "...                            ...        ...                  ...   ...   \n",
       "202520  19Oct2022covidpasc00007930 2021-10-29  2021-08-23 00:00:00  case   \n",
       "205968  19Oct2022covidpasc00039277 2021-12-26  2021-10-14 00:00:00  case   \n",
       "215745  19Oct2022covidpasc00118354 2021-12-02  2021-12-01 00:00:00  case   \n",
       "221942  19Oct2022covidpasc00165051 2022-01-12  2021-09-27 00:00:00  case   \n",
       "223048  19Oct2022covidpasc00171557 2022-01-26  2022-01-21 00:00:00  case   \n",
       "\n",
       "        time_to_pasc  \n",
       "8622              -7  \n",
       "9488              -7  \n",
       "10754            -28  \n",
       "13927             -1  \n",
       "14066             -6  \n",
       "...              ...  \n",
       "202520            -6  \n",
       "205968           -12  \n",
       "215745            -1  \n",
       "221942           -15  \n",
       "223048            -5  \n",
       "\n",
       "[65 rows x 5 columns]"
      ]
     },
     "execution_count": 103,
     "metadata": {},
     "output_type": "execute_result"
    }
   ],
   "source": [
    "index_date_processed_pasc_nonna.loc[index_date_processed_pasc_nonna['time_to_pasc']<0]"
   ]
  },
  {
   "cell_type": "code",
   "execution_count": 104,
   "id": "royal-gates",
   "metadata": {},
   "outputs": [
    {
     "data": {
      "text/plain": [
       "Text(0.5, 1.0, 'Days from COVID19 index date to PASC onset date')"
      ]
     },
     "execution_count": 104,
     "metadata": {},
     "output_type": "execute_result"
    },
    {
     "data": {
      "image/png": "[encoded data removed]",
      "text/plain": [
       "<Figure size 640x480 with 1 Axes>"
      ]
     },
     "metadata": {},
     "output_type": "display_data"
    }
   ],
   "source": [
    "index_date_processed_pasc_nonna['time_to_pasc'].hist()\n",
    "plt.title('Days from COVID19 index date to PASC onset date')"
   ]
  },
  {
   "cell_type": "code",
   "execution_count": 105,
   "id": "technological-exception",
   "metadata": {},
   "outputs": [
    {
     "data": {
      "text/html": [
       "<div>\n",
       "<style scoped>\n",
       "    .dataframe tbody tr th:only-of-type {\n",
       "        vertical-align: middle;\n",
       "    }\n",
       "\n",
       "    .dataframe tbody tr th {\n",
       "        vertical-align: top;\n",
       "    }\n",
       "\n",
       "    .dataframe thead th {\n",
       "        text-align: right;\n",
       "    }\n",
       "</style>\n",
       "<table border=\"1\" class=\"dataframe\">\n",
       "  <thead>\n",
       "    <tr style=\"text-align: right;\">\n",
       "      <th></th>\n",
       "      <th>ID</th>\n",
       "      <th>BIRTH_DATE</th>\n",
       "      <th>BIRTH_TIME</th>\n",
       "      <th>SEX</th>\n",
       "      <th>SEXUAL_ORIENTATION</th>\n",
       "      <th>GENDER_IDENTITY</th>\n",
       "      <th>HISPANIC</th>\n",
       "      <th>RACE</th>\n",
       "      <th>BIOBANK_FLAG</th>\n",
       "      <th>PAT_PREF_LANGUAGE_SPOKEN</th>\n",
       "      <th>ZIP_CODE</th>\n",
       "      <th>SOURCE_masked</th>\n",
       "    </tr>\n",
       "  </thead>\n",
       "  <tbody>\n",
       "    <tr>\n",
       "      <th>0</th>\n",
       "      <td>19Oct2022covidpasc00121586</td>\n",
       "      <td>1991-10-04</td>\n",
       "      <td>00:00</td>\n",
       "      <td>F</td>\n",
       "      <td>NaN</td>\n",
       "      <td>NaN</td>\n",
       "      <td>N</td>\n",
       "      <td>05</td>\n",
       "      <td>N</td>\n",
       "      <td>ENG</td>\n",
       "      <td>327769298</td>\n",
       "      <td>source_12</td>\n",
       "    </tr>\n",
       "    <tr>\n",
       "      <th>1</th>\n",
       "      <td>19Oct2022covidpasc00125493</td>\n",
       "      <td>1947-04-10</td>\n",
       "      <td>00:00</td>\n",
       "      <td>M</td>\n",
       "      <td>NaN</td>\n",
       "      <td>NaN</td>\n",
       "      <td>N</td>\n",
       "      <td>05</td>\n",
       "      <td>N</td>\n",
       "      <td>ENG</td>\n",
       "      <td>328188842</td>\n",
       "      <td>source_11</td>\n",
       "    </tr>\n",
       "    <tr>\n",
       "      <th>2</th>\n",
       "      <td>19Oct2022covidpasc00008560</td>\n",
       "      <td>1961-08-09</td>\n",
       "      <td>00:00</td>\n",
       "      <td>M</td>\n",
       "      <td>NaN</td>\n",
       "      <td>NaN</td>\n",
       "      <td>Y</td>\n",
       "      <td>05</td>\n",
       "      <td>N</td>\n",
       "      <td>ENG</td>\n",
       "      <td>347412932</td>\n",
       "      <td>source_12</td>\n",
       "    </tr>\n",
       "    <tr>\n",
       "      <th>3</th>\n",
       "      <td>19Oct2022covidpasc00183957</td>\n",
       "      <td>1975-10-15</td>\n",
       "      <td>00:00</td>\n",
       "      <td>F</td>\n",
       "      <td>NaN</td>\n",
       "      <td>NaN</td>\n",
       "      <td>N</td>\n",
       "      <td>05</td>\n",
       "      <td>N</td>\n",
       "      <td>ENG</td>\n",
       "      <td>327145836</td>\n",
       "      <td>source_12</td>\n",
       "    </tr>\n",
       "    <tr>\n",
       "      <th>4</th>\n",
       "      <td>19Oct2022covidpasc00184103</td>\n",
       "      <td>1993-07-07</td>\n",
       "      <td>00:00</td>\n",
       "      <td>M</td>\n",
       "      <td>NaN</td>\n",
       "      <td>NaN</td>\n",
       "      <td>Y</td>\n",
       "      <td>05</td>\n",
       "      <td>N</td>\n",
       "      <td>NaN</td>\n",
       "      <td>33837</td>\n",
       "      <td>source_12</td>\n",
       "    </tr>\n",
       "    <tr>\n",
       "      <th>...</th>\n",
       "      <td>...</td>\n",
       "      <td>...</td>\n",
       "      <td>...</td>\n",
       "      <td>...</td>\n",
       "      <td>...</td>\n",
       "      <td>...</td>\n",
       "      <td>...</td>\n",
       "      <td>...</td>\n",
       "      <td>...</td>\n",
       "      <td>...</td>\n",
       "      <td>...</td>\n",
       "      <td>...</td>\n",
       "    </tr>\n",
       "    <tr>\n",
       "      <th>227288</th>\n",
       "      <td>19Oct2022covidpasc00053917</td>\n",
       "      <td>1984-02-17</td>\n",
       "      <td>19:00</td>\n",
       "      <td>M</td>\n",
       "      <td>NaN</td>\n",
       "      <td>NaN</td>\n",
       "      <td>N</td>\n",
       "      <td>05</td>\n",
       "      <td>N</td>\n",
       "      <td>ENG</td>\n",
       "      <td>327123851</td>\n",
       "      <td>source_12</td>\n",
       "    </tr>\n",
       "    <tr>\n",
       "      <th>227289</th>\n",
       "      <td>19Oct2022covidpasc00158354</td>\n",
       "      <td>1988-06-03</td>\n",
       "      <td>NaN</td>\n",
       "      <td>F</td>\n",
       "      <td>NI</td>\n",
       "      <td>NaN</td>\n",
       "      <td>UN</td>\n",
       "      <td>UN</td>\n",
       "      <td>NaN</td>\n",
       "      <td>NI</td>\n",
       "      <td>32301</td>\n",
       "      <td>source_15</td>\n",
       "    </tr>\n",
       "    <tr>\n",
       "      <th>227290</th>\n",
       "      <td>19Oct2022covidpasc00023017</td>\n",
       "      <td>1983-12-05</td>\n",
       "      <td>00:00</td>\n",
       "      <td>M</td>\n",
       "      <td>NI</td>\n",
       "      <td>NI</td>\n",
       "      <td>N</td>\n",
       "      <td>05</td>\n",
       "      <td>N</td>\n",
       "      <td>ENG</td>\n",
       "      <td>33513-8203</td>\n",
       "      <td>source_3</td>\n",
       "    </tr>\n",
       "    <tr>\n",
       "      <th>227291</th>\n",
       "      <td>19Oct2022covidpasc00041748</td>\n",
       "      <td>1997-10-20</td>\n",
       "      <td>00:00</td>\n",
       "      <td>M</td>\n",
       "      <td>NaN</td>\n",
       "      <td>NaN</td>\n",
       "      <td>Y</td>\n",
       "      <td>05</td>\n",
       "      <td>N</td>\n",
       "      <td>ENG</td>\n",
       "      <td>347446148</td>\n",
       "      <td>source_12</td>\n",
       "    </tr>\n",
       "    <tr>\n",
       "      <th>227292</th>\n",
       "      <td>19Oct2022covidpasc00161643</td>\n",
       "      <td>1955-04-29</td>\n",
       "      <td>NaN</td>\n",
       "      <td>F</td>\n",
       "      <td>NaN</td>\n",
       "      <td>NaN</td>\n",
       "      <td>Y</td>\n",
       "      <td>OT</td>\n",
       "      <td>N</td>\n",
       "      <td>SPA</td>\n",
       "      <td>34743</td>\n",
       "      <td>source_10</td>\n",
       "    </tr>\n",
       "  </tbody>\n",
       "</table>\n",
       "<p>455995 rows × 12 columns</p>\n",
       "</div>"
      ],
      "text/plain": [
       "                                ID  BIRTH_DATE BIRTH_TIME SEX  \\\n",
       "0       19Oct2022covidpasc00121586  1991-10-04      00:00   F   \n",
       "1       19Oct2022covidpasc00125493  1947-04-10      00:00   M   \n",
       "2       19Oct2022covidpasc00008560  1961-08-09      00:00   M   \n",
       "3       19Oct2022covidpasc00183957  1975-10-15      00:00   F   \n",
       "4       19Oct2022covidpasc00184103  1993-07-07      00:00   M   \n",
       "...                            ...         ...        ...  ..   \n",
       "227288  19Oct2022covidpasc00053917  1984-02-17      19:00   M   \n",
       "227289  19Oct2022covidpasc00158354  1988-06-03        NaN   F   \n",
       "227290  19Oct2022covidpasc00023017  1983-12-05      00:00   M   \n",
       "227291  19Oct2022covidpasc00041748  1997-10-20      00:00   M   \n",
       "227292  19Oct2022covidpasc00161643  1955-04-29        NaN   F   \n",
       "\n",
       "       SEXUAL_ORIENTATION GENDER_IDENTITY HISPANIC RACE BIOBANK_FLAG  \\\n",
       "0                     NaN             NaN        N   05            N   \n",
       "1                     NaN             NaN        N   05            N   \n",
       "2                     NaN             NaN        Y   05            N   \n",
       "3                     NaN             NaN        N   05            N   \n",
       "4                     NaN             NaN        Y   05            N   \n",
       "...                   ...             ...      ...  ...          ...   \n",
       "227288                NaN             NaN        N   05            N   \n",
       "227289                 NI             NaN       UN   UN          NaN   \n",
       "227290                 NI              NI        N   05            N   \n",
       "227291                NaN             NaN        Y   05            N   \n",
       "227292                NaN             NaN        Y   OT            N   \n",
       "\n",
       "       PAT_PREF_LANGUAGE_SPOKEN    ZIP_CODE SOURCE_masked  \n",
       "0                           ENG   327769298     source_12  \n",
       "1                           ENG   328188842     source_11  \n",
       "2                           ENG   347412932     source_12  \n",
       "3                           ENG   327145836     source_12  \n",
       "4                           NaN       33837     source_12  \n",
       "...                         ...         ...           ...  \n",
       "227288                      ENG   327123851     source_12  \n",
       "227289                       NI       32301     source_15  \n",
       "227290                      ENG  33513-8203      source_3  \n",
       "227291                      ENG   347446148     source_12  \n",
       "227292                      SPA       34743     source_10  \n",
       "\n",
       "[455995 rows x 12 columns]"
      ]
     },
     "execution_count": 105,
     "metadata": {},
     "output_type": "execute_result"
    }
   ],
   "source": [
    "#race and ethnicity"
   ]
  },
  {
   "cell_type": "code",
   "execution_count": 114,
   "id": "exterior-tradition",
   "metadata": {},
   "outputs": [],
   "source": [
    "demographics_trimmed = demographics_trimmed"
   ]
  },
  {
   "cell_type": "code",
   "execution_count": 115,
   "id": "confidential-aurora",
   "metadata": {},
   "outputs": [
    {
     "data": {
      "text/plain": [
       "((229689, 12), (455995, 12))"
      ]
     },
     "execution_count": 115,
     "metadata": {},
     "output_type": "execute_result"
    }
   ],
   "source": [
    "demographics_trimmed.shape,demographics.shape"
   ]
  },
  {
   "cell_type": "code",
   "execution_count": 127,
   "id": "involved-girlfriend",
   "metadata": {},
   "outputs": [],
   "source": [
    "demographics_trimmed = demographics_trimmed.merge(index_date_processed,on='ID',how='left')"
   ]
  },
  {
   "cell_type": "code",
   "execution_count": 132,
   "id": "brief-anxiety",
   "metadata": {},
   "outputs": [],
   "source": [
    "demographics_trimmed['PASC_indicator'] = (~demographics_trimmed['pasc_onset_date'].isna())*1"
   ]
  },
  {
   "cell_type": "code",
   "execution_count": 133,
   "id": "existing-armstrong",
   "metadata": {},
   "outputs": [],
   "source": [
    "demographics_trimmed_race = demographics_trimmed.groupby('RACE').agg({'ID':'size',\n",
    "                                                                      'PASC_indicator':'sum'}).reset_index()\n",
    "demographics_trimmed_race.columns = ['RACE','Num_Patients','PASC_Patients']"
   ]
  },
  {
   "cell_type": "code",
   "execution_count": 134,
   "id": "standing-roots",
   "metadata": {},
   "outputs": [],
   "source": [
    "demographics_trimmed_race['RACE'] = demographics_trimmed_race['RACE'].replace({'01':'American_Indian_or_Alaska_Native ',\n",
    "                                                                               '02':'Asian',\n",
    "                                                                               '03':'Black_or_African_American',\n",
    "                                                                               '04':'Native_Hawaiian_or_Other',\n",
    "                                                                               '05':'White',\n",
    "                                                                               '06':'Multiplce_Race',\n",
    "                                                                               '07':'Refuse_to_Answer',\n",
    "                                                                               'NI':'No_Information',\n",
    "                                                                               'OT':'Other',\n",
    "                                                                               'UN':'Unknown'})"
   ]
  },
  {
   "cell_type": "code",
   "execution_count": 141,
   "id": "miniature-billy",
   "metadata": {},
   "outputs": [],
   "source": [
    "demographics_trimmed_race['PASC_incidence(%)'] =np.round(100*demographics_trimmed_race['PASC_Patients']/demographics_trimmed_race['Num_Patients'],2)"
   ]
  },
  {
   "cell_type": "code",
   "execution_count": 142,
   "id": "public-delivery",
   "metadata": {},
   "outputs": [
    {
     "data": {
      "text/html": [
       "<div>\n",
       "<style scoped>\n",
       "    .dataframe tbody tr th:only-of-type {\n",
       "        vertical-align: middle;\n",
       "    }\n",
       "\n",
       "    .dataframe tbody tr th {\n",
       "        vertical-align: top;\n",
       "    }\n",
       "\n",
       "    .dataframe thead th {\n",
       "        text-align: right;\n",
       "    }\n",
       "</style>\n",
       "<table border=\"1\" class=\"dataframe\">\n",
       "  <thead>\n",
       "    <tr style=\"text-align: right;\">\n",
       "      <th></th>\n",
       "      <th>RACE</th>\n",
       "      <th>Num_Patients</th>\n",
       "      <th>PASC_Patients</th>\n",
       "      <th>PASC_incidence(%)</th>\n",
       "    </tr>\n",
       "  </thead>\n",
       "  <tbody>\n",
       "    <tr>\n",
       "      <th>0</th>\n",
       "      <td>White</td>\n",
       "      <td>117056</td>\n",
       "      <td>3108</td>\n",
       "      <td>2.66</td>\n",
       "    </tr>\n",
       "    <tr>\n",
       "      <th>1</th>\n",
       "      <td>Black_or_African_American</td>\n",
       "      <td>58652</td>\n",
       "      <td>1326</td>\n",
       "      <td>2.26</td>\n",
       "    </tr>\n",
       "    <tr>\n",
       "      <th>2</th>\n",
       "      <td>Other</td>\n",
       "      <td>38008</td>\n",
       "      <td>879</td>\n",
       "      <td>2.31</td>\n",
       "    </tr>\n",
       "    <tr>\n",
       "      <th>3</th>\n",
       "      <td>Unknown</td>\n",
       "      <td>8577</td>\n",
       "      <td>173</td>\n",
       "      <td>2.02</td>\n",
       "    </tr>\n",
       "    <tr>\n",
       "      <th>4</th>\n",
       "      <td>Multiplce_Race</td>\n",
       "      <td>2937</td>\n",
       "      <td>45</td>\n",
       "      <td>1.53</td>\n",
       "    </tr>\n",
       "    <tr>\n",
       "      <th>5</th>\n",
       "      <td>Asian</td>\n",
       "      <td>2883</td>\n",
       "      <td>64</td>\n",
       "      <td>2.22</td>\n",
       "    </tr>\n",
       "    <tr>\n",
       "      <th>6</th>\n",
       "      <td>American_Indian_or_Alaska_Native</td>\n",
       "      <td>554</td>\n",
       "      <td>20</td>\n",
       "      <td>3.61</td>\n",
       "    </tr>\n",
       "    <tr>\n",
       "      <th>7</th>\n",
       "      <td>Refuse_to_Answer</td>\n",
       "      <td>500</td>\n",
       "      <td>25</td>\n",
       "      <td>5.00</td>\n",
       "    </tr>\n",
       "    <tr>\n",
       "      <th>8</th>\n",
       "      <td>No_Information</td>\n",
       "      <td>171</td>\n",
       "      <td>5</td>\n",
       "      <td>2.92</td>\n",
       "    </tr>\n",
       "    <tr>\n",
       "      <th>9</th>\n",
       "      <td>Native_Hawaiian_or_Other</td>\n",
       "      <td>164</td>\n",
       "      <td>3</td>\n",
       "      <td>1.83</td>\n",
       "    </tr>\n",
       "  </tbody>\n",
       "</table>\n",
       "</div>"
      ],
      "text/plain": [
       "                                RACE  Num_Patients  PASC_Patients  \\\n",
       "0                              White        117056           3108   \n",
       "1          Black_or_African_American         58652           1326   \n",
       "2                              Other         38008            879   \n",
       "3                            Unknown          8577            173   \n",
       "4                     Multiplce_Race          2937             45   \n",
       "5                              Asian          2883             64   \n",
       "6  American_Indian_or_Alaska_Native            554             20   \n",
       "7                   Refuse_to_Answer           500             25   \n",
       "8                     No_Information           171              5   \n",
       "9           Native_Hawaiian_or_Other           164              3   \n",
       "\n",
       "   PASC_incidence(%)  \n",
       "0               2.66  \n",
       "1               2.26  \n",
       "2               2.31  \n",
       "3               2.02  \n",
       "4               1.53  \n",
       "5               2.22  \n",
       "6               3.61  \n",
       "7               5.00  \n",
       "8               2.92  \n",
       "9               1.83  "
      ]
     },
     "execution_count": 142,
     "metadata": {},
     "output_type": "execute_result"
    }
   ],
   "source": [
    "demographics_trimmed_race.sort_values('Num_Patients',ascending=False).reset_index(drop=True)"
   ]
  },
  {
   "cell_type": "code",
   "execution_count": 143,
   "id": "persistent-monaco",
   "metadata": {},
   "outputs": [],
   "source": [
    "#gender\n",
    "demographics_trimmed_gender = demographics_trimmed.groupby('SEX').agg({'ID':'size',\n",
    "                                                                      'PASC_indicator':'sum'}).reset_index()\n",
    "demographics_trimmed_gender.columns = ['GENDER','Num_Patients','PASC_Patients']"
   ]
  },
  {
   "cell_type": "code",
   "execution_count": 148,
   "id": "sought-filter",
   "metadata": {},
   "outputs": [],
   "source": [
    "demographics_trimmed_gender['GENDER'] = demographics_trimmed_gender['GENDER'].replace({\n",
    "                                                                               'NI':'No_Information',\n",
    "                                                                               'OT':'Other',\n",
    "                                                                               'UN':'Unknown'})"
   ]
  },
  {
   "cell_type": "code",
   "execution_count": 149,
   "id": "vietnamese-finger",
   "metadata": {},
   "outputs": [],
   "source": [
    "demographics_trimmed_gender['PASC_incidence(%)'] =np.round(100*demographics_trimmed_gender['PASC_Patients']/demographics_trimmed_gender['Num_Patients'],2)"
   ]
  },
  {
   "cell_type": "code",
   "execution_count": 150,
   "id": "choice-cosmetic",
   "metadata": {},
   "outputs": [
    {
     "data": {
      "text/html": [
       "<div>\n",
       "<style scoped>\n",
       "    .dataframe tbody tr th:only-of-type {\n",
       "        vertical-align: middle;\n",
       "    }\n",
       "\n",
       "    .dataframe tbody tr th {\n",
       "        vertical-align: top;\n",
       "    }\n",
       "\n",
       "    .dataframe thead th {\n",
       "        text-align: right;\n",
       "    }\n",
       "</style>\n",
       "<table border=\"1\" class=\"dataframe\">\n",
       "  <thead>\n",
       "    <tr style=\"text-align: right;\">\n",
       "      <th></th>\n",
       "      <th>GENDER</th>\n",
       "      <th>Num_Patients</th>\n",
       "      <th>PASC_Patients</th>\n",
       "      <th>PASC_incidence(%)</th>\n",
       "    </tr>\n",
       "  </thead>\n",
       "  <tbody>\n",
       "    <tr>\n",
       "      <th>0</th>\n",
       "      <td>F</td>\n",
       "      <td>135099</td>\n",
       "      <td>3465</td>\n",
       "      <td>2.56</td>\n",
       "    </tr>\n",
       "    <tr>\n",
       "      <th>1</th>\n",
       "      <td>M</td>\n",
       "      <td>94549</td>\n",
       "      <td>2186</td>\n",
       "      <td>2.31</td>\n",
       "    </tr>\n",
       "    <tr>\n",
       "      <th>2</th>\n",
       "      <td>No_Information</td>\n",
       "      <td>20</td>\n",
       "      <td>0</td>\n",
       "      <td>0.00</td>\n",
       "    </tr>\n",
       "    <tr>\n",
       "      <th>3</th>\n",
       "      <td>Unknown</td>\n",
       "      <td>12</td>\n",
       "      <td>0</td>\n",
       "      <td>0.00</td>\n",
       "    </tr>\n",
       "    <tr>\n",
       "      <th>4</th>\n",
       "      <td>Other</td>\n",
       "      <td>9</td>\n",
       "      <td>0</td>\n",
       "      <td>0.00</td>\n",
       "    </tr>\n",
       "  </tbody>\n",
       "</table>\n",
       "</div>"
      ],
      "text/plain": [
       "           GENDER  Num_Patients  PASC_Patients  PASC_incidence(%)\n",
       "0               F        135099           3465               2.56\n",
       "1               M         94549           2186               2.31\n",
       "2  No_Information            20              0               0.00\n",
       "3         Unknown            12              0               0.00\n",
       "4           Other             9              0               0.00"
      ]
     },
     "execution_count": 150,
     "metadata": {},
     "output_type": "execute_result"
    }
   ],
   "source": [
    "demographics_trimmed_gender.sort_values('Num_Patients',ascending=False).reset_index(drop=True)"
   ]
  },
  {
   "cell_type": "code",
   "execution_count": 151,
   "id": "infectious-tourist",
   "metadata": {},
   "outputs": [],
   "source": [
    "#age (group?)\n",
    "demographics_trimmed_nonna = demographics_trimmed.loc[~demographics_trimmed['index_date'].isna()]"
   ]
  },
  {
   "cell_type": "code",
   "execution_count": 153,
   "id": "bibliographic-numbers",
   "metadata": {},
   "outputs": [],
   "source": [
    "#define function for calculating ages\n",
    "def calc_age(born_d,index_d):\n",
    "   return index_d.year - born_d.year - ((index_d.month, \n",
    "                                      index_d.day) < (born_d.month, \n",
    "                                                    born_d.day))"
   ]
  },
  {
   "cell_type": "code",
   "execution_count": 154,
   "id": "double-wings",
   "metadata": {},
   "outputs": [
    {
     "name": "stderr",
     "output_type": "stream",
     "text": [
      "/tmp/ipykernel_4228/712567273.py:1: SettingWithCopyWarning: \n",
      "A value is trying to be set on a copy of a slice from a DataFrame.\n",
      "Try using .loc[row_indexer,col_indexer] = value instead\n",
      "\n",
      "See the caveats in the documentation: https://pandas.pydata.org/pandas-docs/stable/user_guide/indexing.html#returning-a-view-versus-a-copy\n",
      "  demographics_trimmed_nonna['BIRTH_DATE']=pd.to_datetime(demographics_trimmed_nonna['BIRTH_DATE'])\n",
      "/tmp/ipykernel_4228/712567273.py:2: SettingWithCopyWarning: \n",
      "A value is trying to be set on a copy of a slice from a DataFrame.\n",
      "Try using .loc[row_indexer,col_indexer] = value instead\n",
      "\n",
      "See the caveats in the documentation: https://pandas.pydata.org/pandas-docs/stable/user_guide/indexing.html#returning-a-view-versus-a-copy\n",
      "  demographics_trimmed_nonna['index_date']=pd.to_datetime(demographics_trimmed_nonna['index_date'])\n"
     ]
    }
   ],
   "source": [
    "demographics_trimmed_nonna['BIRTH_DATE']=pd.to_datetime(demographics_trimmed_nonna['BIRTH_DATE'])\n",
    "demographics_trimmed_nonna['index_date']=pd.to_datetime(demographics_trimmed_nonna['index_date'])"
   ]
  },
  {
   "cell_type": "code",
   "execution_count": 155,
   "id": "entitled-despite",
   "metadata": {},
   "outputs": [
    {
     "name": "stderr",
     "output_type": "stream",
     "text": [
      "/tmp/ipykernel_4228/1277798201.py:1: SettingWithCopyWarning: \n",
      "A value is trying to be set on a copy of a slice from a DataFrame.\n",
      "Try using .loc[row_indexer,col_indexer] = value instead\n",
      "\n",
      "See the caveats in the documentation: https://pandas.pydata.org/pandas-docs/stable/user_guide/indexing.html#returning-a-view-versus-a-copy\n",
      "  demographics_trimmed_nonna['COVID19_age'] = demographics_trimmed_nonna.apply(lambda x: calc_age(x.BIRTH_DATE, x.index_date), axis=1)\n"
     ]
    }
   ],
   "source": [
    "demographics_trimmed_nonna['COVID19_age'] = demographics_trimmed_nonna.apply(lambda x: calc_age(x.BIRTH_DATE, x.index_date), axis=1)"
   ]
  },
  {
   "cell_type": "code",
   "execution_count": 160,
   "id": "billion-stream",
   "metadata": {},
   "outputs": [
    {
     "name": "stderr",
     "output_type": "stream",
     "text": [
      "/tmp/ipykernel_4228/2525940481.py:1: SettingWithCopyWarning: \n",
      "A value is trying to be set on a copy of a slice from a DataFrame.\n",
      "Try using .loc[row_indexer,col_indexer] = value instead\n",
      "\n",
      "See the caveats in the documentation: https://pandas.pydata.org/pandas-docs/stable/user_guide/indexing.html#returning-a-view-versus-a-copy\n",
      "  demographics_trimmed_nonna['COVID19_age_band'] = pd.cut(demographics_trimmed_nonna.COVID19_age, \\\n"
     ]
    }
   ],
   "source": [
    "demographics_trimmed_nonna['COVID19_age_band'] = pd.cut(demographics_trimmed_nonna.COVID19_age, \\\n",
    "                                    [0,10,20,30,40,50,60,70,80,999],\\\n",
    "                                    labels = ['0~9','10~19','20~29','30~39','40~49','50~59','60~69','70~79','80~'],\\\n",
    "                                    include_lowest=True,right=False)"
   ]
  },
  {
   "cell_type": "code",
   "execution_count": 162,
   "id": "general-uruguay",
   "metadata": {},
   "outputs": [],
   "source": [
    "demographics_trimmed_age = demographics_trimmed_nonna.groupby('COVID19_age_band').agg({'ID':'size',\n",
    "                                                                      'PASC_indicator':'sum'}).reset_index()\n",
    "demographics_trimmed_age.columns = ['COVID19_age_band','Num_Patients','PASC_Patients']"
   ]
  },
  {
   "cell_type": "code",
   "execution_count": 163,
   "id": "employed-cable",
   "metadata": {},
   "outputs": [],
   "source": [
    "demographics_trimmed_age['PASC_incidence(%)'] =np.round(100*demographics_trimmed_age['PASC_Patients']/demographics_trimmed_age['Num_Patients'],2)"
   ]
  },
  {
   "cell_type": "code",
   "execution_count": 164,
   "id": "irish-publication",
   "metadata": {},
   "outputs": [
    {
     "data": {
      "text/html": [
       "<div>\n",
       "<style scoped>\n",
       "    .dataframe tbody tr th:only-of-type {\n",
       "        vertical-align: middle;\n",
       "    }\n",
       "\n",
       "    .dataframe tbody tr th {\n",
       "        vertical-align: top;\n",
       "    }\n",
       "\n",
       "    .dataframe thead th {\n",
       "        text-align: right;\n",
       "    }\n",
       "</style>\n",
       "<table border=\"1\" class=\"dataframe\">\n",
       "  <thead>\n",
       "    <tr style=\"text-align: right;\">\n",
       "      <th></th>\n",
       "      <th>COVID19_age_band</th>\n",
       "      <th>Num_Patients</th>\n",
       "      <th>PASC_Patients</th>\n",
       "      <th>PASC_incidence(%)</th>\n",
       "    </tr>\n",
       "  </thead>\n",
       "  <tbody>\n",
       "    <tr>\n",
       "      <th>0</th>\n",
       "      <td>0~9</td>\n",
       "      <td>14126</td>\n",
       "      <td>38</td>\n",
       "      <td>0.27</td>\n",
       "    </tr>\n",
       "    <tr>\n",
       "      <th>1</th>\n",
       "      <td>10~19</td>\n",
       "      <td>26692</td>\n",
       "      <td>179</td>\n",
       "      <td>0.67</td>\n",
       "    </tr>\n",
       "    <tr>\n",
       "      <th>2</th>\n",
       "      <td>20~29</td>\n",
       "      <td>41481</td>\n",
       "      <td>333</td>\n",
       "      <td>0.80</td>\n",
       "    </tr>\n",
       "    <tr>\n",
       "      <th>3</th>\n",
       "      <td>30~39</td>\n",
       "      <td>36645</td>\n",
       "      <td>313</td>\n",
       "      <td>0.85</td>\n",
       "    </tr>\n",
       "    <tr>\n",
       "      <th>4</th>\n",
       "      <td>40~49</td>\n",
       "      <td>30568</td>\n",
       "      <td>292</td>\n",
       "      <td>0.96</td>\n",
       "    </tr>\n",
       "    <tr>\n",
       "      <th>5</th>\n",
       "      <td>50~59</td>\n",
       "      <td>26932</td>\n",
       "      <td>263</td>\n",
       "      <td>0.98</td>\n",
       "    </tr>\n",
       "    <tr>\n",
       "      <th>6</th>\n",
       "      <td>60~69</td>\n",
       "      <td>21510</td>\n",
       "      <td>233</td>\n",
       "      <td>1.08</td>\n",
       "    </tr>\n",
       "    <tr>\n",
       "      <th>7</th>\n",
       "      <td>70~79</td>\n",
       "      <td>15349</td>\n",
       "      <td>164</td>\n",
       "      <td>1.07</td>\n",
       "    </tr>\n",
       "    <tr>\n",
       "      <th>8</th>\n",
       "      <td>80~</td>\n",
       "      <td>12672</td>\n",
       "      <td>122</td>\n",
       "      <td>0.96</td>\n",
       "    </tr>\n",
       "  </tbody>\n",
       "</table>\n",
       "</div>"
      ],
      "text/plain": [
       "  COVID19_age_band  Num_Patients  PASC_Patients  PASC_incidence(%)\n",
       "0              0~9         14126             38               0.27\n",
       "1            10~19         26692            179               0.67\n",
       "2            20~29         41481            333               0.80\n",
       "3            30~39         36645            313               0.85\n",
       "4            40~49         30568            292               0.96\n",
       "5            50~59         26932            263               0.98\n",
       "6            60~69         21510            233               1.08\n",
       "7            70~79         15349            164               1.07\n",
       "8              80~         12672            122               0.96"
      ]
     },
     "execution_count": 164,
     "metadata": {},
     "output_type": "execute_result"
    }
   ],
   "source": [
    "demographics_trimmed_age"
   ]
  },
  {
   "cell_type": "code",
   "execution_count": 189,
   "id": "outside-found",
   "metadata": {},
   "outputs": [
    {
     "data": {
      "image/png": "[encoded data removed]",
      "text/plain": [
       "<Figure size 1500x500 with 2 Axes>"
      ]
     },
     "metadata": {},
     "output_type": "display_data"
    }
   ],
   "source": [
    "fig, ax1 = plt.subplots(figsize=(15, 5))\n",
    "ax2 = ax1.twinx()\n",
    "\n",
    "demographics_trimmed_age[['COVID19_age_band','Num_Patients']].plot(kind='bar', color='y', ax=ax1)\n",
    "demographics_trimmed_age[['COVID19_age_band','PASC_incidence(%)']].plot(kind='line', color='b', ax=ax2)\n",
    "ax1.legend(loc='upper left')\n",
    "ax2.legend(loc='upper right')\n",
    "ax1.set_xticklabels(demographics_trimmed_age['COVID19_age_band'],rotation=0)\n",
    "ax1.set_xlabel('COVID19 Diagnosis Age')\n",
    "ax1.set_ylabel('Number of COVID19 Patients')\n",
    "ax2.set_ylabel('Percentage of PASC Patients')\n",
    "plt.show()\n"
   ]
  },
  {
   "cell_type": "markdown",
   "id": "chronic-singer",
   "metadata": {
    "tags": []
   },
   "source": [
    "## 2.2. Cancer"
   ]
  }
 ],
 "metadata": {
  "kernelspec": {
   "display_name": "rapids-changyu.yin",
   "language": "python",
   "name": "changyu.yin-rapids-22.12"
  },
  "language_info": {
   "codemirror_mode": {
    "name": "ipython",
    "version": 3
   },
   "file_extension": ".py",
   "mimetype": "text/x-python",
   "name": "python",
   "nbconvert_exporter": "python",
   "pygments_lexer": "ipython3",
   "version": "3.9.15"
  }
 },
 "nbformat": 4,
 "nbformat_minor": 5
}

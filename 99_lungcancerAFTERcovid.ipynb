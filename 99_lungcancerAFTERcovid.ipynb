{
 "cells": [
  {
   "cell_type": "code",
   "execution_count": 3,
   "id": "thick-windsor",
   "metadata": {},
   "outputs": [],
   "source": [
    "#package loading \n",
    "import sklearn\n",
    "import pandas as pd\n",
    "import numpy as np\n",
    "import matplotlib.pyplot as plt\n",
    "import seaborn as sns\n",
    "from dateutil.relativedelta import relativedelta\n",
    "from scipy.stats import percentileofscore\n",
    "from tqdm import tqdm\n",
    "import cudf\n",
    "import numba as nb\n",
    "import os\n",
    "import sys\n",
    "import time\n",
    "import pickle\n",
    "\n",
    "import sklearn\n",
    "import numba as nb\n",
    "import functools as ft\n",
    "import swifter"
   ]
  },
  {
   "cell_type": "code",
   "execution_count": 4,
   "id": "funded-canon",
   "metadata": {},
   "outputs": [],
   "source": [
    "from utility import *\n",
    "#del sys.modules[\"preprocess\"]\n",
    "from preprocess import * "
   ]
  },
  {
   "cell_type": "code",
   "execution_count": 5,
   "id": "metallic-evolution",
   "metadata": {},
   "outputs": [],
   "source": [
    "import warnings\n",
    "warnings.filterwarnings(\"ignore\")"
   ]
  },
  {
   "cell_type": "code",
   "execution_count": 37,
   "id": "foreign-carol",
   "metadata": {},
   "outputs": [],
   "source": [
    "#define function for calculating ages\n",
    "def calc_age(born_d,index_d):\n",
    "   born_d = pd.to_datetime(born_d)\n",
    "   index_d = pd.to_datetime(index_d)\n",
    "   return index_d.year - born_d.year - ((index_d.month, \n",
    "                                      index_d.day) < (born_d.month, \n",
    "                                                    born_d.day))"
   ]
  },
  {
   "cell_type": "code",
   "execution_count": 38,
   "id": "annual-crest",
   "metadata": {},
   "outputs": [],
   "source": [
    "pid_dx_subtypes = pickle.load(open('/data/datasets/changyuyin/2_COVIDwithCancer/pid_dx_cancer_subtypes.pkl','rb'))\n",
    "\n",
    "#pasc and covid inex dates\n",
    "index_date = pd.read_csv('/data/datasets/Tianchen/2022_covid_pasc_1FL_data/20221020/covid_pasc_cohort.csv')"
   ]
  },
  {
   "cell_type": "code",
   "execution_count": 123,
   "id": "coordinate-screening",
   "metadata": {},
   "outputs": [
    {
     "name": "stdout",
     "output_type": "stream",
     "text": [
      "complete diagnosis\n",
      "complete procedure\n",
      "complete demographics\n"
     ]
    }
   ],
   "source": [
    "data_wd = \"/data/datasets/Tianchen/2022_covid_pasc_1FL_data/20221020/covid_database\"\n",
    "\n",
    "# covid database\n",
    "diagnosis_cov = pd.read_csv(data_wd+\"/DIAGNOSIS.csv\",header=0,skiprows=[1])\n",
    "procedure_cov = pd.read_csv(data_wd+\"/PROCEDURES.csv\",header=0,skiprows=[1])\n",
    "demographics_cov = pd.read_csv(data_wd+\"/DEMOGRAPHIC.csv\",header=0,skiprows=[1])\n",
    "\n",
    "data_wd = \"/data/datasets/Tianchen/2022_covid_pasc_1FL_data/20221020/main_database\"\n",
    "\n",
    "# general database\n",
    "diagnosis_m = pd.read_csv(data_wd+\"/DIAGNOSIS.csv\",header=0,skiprows=[1])\n",
    "procedure_m = pd.read_csv(data_wd+\"/PROCEDURES.csv\",header=0,skiprows=[1])\n",
    "demographics_m = pd.read_csv(data_wd+\"/DEMOGRAPHIC.csv\",header=0,skiprows=[1])\n",
    "\n",
    "# union them\n",
    "diagnosis = pd.concat([diagnosis_m,diagnosis_cov])\n",
    "print(\"complete diagnosis\")\n",
    "procedure = pd.concat([procedure_m,procedure_cov])\n",
    "print(\"complete procedure\")\n",
    "demographics = pd.concat([demographics_m,demographics_cov])\n",
    "print(\"complete demographics\")\n",
    "\n",
    "#release memory\n",
    "del(diagnosis_m)\n",
    "del(diagnosis_cov)\n",
    "del(procedure_m)\n",
    "del(procedure_cov)\n",
    "del(demographics_m)\n",
    "del(demographics_cov)"
   ]
  },
  {
   "cell_type": "markdown",
   "id": "balanced-clock",
   "metadata": {},
   "source": [
    "# check the number of lung cancer patients that get the cancer after covid infection"
   ]
  },
  {
   "cell_type": "markdown",
   "id": "aerial-oxygen",
   "metadata": {},
   "source": [
    "## extract pid of lung cancers"
   ]
  },
  {
   "cell_type": "code",
   "execution_count": 124,
   "id": "caring-chicago",
   "metadata": {},
   "outputs": [],
   "source": [
    "pid_lung = list(set(pid_dx_subtypes.loc[pid_dx_subtypes['subtype']==\"Lung\"].reset_index(drop=True).ID))"
   ]
  },
  {
   "cell_type": "markdown",
   "id": "rough-smoke",
   "metadata": {},
   "source": [
    "## matching demographics and index dates"
   ]
  },
  {
   "cell_type": "code",
   "execution_count": 125,
   "id": "frozen-colors",
   "metadata": {},
   "outputs": [],
   "source": [
    "#choose those with covid19 index date\n",
    "index_date = index_date.loc[~index_date['index_date'].isna()]\n",
    "\n",
    "index_date['index_date'] = pd.to_datetime(index_date['index_date'])\n",
    "index_date['pasc_onset_date'] = pd.to_datetime(index_date['pasc_onset_date'])\n",
    "\n",
    "#index_date = index_date.loc[(index_date['index_date']<index_date['pasc_onset_date'])|index_date['pasc_onset_date'].isna()]"
   ]
  },
  {
   "cell_type": "code",
   "execution_count": 126,
   "id": "operational-grant",
   "metadata": {},
   "outputs": [
    {
     "name": "stdout",
     "output_type": "stream",
     "text": [
      "(455995, 12)\n",
      "(229689, 12)\n",
      "(225975, 15)\n"
     ]
    }
   ],
   "source": [
    "# This is because there are two database to be merged, i.e. covid database and general databse. The medical records are not duplicates abut the patient demographics are.\n",
    "print(demographics.shape)\n",
    "demographics = demographics.drop_duplicates(['ID'])\n",
    "print(demographics.shape)\n",
    "\n",
    "#pair demographics and index date\n",
    "demographics = pd.merge(demographics,index_date,left_on='ID',right_on='ID',how='inner')\n",
    "print(demographics.shape)"
   ]
  },
  {
   "cell_type": "code",
   "execution_count": 127,
   "id": "political-mumbai",
   "metadata": {},
   "outputs": [],
   "source": [
    "demographics = demographics[['ID',\n",
    "                             'BIRTH_DATE',\n",
    "                             'SEX',\n",
    "                             'HISPANIC',\n",
    "                             'RACE',\n",
    "                             'PAT_PREF_LANGUAGE_SPOKEN',\n",
    "                             'ZIP_CODE',\n",
    "                             'index_date']]"
   ]
  },
  {
   "cell_type": "code",
   "execution_count": 128,
   "id": "located-atmosphere",
   "metadata": {},
   "outputs": [
    {
     "data": {
      "application/vnd.jupyter.widget-view+json": {
       "model_id": "51ab9628dd7e428ebe1a1ba9a61ec524",
       "version_major": 2,
       "version_minor": 0
      },
      "text/plain": [
       "Pandas Apply:   0%|          | 0/225975 [00:00<?, ?it/s]"
      ]
     },
     "metadata": {},
     "output_type": "display_data"
    }
   ],
   "source": [
    "demographics['index_age'] = demographics.swifter.apply(lambda x: calc_age(x.BIRTH_DATE, x.index_date), axis=1)"
   ]
  },
  {
   "cell_type": "code",
   "execution_count": 129,
   "id": "informational-margin",
   "metadata": {},
   "outputs": [
    {
     "data": {
      "text/html": [
       "<div>\n",
       "<style scoped>\n",
       "    .dataframe tbody tr th:only-of-type {\n",
       "        vertical-align: middle;\n",
       "    }\n",
       "\n",
       "    .dataframe tbody tr th {\n",
       "        vertical-align: top;\n",
       "    }\n",
       "\n",
       "    .dataframe thead th {\n",
       "        text-align: right;\n",
       "    }\n",
       "</style>\n",
       "<table border=\"1\" class=\"dataframe\">\n",
       "  <thead>\n",
       "    <tr style=\"text-align: right;\">\n",
       "      <th></th>\n",
       "      <th>ID</th>\n",
       "      <th>BIRTH_DATE</th>\n",
       "      <th>SEX</th>\n",
       "      <th>HISPANIC</th>\n",
       "      <th>RACE</th>\n",
       "      <th>PAT_PREF_LANGUAGE_SPOKEN</th>\n",
       "      <th>ZIP_CODE</th>\n",
       "      <th>index_date</th>\n",
       "      <th>index_age</th>\n",
       "    </tr>\n",
       "  </thead>\n",
       "  <tbody>\n",
       "    <tr>\n",
       "      <th>0</th>\n",
       "      <td>19Oct2022covidpasc00121586</td>\n",
       "      <td>1991-10-04</td>\n",
       "      <td>F</td>\n",
       "      <td>N</td>\n",
       "      <td>05</td>\n",
       "      <td>ENG</td>\n",
       "      <td>327769298</td>\n",
       "      <td>2021-07-31</td>\n",
       "      <td>29</td>\n",
       "    </tr>\n",
       "    <tr>\n",
       "      <th>1</th>\n",
       "      <td>19Oct2022covidpasc00125493</td>\n",
       "      <td>1947-04-10</td>\n",
       "      <td>M</td>\n",
       "      <td>N</td>\n",
       "      <td>05</td>\n",
       "      <td>ENG</td>\n",
       "      <td>328188842</td>\n",
       "      <td>2020-07-26</td>\n",
       "      <td>73</td>\n",
       "    </tr>\n",
       "    <tr>\n",
       "      <th>2</th>\n",
       "      <td>19Oct2022covidpasc00008560</td>\n",
       "      <td>1961-08-09</td>\n",
       "      <td>M</td>\n",
       "      <td>Y</td>\n",
       "      <td>05</td>\n",
       "      <td>ENG</td>\n",
       "      <td>347412932</td>\n",
       "      <td>2022-01-06</td>\n",
       "      <td>60</td>\n",
       "    </tr>\n",
       "    <tr>\n",
       "      <th>3</th>\n",
       "      <td>19Oct2022covidpasc00183957</td>\n",
       "      <td>1975-10-15</td>\n",
       "      <td>F</td>\n",
       "      <td>N</td>\n",
       "      <td>05</td>\n",
       "      <td>ENG</td>\n",
       "      <td>327145836</td>\n",
       "      <td>2022-02-08</td>\n",
       "      <td>46</td>\n",
       "    </tr>\n",
       "    <tr>\n",
       "      <th>4</th>\n",
       "      <td>19Oct2022covidpasc00184103</td>\n",
       "      <td>1993-07-07</td>\n",
       "      <td>M</td>\n",
       "      <td>Y</td>\n",
       "      <td>05</td>\n",
       "      <td>NaN</td>\n",
       "      <td>33837</td>\n",
       "      <td>2021-01-07</td>\n",
       "      <td>27</td>\n",
       "    </tr>\n",
       "    <tr>\n",
       "      <th>...</th>\n",
       "      <td>...</td>\n",
       "      <td>...</td>\n",
       "      <td>...</td>\n",
       "      <td>...</td>\n",
       "      <td>...</td>\n",
       "      <td>...</td>\n",
       "      <td>...</td>\n",
       "      <td>...</td>\n",
       "      <td>...</td>\n",
       "    </tr>\n",
       "    <tr>\n",
       "      <th>225970</th>\n",
       "      <td>19Oct2022covidpasc00223324</td>\n",
       "      <td>2021-01-28</td>\n",
       "      <td>M</td>\n",
       "      <td>OT</td>\n",
       "      <td>05</td>\n",
       "      <td>ENG</td>\n",
       "      <td>NaN</td>\n",
       "      <td>2022-06-04</td>\n",
       "      <td>1</td>\n",
       "    </tr>\n",
       "    <tr>\n",
       "      <th>225971</th>\n",
       "      <td>19Oct2022covidpasc00001449</td>\n",
       "      <td>2000-01-18</td>\n",
       "      <td>M</td>\n",
       "      <td>OT</td>\n",
       "      <td>OT</td>\n",
       "      <td>SPA</td>\n",
       "      <td>NaN</td>\n",
       "      <td>2022-06-04</td>\n",
       "      <td>22</td>\n",
       "    </tr>\n",
       "    <tr>\n",
       "      <th>225972</th>\n",
       "      <td>19Oct2022covidpasc00093000</td>\n",
       "      <td>1954-12-11</td>\n",
       "      <td>M</td>\n",
       "      <td>UN</td>\n",
       "      <td>03</td>\n",
       "      <td>NaN</td>\n",
       "      <td>32351</td>\n",
       "      <td>2022-01-28</td>\n",
       "      <td>67</td>\n",
       "    </tr>\n",
       "    <tr>\n",
       "      <th>225973</th>\n",
       "      <td>19Oct2022covidpasc00205743</td>\n",
       "      <td>1987-12-01</td>\n",
       "      <td>F</td>\n",
       "      <td>N</td>\n",
       "      <td>05</td>\n",
       "      <td>NaN</td>\n",
       "      <td>32312</td>\n",
       "      <td>2022-01-13</td>\n",
       "      <td>34</td>\n",
       "    </tr>\n",
       "    <tr>\n",
       "      <th>225974</th>\n",
       "      <td>19Oct2022covidpasc00080523</td>\n",
       "      <td>1942-01-27</td>\n",
       "      <td>F</td>\n",
       "      <td>N</td>\n",
       "      <td>03</td>\n",
       "      <td>NaN</td>\n",
       "      <td>32348</td>\n",
       "      <td>2021-10-19</td>\n",
       "      <td>79</td>\n",
       "    </tr>\n",
       "  </tbody>\n",
       "</table>\n",
       "<p>225975 rows × 9 columns</p>\n",
       "</div>"
      ],
      "text/plain": [
       "                                ID  BIRTH_DATE SEX HISPANIC RACE  \\\n",
       "0       19Oct2022covidpasc00121586  1991-10-04   F        N   05   \n",
       "1       19Oct2022covidpasc00125493  1947-04-10   M        N   05   \n",
       "2       19Oct2022covidpasc00008560  1961-08-09   M        Y   05   \n",
       "3       19Oct2022covidpasc00183957  1975-10-15   F        N   05   \n",
       "4       19Oct2022covidpasc00184103  1993-07-07   M        Y   05   \n",
       "...                            ...         ...  ..      ...  ...   \n",
       "225970  19Oct2022covidpasc00223324  2021-01-28   M       OT   05   \n",
       "225971  19Oct2022covidpasc00001449  2000-01-18   M       OT   OT   \n",
       "225972  19Oct2022covidpasc00093000  1954-12-11   M       UN   03   \n",
       "225973  19Oct2022covidpasc00205743  1987-12-01   F        N   05   \n",
       "225974  19Oct2022covidpasc00080523  1942-01-27   F        N   03   \n",
       "\n",
       "       PAT_PREF_LANGUAGE_SPOKEN   ZIP_CODE index_date  index_age  \n",
       "0                           ENG  327769298 2021-07-31         29  \n",
       "1                           ENG  328188842 2020-07-26         73  \n",
       "2                           ENG  347412932 2022-01-06         60  \n",
       "3                           ENG  327145836 2022-02-08         46  \n",
       "4                           NaN      33837 2021-01-07         27  \n",
       "...                         ...        ...        ...        ...  \n",
       "225970                      ENG        NaN 2022-06-04          1  \n",
       "225971                      SPA        NaN 2022-06-04         22  \n",
       "225972                      NaN      32351 2022-01-28         67  \n",
       "225973                      NaN      32312 2022-01-13         34  \n",
       "225974                      NaN      32348 2021-10-19         79  \n",
       "\n",
       "[225975 rows x 9 columns]"
      ]
     },
     "execution_count": 129,
     "metadata": {},
     "output_type": "execute_result"
    }
   ],
   "source": [
    "demographics"
   ]
  },
  {
   "cell_type": "markdown",
   "id": "scenic-genealogy",
   "metadata": {},
   "source": [
    "## get the 1st diagnosis date"
   ]
  },
  {
   "cell_type": "code",
   "execution_count": 130,
   "id": "multiple-jamaica",
   "metadata": {},
   "outputs": [],
   "source": [
    "dx_codes_icd9_Lungcaner = tuple(['1622', '1623', '1624', '1625', '1628', '1629', '2312', 'V1011'])\n",
    "dx_codes_icd10_Lungcaner = tuple(['C34'])"
   ]
  },
  {
   "cell_type": "code",
   "execution_count": 131,
   "id": "differential-bangkok",
   "metadata": {},
   "outputs": [],
   "source": [
    "#diagnosis\n",
    "pid_dx_lung_diag = extract_cancer_pid_time(df=diagnosis,\\\n",
    "                                     extract_from_col=\"DX\",\\\n",
    "                                     code_type_col=\"DX_TYPE\",\\\n",
    "                                     date_col = \"DX_DATE\",\\\n",
    "                                     codes_icd9=dx_codes_icd9_Lungcaner,\\\n",
    "                                     codes_icd10=dx_codes_icd10_Lungcaner,\\\n",
    "                                     subtype=\"lung\")\n",
    "\n",
    "#procedure\n",
    "pid_dx_lung_procedure = extract_cancer_pid_time(df=procedure,\\\n",
    "                                          extract_from_col=\"PX\",\\\n",
    "                                          code_type_col=\"PX_TYPE\",\\\n",
    "                                          date_col = \"PX_DATE\",\\\n",
    "                                          codes_icd9=dx_codes_icd9_Lungcaner,\\\n",
    "                                          codes_icd10=dx_codes_icd10_Lungcaner,\\\n",
    "                                          subtype=\"lung\")"
   ]
  },
  {
   "cell_type": "code",
   "execution_count": 132,
   "id": "instant-necessity",
   "metadata": {},
   "outputs": [],
   "source": [
    "pid_dx_lung = pd.concat([pid_dx_lung_diag,pid_dx_lung_procedure]).\\\n",
    "                drop_duplicates(ignore_index=True)"
   ]
  },
  {
   "cell_type": "code",
   "execution_count": 133,
   "id": "intellectual-fifth",
   "metadata": {},
   "outputs": [],
   "source": [
    "pid_dx_lung['DX_DATE'] = pd.to_datetime(pid_dx_lung['DX_DATE'])\n",
    "pid_dx_lung['ADMIT_DATE'] = pd.to_datetime(pid_dx_lung['ADMIT_DATE'])"
   ]
  },
  {
   "cell_type": "code",
   "execution_count": 134,
   "id": "happy-mainstream",
   "metadata": {},
   "outputs": [],
   "source": [
    "dx_lung_date = pid_dx_lung.groupby('ID').agg({'DX_DATE':'min',\n",
    "                               'ADMIT_DATE':'min'}).reset_index()"
   ]
  },
  {
   "cell_type": "code",
   "execution_count": 135,
   "id": "acceptable-participant",
   "metadata": {},
   "outputs": [],
   "source": [
    "dx_lung_date['INDEX_DATE_LUNG'] = dx_lung_date[['DX_DATE','ADMIT_DATE']].apply('min',axis=1)"
   ]
  },
  {
   "cell_type": "code",
   "execution_count": 136,
   "id": "cooked-virgin",
   "metadata": {},
   "outputs": [
    {
     "name": "stdout",
     "output_type": "stream",
     "text": [
      "(2024, 4)\n",
      "(1989, 12)\n"
     ]
    }
   ],
   "source": [
    "print(dx_lung_date.shape)\n",
    "dx_lung_date = dx_lung_date.merge(demographics,on='ID',how='inner')\n",
    "print(dx_lung_date.shape)"
   ]
  },
  {
   "cell_type": "code",
   "execution_count": 137,
   "id": "natural-rider",
   "metadata": {},
   "outputs": [
    {
     "name": "stdout",
     "output_type": "stream",
     "text": [
      "(1989, 12)\n"
     ]
    }
   ],
   "source": [
    "print(dx_lung_date.shape)"
   ]
  },
  {
   "cell_type": "markdown",
   "id": "green-somalia",
   "metadata": {},
   "source": [
    "## get those with lung cancer after covid"
   ]
  },
  {
   "cell_type": "code",
   "execution_count": 138,
   "id": "proprietary-rwanda",
   "metadata": {},
   "outputs": [],
   "source": [
    "dx_lung_afterCOVID = dx_lung_date.loc[dx_lung_date['INDEX_DATE_LUNG'] > dx_lung_date['index_date']].reset_index(drop=True)"
   ]
  },
  {
   "cell_type": "code",
   "execution_count": 139,
   "id": "mathematical-prevention",
   "metadata": {},
   "outputs": [
    {
     "data": {
      "application/vnd.jupyter.widget-view+json": {
       "model_id": "18160482aee44bd2a57a7ee731106767",
       "version_major": 2,
       "version_minor": 0
      },
      "text/plain": [
       "Pandas Apply:   0%|          | 0/256 [00:00<?, ?it/s]"
      ]
     },
     "metadata": {},
     "output_type": "display_data"
    }
   ],
   "source": [
    "dx_lung_afterCOVID['RACE']=dx_lung_afterCOVID['RACE'].replace({'01':'American Indian or Alaska Native',\n",
    "                            '02':'Asian',\n",
    "                            '03':'Black or African American',\n",
    "                            '04':'Native Hawaiian or Other Pacific Islander',\n",
    "                            '05':'White',\n",
    "                            '06':'Multiple race',\n",
    "                            '07':'Refuse to answer',\n",
    "                            'NI':'No information',\n",
    "                            'UN':'Unknown',\n",
    "                            'OT':'Other' })\n",
    "dx_lung_afterCOVID['RACE'] = dx_lung_afterCOVID['RACE'].fillna('No information')\n",
    "dx_lung_afterCOVID['RACE_Ethinic'] = np.where( (dx_lung_afterCOVID['HISPANIC']=='N') & (dx_lung_afterCOVID['RACE']=='White'),\n",
    "                                              'NHW',\n",
    "                                              np.where((dx_lung_afterCOVID['HISPANIC']=='N') & (dx_lung_afterCOVID['RACE']=='Black or African American'),\n",
    "                                                      'NHB',\n",
    "                                                      np.where(dx_lung_afterCOVID['HISPANIC']=='Y',\n",
    "                                                               'Hispanics',\n",
    "                                                              np.where(dx_lung_afterCOVID['RACE'].isin(['Unknown','No information']),\n",
    "                                                                       'Unknown',\n",
    "                                                                       'Other')\n",
    "                                                      )\n",
    "                                             ))\n",
    "\n",
    "#calculate age at diagnosis (index_date provided)\n",
    "dx_lung_afterCOVID['index_age'] = dx_lung_afterCOVID.swifter.apply(lambda x: calc_age(x.BIRTH_DATE, x.index_date), axis=1)\n",
    "#calc group\n",
    "dx_lung_afterCOVID['age_band'] = pd.cut(dx_lung_afterCOVID.index_age, \\\n",
    "                                    [-999,18,65,75,999],\\\n",
    "                                    labels = ['[0,18)','[18,64)','[65,75)','>=75'],\\\n",
    "                                    include_lowest=True,right=False)"
   ]
  },
  {
   "cell_type": "code",
   "execution_count": 142,
   "id": "controlling-compensation",
   "metadata": {},
   "outputs": [],
   "source": [
    "dx_lung_afterCOVID['age_band2'] = pd.cut(dx_lung_afterCOVID.index_age, \\\n",
    "                                    [-999,20,30,40,45,50,60,70,80,999],\\\n",
    "                                    labels = ['[0,20)','[20,30)','[30,40)','[40,45)','[45,50)','[50,60)','[60,70)','[70,80)','80+'],\\\n",
    "                                    include_lowest=True,right=False)"
   ]
  },
  {
   "cell_type": "code",
   "execution_count": 158,
   "id": "bigger-evolution",
   "metadata": {},
   "outputs": [
    {
     "data": {
      "text/html": [
       "<div>\n",
       "<style scoped>\n",
       "    .dataframe tbody tr th:only-of-type {\n",
       "        vertical-align: middle;\n",
       "    }\n",
       "\n",
       "    .dataframe tbody tr th {\n",
       "        vertical-align: top;\n",
       "    }\n",
       "\n",
       "    .dataframe thead th {\n",
       "        text-align: right;\n",
       "    }\n",
       "</style>\n",
       "<table border=\"1\" class=\"dataframe\">\n",
       "  <thead>\n",
       "    <tr style=\"text-align: right;\">\n",
       "      <th></th>\n",
       "      <th>ID</th>\n",
       "      <th>DX_DATE</th>\n",
       "      <th>ADMIT_DATE</th>\n",
       "      <th>INDEX_DATE_LUNG</th>\n",
       "      <th>BIRTH_DATE</th>\n",
       "      <th>SEX</th>\n",
       "      <th>HISPANIC</th>\n",
       "      <th>RACE</th>\n",
       "      <th>PAT_PREF_LANGUAGE_SPOKEN</th>\n",
       "      <th>ZIP_CODE</th>\n",
       "      <th>index_date</th>\n",
       "      <th>index_age</th>\n",
       "      <th>RACE_Ethinic</th>\n",
       "      <th>age_band</th>\n",
       "      <th>age_band2</th>\n",
       "    </tr>\n",
       "  </thead>\n",
       "  <tbody>\n",
       "    <tr>\n",
       "      <th>0</th>\n",
       "      <td>19Oct2022covidpasc00000551</td>\n",
       "      <td>NaT</td>\n",
       "      <td>2021-09-01</td>\n",
       "      <td>2021-09-01</td>\n",
       "      <td>2001-03-30</td>\n",
       "      <td>F</td>\n",
       "      <td>N</td>\n",
       "      <td>Black or African American</td>\n",
       "      <td>NaN</td>\n",
       "      <td>334626193</td>\n",
       "      <td>2020-06-27</td>\n",
       "      <td>19</td>\n",
       "      <td>NHB</td>\n",
       "      <td>[18,64)</td>\n",
       "      <td>[0,20)</td>\n",
       "    </tr>\n",
       "    <tr>\n",
       "      <th>1</th>\n",
       "      <td>19Oct2022covidpasc00000928</td>\n",
       "      <td>NaT</td>\n",
       "      <td>2022-03-21</td>\n",
       "      <td>2022-03-21</td>\n",
       "      <td>1979-05-29</td>\n",
       "      <td>F</td>\n",
       "      <td>N</td>\n",
       "      <td>Black or African American</td>\n",
       "      <td>NaN</td>\n",
       "      <td>333083716</td>\n",
       "      <td>2021-08-29</td>\n",
       "      <td>42</td>\n",
       "      <td>NHB</td>\n",
       "      <td>[18,64)</td>\n",
       "      <td>[40,45)</td>\n",
       "    </tr>\n",
       "    <tr>\n",
       "      <th>2</th>\n",
       "      <td>19Oct2022covidpasc00001322</td>\n",
       "      <td>NaT</td>\n",
       "      <td>2021-01-26</td>\n",
       "      <td>2021-01-26</td>\n",
       "      <td>1940-03-08</td>\n",
       "      <td>M</td>\n",
       "      <td>N</td>\n",
       "      <td>White</td>\n",
       "      <td>ENG</td>\n",
       "      <td>327125663</td>\n",
       "      <td>2021-01-20</td>\n",
       "      <td>80</td>\n",
       "      <td>NHW</td>\n",
       "      <td>&gt;=75</td>\n",
       "      <td>80+</td>\n",
       "    </tr>\n",
       "    <tr>\n",
       "      <th>3</th>\n",
       "      <td>19Oct2022covidpasc00002280</td>\n",
       "      <td>2020-08-05</td>\n",
       "      <td>2020-08-05</td>\n",
       "      <td>2020-08-05</td>\n",
       "      <td>1949-06-04</td>\n",
       "      <td>M</td>\n",
       "      <td>Y</td>\n",
       "      <td>White</td>\n",
       "      <td>SPA</td>\n",
       "      <td>331281125</td>\n",
       "      <td>2020-07-20</td>\n",
       "      <td>71</td>\n",
       "      <td>Hispanics</td>\n",
       "      <td>[65,75)</td>\n",
       "      <td>[70,80)</td>\n",
       "    </tr>\n",
       "    <tr>\n",
       "      <th>4</th>\n",
       "      <td>19Oct2022covidpasc00003203</td>\n",
       "      <td>2021-05-08</td>\n",
       "      <td>2021-05-08</td>\n",
       "      <td>2021-05-08</td>\n",
       "      <td>1935-08-09</td>\n",
       "      <td>F</td>\n",
       "      <td>OT</td>\n",
       "      <td>Asian</td>\n",
       "      <td>NaN</td>\n",
       "      <td>32832</td>\n",
       "      <td>2020-12-10</td>\n",
       "      <td>85</td>\n",
       "      <td>Other</td>\n",
       "      <td>&gt;=75</td>\n",
       "      <td>80+</td>\n",
       "    </tr>\n",
       "    <tr>\n",
       "      <th>...</th>\n",
       "      <td>...</td>\n",
       "      <td>...</td>\n",
       "      <td>...</td>\n",
       "      <td>...</td>\n",
       "      <td>...</td>\n",
       "      <td>...</td>\n",
       "      <td>...</td>\n",
       "      <td>...</td>\n",
       "      <td>...</td>\n",
       "      <td>...</td>\n",
       "      <td>...</td>\n",
       "      <td>...</td>\n",
       "      <td>...</td>\n",
       "      <td>...</td>\n",
       "      <td>...</td>\n",
       "    </tr>\n",
       "    <tr>\n",
       "      <th>251</th>\n",
       "      <td>19Oct2022covidpasc00226500</td>\n",
       "      <td>NaT</td>\n",
       "      <td>2020-10-29</td>\n",
       "      <td>2020-10-29</td>\n",
       "      <td>1947-01-29</td>\n",
       "      <td>F</td>\n",
       "      <td>UN</td>\n",
       "      <td>Unknown</td>\n",
       "      <td>NI</td>\n",
       "      <td>34761</td>\n",
       "      <td>2020-08-14</td>\n",
       "      <td>73</td>\n",
       "      <td>Unknown</td>\n",
       "      <td>[65,75)</td>\n",
       "      <td>[70,80)</td>\n",
       "    </tr>\n",
       "    <tr>\n",
       "      <th>252</th>\n",
       "      <td>19Oct2022covidpasc00227292</td>\n",
       "      <td>2021-01-15</td>\n",
       "      <td>2021-01-15</td>\n",
       "      <td>2021-01-15</td>\n",
       "      <td>1949-01-01</td>\n",
       "      <td>F</td>\n",
       "      <td>N</td>\n",
       "      <td>Black or African American</td>\n",
       "      <td>ENG</td>\n",
       "      <td>33162</td>\n",
       "      <td>2020-10-04</td>\n",
       "      <td>71</td>\n",
       "      <td>NHB</td>\n",
       "      <td>[65,75)</td>\n",
       "      <td>[70,80)</td>\n",
       "    </tr>\n",
       "    <tr>\n",
       "      <th>253</th>\n",
       "      <td>19Oct2022covidpasc00228339</td>\n",
       "      <td>NaT</td>\n",
       "      <td>2021-12-03</td>\n",
       "      <td>2021-12-03</td>\n",
       "      <td>1934-12-03</td>\n",
       "      <td>M</td>\n",
       "      <td>N</td>\n",
       "      <td>White</td>\n",
       "      <td>ENG</td>\n",
       "      <td>327891473</td>\n",
       "      <td>2020-12-30</td>\n",
       "      <td>86</td>\n",
       "      <td>NHW</td>\n",
       "      <td>&gt;=75</td>\n",
       "      <td>80+</td>\n",
       "    </tr>\n",
       "    <tr>\n",
       "      <th>254</th>\n",
       "      <td>19Oct2022covidpasc00228821</td>\n",
       "      <td>NaT</td>\n",
       "      <td>2021-12-09</td>\n",
       "      <td>2021-12-09</td>\n",
       "      <td>2001-12-13</td>\n",
       "      <td>M</td>\n",
       "      <td>N</td>\n",
       "      <td>Black or African American</td>\n",
       "      <td>NaN</td>\n",
       "      <td>319034125</td>\n",
       "      <td>2021-09-20</td>\n",
       "      <td>19</td>\n",
       "      <td>NHB</td>\n",
       "      <td>[18,64)</td>\n",
       "      <td>[0,20)</td>\n",
       "    </tr>\n",
       "    <tr>\n",
       "      <th>255</th>\n",
       "      <td>19Oct2022covidpasc00229504</td>\n",
       "      <td>2021-06-15</td>\n",
       "      <td>2021-06-15</td>\n",
       "      <td>2021-06-15</td>\n",
       "      <td>1957-08-27</td>\n",
       "      <td>F</td>\n",
       "      <td>N</td>\n",
       "      <td>White</td>\n",
       "      <td>ENG</td>\n",
       "      <td>335412852</td>\n",
       "      <td>2020-06-22</td>\n",
       "      <td>62</td>\n",
       "      <td>NHW</td>\n",
       "      <td>[18,64)</td>\n",
       "      <td>[60,70)</td>\n",
       "    </tr>\n",
       "  </tbody>\n",
       "</table>\n",
       "<p>256 rows × 15 columns</p>\n",
       "</div>"
      ],
      "text/plain": [
       "                             ID    DX_DATE ADMIT_DATE INDEX_DATE_LUNG  \\\n",
       "0    19Oct2022covidpasc00000551        NaT 2021-09-01      2021-09-01   \n",
       "1    19Oct2022covidpasc00000928        NaT 2022-03-21      2022-03-21   \n",
       "2    19Oct2022covidpasc00001322        NaT 2021-01-26      2021-01-26   \n",
       "3    19Oct2022covidpasc00002280 2020-08-05 2020-08-05      2020-08-05   \n",
       "4    19Oct2022covidpasc00003203 2021-05-08 2021-05-08      2021-05-08   \n",
       "..                          ...        ...        ...             ...   \n",
       "251  19Oct2022covidpasc00226500        NaT 2020-10-29      2020-10-29   \n",
       "252  19Oct2022covidpasc00227292 2021-01-15 2021-01-15      2021-01-15   \n",
       "253  19Oct2022covidpasc00228339        NaT 2021-12-03      2021-12-03   \n",
       "254  19Oct2022covidpasc00228821        NaT 2021-12-09      2021-12-09   \n",
       "255  19Oct2022covidpasc00229504 2021-06-15 2021-06-15      2021-06-15   \n",
       "\n",
       "     BIRTH_DATE SEX HISPANIC                       RACE  \\\n",
       "0    2001-03-30   F        N  Black or African American   \n",
       "1    1979-05-29   F        N  Black or African American   \n",
       "2    1940-03-08   M        N                      White   \n",
       "3    1949-06-04   M        Y                      White   \n",
       "4    1935-08-09   F       OT                      Asian   \n",
       "..          ...  ..      ...                        ...   \n",
       "251  1947-01-29   F       UN                    Unknown   \n",
       "252  1949-01-01   F        N  Black or African American   \n",
       "253  1934-12-03   M        N                      White   \n",
       "254  2001-12-13   M        N  Black or African American   \n",
       "255  1957-08-27   F        N                      White   \n",
       "\n",
       "    PAT_PREF_LANGUAGE_SPOKEN   ZIP_CODE index_date  index_age RACE_Ethinic  \\\n",
       "0                        NaN  334626193 2020-06-27         19          NHB   \n",
       "1                        NaN  333083716 2021-08-29         42          NHB   \n",
       "2                        ENG  327125663 2021-01-20         80          NHW   \n",
       "3                        SPA  331281125 2020-07-20         71    Hispanics   \n",
       "4                        NaN      32832 2020-12-10         85        Other   \n",
       "..                       ...        ...        ...        ...          ...   \n",
       "251                       NI      34761 2020-08-14         73      Unknown   \n",
       "252                      ENG      33162 2020-10-04         71          NHB   \n",
       "253                      ENG  327891473 2020-12-30         86          NHW   \n",
       "254                      NaN  319034125 2021-09-20         19          NHB   \n",
       "255                      ENG  335412852 2020-06-22         62          NHW   \n",
       "\n",
       "    age_band age_band2  \n",
       "0    [18,64)    [0,20)  \n",
       "1    [18,64)   [40,45)  \n",
       "2       >=75       80+  \n",
       "3    [65,75)   [70,80)  \n",
       "4       >=75       80+  \n",
       "..       ...       ...  \n",
       "251  [65,75)   [70,80)  \n",
       "252  [65,75)   [70,80)  \n",
       "253     >=75       80+  \n",
       "254  [18,64)    [0,20)  \n",
       "255  [18,64)   [60,70)  \n",
       "\n",
       "[256 rows x 15 columns]"
      ]
     },
     "execution_count": 158,
     "metadata": {},
     "output_type": "execute_result"
    }
   ],
   "source": [
    "dx_lung_afterCOVID"
   ]
  },
  {
   "cell_type": "markdown",
   "id": "recreational-talent",
   "metadata": {},
   "source": [
    "# CCI=0"
   ]
  },
  {
   "cell_type": "code",
   "execution_count": 85,
   "id": "adjustable-kidney",
   "metadata": {},
   "outputs": [
    {
     "name": "stdout",
     "output_type": "stream",
     "text": [
      "complete diagnosis\n",
      "complete procedure\n"
     ]
    }
   ],
   "source": [
    "#output to r\n",
    "# covid database\n",
    "data_wd = \"/data/datasets/Tianchen/2022_covid_pasc_1FL_data/20221020/covid_database\"\n",
    "diagnosis_cov = pd.read_csv(data_wd+\"/DIAGNOSIS.csv\",header=0,skiprows=[1])\n",
    "procedure_cov = pd.read_csv(data_wd+\"/PROCEDURES.csv\",header=0,skiprows=[1])\n",
    "\n",
    "data_wd = \"/data/datasets/Tianchen/2022_covid_pasc_1FL_data/20221020/main_database\"\n",
    "# general database\n",
    "diagnosis_m = pd.read_csv(data_wd+\"/DIAGNOSIS.csv\",header=0,skiprows=[1])\n",
    "procedure_m = pd.read_csv(data_wd+\"/PROCEDURES.csv\",header=0,skiprows=[1])\n",
    "\n",
    "# union them\n",
    "diagnosis = pd.concat([diagnosis_m,diagnosis_cov])\n",
    "print(\"complete diagnosis\")\n",
    "procedure = pd.concat([procedure_m,procedure_cov])\n",
    "print(\"complete procedure\")\n",
    "\n",
    "#release memory\n",
    "del(diagnosis_m)\n",
    "del(diagnosis_cov)\n",
    "del(procedure_m)\n",
    "del(procedure_cov)"
   ]
  },
  {
   "cell_type": "code",
   "execution_count": 87,
   "id": "directed-subdivision",
   "metadata": {},
   "outputs": [],
   "source": [
    "diagnosis_uniq = diagnosis[['ID','DX','DX_TYPE']].drop_duplicates(ignore_index=True)\n",
    "procedure_uniq = procedure[['ID','PX','PX_TYPE']].drop_duplicates(ignore_index=True)"
   ]
  },
  {
   "cell_type": "code",
   "execution_count": 88,
   "id": "certified-principal",
   "metadata": {},
   "outputs": [],
   "source": [
    "diagnosis_uniq.to_csv('/data/datasets/changyuyin/2_COVIDwithCancer/diagnosis_uniq.csv',index=False)\n",
    "procedure_uniq.to_csv('/data/datasets/changyuyin/2_COVIDwithCancer/procedure_uniq.csv',index=False)"
   ]
  },
  {
   "cell_type": "code",
   "execution_count": 89,
   "id": "animated-orchestra",
   "metadata": {},
   "outputs": [
    {
     "data": {
      "text/plain": [
       "((19861106, 3), (18765380, 3))"
      ]
     },
     "execution_count": 89,
     "metadata": {},
     "output_type": "execute_result"
    }
   ],
   "source": [
    "diagnosis_uniq.shape,procedure_uniq.shape"
   ]
  },
  {
   "cell_type": "code",
   "execution_count": 1,
   "id": "senior-telescope",
   "metadata": {},
   "outputs": [],
   "source": [
    "from comorbidipy import comorbidity"
   ]
  },
  {
   "cell_type": "code",
   "execution_count": 6,
   "id": "extreme-individual",
   "metadata": {},
   "outputs": [],
   "source": [
    "diagnosis_uniq = pd.read_csv('/data/datasets/changyuyin/2_COVIDwithCancer/diagnosis_uniq.csv')"
   ]
  },
  {
   "cell_type": "code",
   "execution_count": 7,
   "id": "robust-partnership",
   "metadata": {},
   "outputs": [],
   "source": [
    "procedure_uniq = pd.read_csv('/data/datasets/changyuyin/2_COVIDwithCancer/procedure_uniq.csv')"
   ]
  },
  {
   "cell_type": "code",
   "execution_count": 15,
   "id": "logical-burning",
   "metadata": {},
   "outputs": [],
   "source": [
    "procedure_uniq = procedure_uniq[procedure_uniq['PX_TYPE'].isin(['09','10',10,9,'9'])]\n",
    "procedure_uniq.columns = ['ID','DX','DX_TYPE']\n",
    "\n",
    "diagnosis_uniq = diagnosis_uniq[diagnosis_uniq['DX_TYPE'].isin(['09','10',10,9,'9'])]"
   ]
  },
  {
   "cell_type": "code",
   "execution_count": 49,
   "id": "deluxe-parks",
   "metadata": {},
   "outputs": [],
   "source": [
    "df = pd.concat([diagnosis_uniq,procedure_uniq]).drop_duplicates(ignore_index=True)"
   ]
  },
  {
   "cell_type": "code",
   "execution_count": 50,
   "id": "medical-notebook",
   "metadata": {},
   "outputs": [],
   "source": [
    "df['DX'] = df['DX'].str.replace('[^a-zA-Z0-9]', '')"
   ]
  },
  {
   "cell_type": "code",
   "execution_count": 52,
   "id": "early-hydrogen",
   "metadata": {},
   "outputs": [],
   "source": [
    "df = df.merge(demographics[['ID','index_age']],how='left',on='ID')"
   ]
  },
  {
   "cell_type": "markdown",
   "id": "religious-bunch",
   "metadata": {},
   "source": [
    "## calculate scores"
   ]
  },
  {
   "cell_type": "code",
   "execution_count": 103,
   "id": "diagnostic-hudson",
   "metadata": {},
   "outputs": [
    {
     "ename": "KeyboardInterrupt",
     "evalue": "",
     "output_type": "error",
     "traceback": [
      "\u001b[0;31m---------------------------------------------------------------------------\u001b[0m",
      "\u001b[0;31mKeyboardInterrupt\u001b[0m                         Traceback (most recent call last)",
      "Cell \u001b[0;32mIn[103], line 1\u001b[0m\n\u001b[0;32m----> 1\u001b[0m charlson9 \u001b[38;5;241m=\u001b[39m \u001b[43mcomorbidity\u001b[49m\u001b[43m(\u001b[49m\u001b[43mdf\u001b[49m\u001b[43m,\u001b[49m\u001b[43m \u001b[49m\n\u001b[1;32m      2\u001b[0m \u001b[43m                         \u001b[49m\u001b[38;5;124;43m\"\u001b[39;49m\u001b[38;5;124;43mID\u001b[39;49m\u001b[38;5;124;43m\"\u001b[39;49m\u001b[43m,\u001b[49m\u001b[43m \u001b[49m\n\u001b[1;32m      3\u001b[0m \u001b[43m                         \u001b[49m\u001b[43mcode\u001b[49m\u001b[43m \u001b[49m\u001b[38;5;241;43m=\u001b[39;49m\u001b[43m \u001b[49m\u001b[38;5;124;43m\"\u001b[39;49m\u001b[38;5;124;43mDX\u001b[39;49m\u001b[38;5;124;43m\"\u001b[39;49m\u001b[43m,\u001b[49m\u001b[43m \u001b[49m\n\u001b[1;32m      4\u001b[0m \u001b[43m                         \u001b[49m\u001b[43mage\u001b[49m\u001b[38;5;241;43m=\u001b[39;49m\u001b[38;5;28;43;01mNone\u001b[39;49;00m\u001b[43m,\u001b[49m\n\u001b[1;32m      5\u001b[0m \u001b[43m                         \u001b[49m\u001b[43micd\u001b[49m\u001b[38;5;241;43m=\u001b[39;49m\u001b[38;5;124;43m'\u001b[39;49m\u001b[38;5;124;43micd9\u001b[39;49m\u001b[38;5;124;43m'\u001b[39;49m\u001b[43m,\u001b[49m\n\u001b[1;32m      6\u001b[0m \u001b[43m                         \u001b[49m\u001b[43mscore\u001b[49m\u001b[43m \u001b[49m\u001b[38;5;241;43m=\u001b[39;49m\u001b[43m \u001b[49m\u001b[38;5;124;43m\"\u001b[39;49m\u001b[38;5;124;43mcharlson\u001b[39;49m\u001b[38;5;124;43m\"\u001b[39;49m\u001b[43m,\u001b[49m\u001b[43m \u001b[49m\n\u001b[1;32m      7\u001b[0m \u001b[43m                         \u001b[49m\u001b[43massign0\u001b[49m\u001b[43m \u001b[49m\u001b[38;5;241;43m=\u001b[39;49m\u001b[43m \u001b[49m\u001b[38;5;28;43;01mFalse\u001b[39;49;00m\u001b[43m)\u001b[49m\n",
      "File \u001b[0;32m~/.pyenv/versions/miniconda3-latest/envs/rapids-22.12/lib/python3.9/site-packages/comorbidipy/calculator.py:94\u001b[0m, in \u001b[0;36mcomorbidity\u001b[0;34m(df, id, code, age, score, icd, variant, weighting, assign0)\u001b[0m\n\u001b[1;32m     91\u001b[0m \u001b[38;5;28;01mif\u001b[39;00m \u001b[38;5;28mid\u001b[39m \u001b[38;5;129;01mnot\u001b[39;00m \u001b[38;5;129;01min\u001b[39;00m df\u001b[38;5;241m.\u001b[39mcolumns \u001b[38;5;129;01mor\u001b[39;00m code \u001b[38;5;129;01mnot\u001b[39;00m \u001b[38;5;129;01min\u001b[39;00m df\u001b[38;5;241m.\u001b[39mcolumns:\n\u001b[1;32m     92\u001b[0m     \u001b[38;5;28;01mraise\u001b[39;00m \u001b[38;5;167;01mKeyError\u001b[39;00m(\u001b[38;5;124mf\u001b[39m\u001b[38;5;124m\"\u001b[39m\u001b[38;5;124mMissing column(s). Ensure column(s) \u001b[39m\u001b[38;5;132;01m{\u001b[39;00m\u001b[38;5;28mid\u001b[39m\u001b[38;5;132;01m}\u001b[39;00m\u001b[38;5;124m, \u001b[39m\u001b[38;5;132;01m{\u001b[39;00mcode\u001b[38;5;132;01m}\u001b[39;00m\u001b[38;5;124m are present.\u001b[39m\u001b[38;5;124m\"\u001b[39m)\n\u001b[0;32m---> 94\u001b[0m df \u001b[38;5;241m=\u001b[39m \u001b[43mdf\u001b[49m\u001b[38;5;241;43m.\u001b[39;49m\u001b[43mdropna\u001b[49m\u001b[43m(\u001b[49m\u001b[43msubset\u001b[49m\u001b[38;5;241;43m=\u001b[39;49m\u001b[43m[\u001b[49m\u001b[38;5;28;43mid\u001b[39;49m\u001b[43m,\u001b[49m\u001b[43m \u001b[49m\u001b[43mcode\u001b[49m\u001b[43m]\u001b[49m\u001b[43m)\u001b[49m\n\u001b[1;32m     96\u001b[0m \u001b[38;5;28;01mif\u001b[39;00m age:\n\u001b[1;32m     97\u001b[0m     \u001b[38;5;28;01mif\u001b[39;00m age \u001b[38;5;129;01mnot\u001b[39;00m \u001b[38;5;129;01min\u001b[39;00m df\u001b[38;5;241m.\u001b[39mcolumns:\n",
      "File \u001b[0;32m~/.pyenv/versions/miniconda3-latest/envs/rapids-22.12/lib/python3.9/site-packages/pandas/util/_decorators.py:311\u001b[0m, in \u001b[0;36mdeprecate_nonkeyword_arguments.<locals>.decorate.<locals>.wrapper\u001b[0;34m(*args, **kwargs)\u001b[0m\n\u001b[1;32m    305\u001b[0m \u001b[38;5;28;01mif\u001b[39;00m \u001b[38;5;28mlen\u001b[39m(args) \u001b[38;5;241m>\u001b[39m num_allow_args:\n\u001b[1;32m    306\u001b[0m     warnings\u001b[38;5;241m.\u001b[39mwarn(\n\u001b[1;32m    307\u001b[0m         msg\u001b[38;5;241m.\u001b[39mformat(arguments\u001b[38;5;241m=\u001b[39marguments),\n\u001b[1;32m    308\u001b[0m         \u001b[38;5;167;01mFutureWarning\u001b[39;00m,\n\u001b[1;32m    309\u001b[0m         stacklevel\u001b[38;5;241m=\u001b[39mstacklevel,\n\u001b[1;32m    310\u001b[0m     )\n\u001b[0;32m--> 311\u001b[0m \u001b[38;5;28;01mreturn\u001b[39;00m \u001b[43mfunc\u001b[49m\u001b[43m(\u001b[49m\u001b[38;5;241;43m*\u001b[39;49m\u001b[43margs\u001b[49m\u001b[43m,\u001b[49m\u001b[43m \u001b[49m\u001b[38;5;241;43m*\u001b[39;49m\u001b[38;5;241;43m*\u001b[39;49m\u001b[43mkwargs\u001b[49m\u001b[43m)\u001b[49m\n",
      "File \u001b[0;32m~/.pyenv/versions/miniconda3-latest/envs/rapids-22.12/lib/python3.9/site-packages/pandas/core/frame.py:6012\u001b[0m, in \u001b[0;36mDataFrame.dropna\u001b[0;34m(self, axis, how, thresh, subset, inplace)\u001b[0m\n\u001b[1;32m   6009\u001b[0m     mask \u001b[38;5;241m=\u001b[39m count \u001b[38;5;241m>\u001b[39m\u001b[38;5;241m=\u001b[39m thresh\n\u001b[1;32m   6010\u001b[0m \u001b[38;5;28;01melif\u001b[39;00m how \u001b[38;5;241m==\u001b[39m \u001b[38;5;124m\"\u001b[39m\u001b[38;5;124many\u001b[39m\u001b[38;5;124m\"\u001b[39m:\n\u001b[1;32m   6011\u001b[0m     \u001b[38;5;66;03m# faster equivalent to 'agg_obj.count(agg_axis) == self.shape[agg_axis]'\u001b[39;00m\n\u001b[0;32m-> 6012\u001b[0m     mask \u001b[38;5;241m=\u001b[39m \u001b[43mnotna\u001b[49m\u001b[43m(\u001b[49m\u001b[43magg_obj\u001b[49m\u001b[43m)\u001b[49m\u001b[38;5;241m.\u001b[39mall(axis\u001b[38;5;241m=\u001b[39magg_axis, bool_only\u001b[38;5;241m=\u001b[39m\u001b[38;5;28;01mFalse\u001b[39;00m)\n\u001b[1;32m   6013\u001b[0m \u001b[38;5;28;01melif\u001b[39;00m how \u001b[38;5;241m==\u001b[39m \u001b[38;5;124m\"\u001b[39m\u001b[38;5;124mall\u001b[39m\u001b[38;5;124m\"\u001b[39m:\n\u001b[1;32m   6014\u001b[0m     \u001b[38;5;66;03m# faster equivalent to 'agg_obj.count(agg_axis) > 0'\u001b[39;00m\n\u001b[1;32m   6015\u001b[0m     mask \u001b[38;5;241m=\u001b[39m notna(agg_obj)\u001b[38;5;241m.\u001b[39many(axis\u001b[38;5;241m=\u001b[39magg_axis, bool_only\u001b[38;5;241m=\u001b[39m\u001b[38;5;28;01mFalse\u001b[39;00m)\n",
      "File \u001b[0;32m~/.pyenv/versions/miniconda3-latest/envs/rapids-22.12/lib/python3.9/site-packages/pandas/core/dtypes/missing.py:364\u001b[0m, in \u001b[0;36mnotna\u001b[0;34m(obj)\u001b[0m\n\u001b[1;32m    287\u001b[0m \u001b[38;5;28;01mdef\u001b[39;00m \u001b[38;5;21mnotna\u001b[39m(obj):\n\u001b[1;32m    288\u001b[0m     \u001b[38;5;124;03m\"\"\"\u001b[39;00m\n\u001b[1;32m    289\u001b[0m \u001b[38;5;124;03m    Detect non-missing values for an array-like object.\u001b[39;00m\n\u001b[1;32m    290\u001b[0m \n\u001b[0;32m   (...)\u001b[0m\n\u001b[1;32m    362\u001b[0m \u001b[38;5;124;03m    Name: 1, dtype: bool\u001b[39;00m\n\u001b[1;32m    363\u001b[0m \u001b[38;5;124;03m    \"\"\"\u001b[39;00m\n\u001b[0;32m--> 364\u001b[0m     res \u001b[38;5;241m=\u001b[39m \u001b[43misna\u001b[49m\u001b[43m(\u001b[49m\u001b[43mobj\u001b[49m\u001b[43m)\u001b[49m\n\u001b[1;32m    365\u001b[0m     \u001b[38;5;28;01mif\u001b[39;00m is_scalar(res):\n\u001b[1;32m    366\u001b[0m         \u001b[38;5;28;01mreturn\u001b[39;00m \u001b[38;5;129;01mnot\u001b[39;00m res\n",
      "File \u001b[0;32m~/.pyenv/versions/miniconda3-latest/envs/rapids-22.12/lib/python3.9/site-packages/pandas/core/dtypes/missing.py:143\u001b[0m, in \u001b[0;36misna\u001b[0;34m(obj)\u001b[0m\n\u001b[1;32m     66\u001b[0m \u001b[38;5;28;01mdef\u001b[39;00m \u001b[38;5;21misna\u001b[39m(obj):\n\u001b[1;32m     67\u001b[0m     \u001b[38;5;124;03m\"\"\"\u001b[39;00m\n\u001b[1;32m     68\u001b[0m \u001b[38;5;124;03m    Detect missing values for an array-like object.\u001b[39;00m\n\u001b[1;32m     69\u001b[0m \n\u001b[0;32m   (...)\u001b[0m\n\u001b[1;32m    141\u001b[0m \u001b[38;5;124;03m    Name: 1, dtype: bool\u001b[39;00m\n\u001b[1;32m    142\u001b[0m \u001b[38;5;124;03m    \"\"\"\u001b[39;00m\n\u001b[0;32m--> 143\u001b[0m     \u001b[38;5;28;01mreturn\u001b[39;00m \u001b[43m_isna\u001b[49m\u001b[43m(\u001b[49m\u001b[43mobj\u001b[49m\u001b[43m)\u001b[49m\n",
      "File \u001b[0;32m~/.pyenv/versions/miniconda3-latest/envs/rapids-22.12/lib/python3.9/site-packages/pandas/core/dtypes/missing.py:186\u001b[0m, in \u001b[0;36m_isna\u001b[0;34m(obj, inf_as_na)\u001b[0m\n\u001b[1;32m    184\u001b[0m     \u001b[38;5;28;01mreturn\u001b[39;00m result\n\u001b[1;32m    185\u001b[0m \u001b[38;5;28;01melif\u001b[39;00m \u001b[38;5;28misinstance\u001b[39m(obj, ABCDataFrame):\n\u001b[0;32m--> 186\u001b[0m     \u001b[38;5;28;01mreturn\u001b[39;00m \u001b[43mobj\u001b[49m\u001b[38;5;241;43m.\u001b[39;49m\u001b[43misna\u001b[49m\u001b[43m(\u001b[49m\u001b[43m)\u001b[49m\n\u001b[1;32m    187\u001b[0m \u001b[38;5;28;01melif\u001b[39;00m \u001b[38;5;28misinstance\u001b[39m(obj, \u001b[38;5;28mlist\u001b[39m):\n\u001b[1;32m    188\u001b[0m     \u001b[38;5;28;01mreturn\u001b[39;00m _isna_array(np\u001b[38;5;241m.\u001b[39masarray(obj, dtype\u001b[38;5;241m=\u001b[39m\u001b[38;5;28mobject\u001b[39m), inf_as_na\u001b[38;5;241m=\u001b[39minf_as_na)\n",
      "File \u001b[0;32m~/.pyenv/versions/miniconda3-latest/envs/rapids-22.12/lib/python3.9/site-packages/pandas/core/frame.py:5854\u001b[0m, in \u001b[0;36mDataFrame.isna\u001b[0;34m(self)\u001b[0m\n\u001b[1;32m   5852\u001b[0m \u001b[38;5;129m@doc\u001b[39m(NDFrame\u001b[38;5;241m.\u001b[39misna, klass\u001b[38;5;241m=\u001b[39m_shared_doc_kwargs[\u001b[38;5;124m\"\u001b[39m\u001b[38;5;124mklass\u001b[39m\u001b[38;5;124m\"\u001b[39m])\n\u001b[1;32m   5853\u001b[0m \u001b[38;5;28;01mdef\u001b[39;00m \u001b[38;5;21misna\u001b[39m(\u001b[38;5;28mself\u001b[39m) \u001b[38;5;241m-\u001b[39m\u001b[38;5;241m>\u001b[39m DataFrame:\n\u001b[0;32m-> 5854\u001b[0m     result \u001b[38;5;241m=\u001b[39m \u001b[38;5;28mself\u001b[39m\u001b[38;5;241m.\u001b[39m_constructor(\u001b[38;5;28;43mself\u001b[39;49m\u001b[38;5;241;43m.\u001b[39;49m\u001b[43m_mgr\u001b[49m\u001b[38;5;241;43m.\u001b[39;49m\u001b[43misna\u001b[49m\u001b[43m(\u001b[49m\u001b[43mfunc\u001b[49m\u001b[38;5;241;43m=\u001b[39;49m\u001b[43misna\u001b[49m\u001b[43m)\u001b[49m)\n\u001b[1;32m   5855\u001b[0m     \u001b[38;5;28;01mreturn\u001b[39;00m result\u001b[38;5;241m.\u001b[39m__finalize__(\u001b[38;5;28mself\u001b[39m, method\u001b[38;5;241m=\u001b[39m\u001b[38;5;124m\"\u001b[39m\u001b[38;5;124misna\u001b[39m\u001b[38;5;124m\"\u001b[39m)\n",
      "File \u001b[0;32m~/.pyenv/versions/miniconda3-latest/envs/rapids-22.12/lib/python3.9/site-packages/pandas/core/internals/base.py:140\u001b[0m, in \u001b[0;36mDataManager.isna\u001b[0;34m(self, func)\u001b[0m\n\u001b[1;32m    138\u001b[0m \u001b[38;5;129m@final\u001b[39m\n\u001b[1;32m    139\u001b[0m \u001b[38;5;28;01mdef\u001b[39;00m \u001b[38;5;21misna\u001b[39m(\u001b[38;5;28mself\u001b[39m: T, func) \u001b[38;5;241m-\u001b[39m\u001b[38;5;241m>\u001b[39m T:\n\u001b[0;32m--> 140\u001b[0m     \u001b[38;5;28;01mreturn\u001b[39;00m \u001b[38;5;28;43mself\u001b[39;49m\u001b[38;5;241;43m.\u001b[39;49m\u001b[43mapply\u001b[49m\u001b[43m(\u001b[49m\u001b[38;5;124;43m\"\u001b[39;49m\u001b[38;5;124;43mapply\u001b[39;49m\u001b[38;5;124;43m\"\u001b[39;49m\u001b[43m,\u001b[49m\u001b[43m \u001b[49m\u001b[43mfunc\u001b[49m\u001b[38;5;241;43m=\u001b[39;49m\u001b[43mfunc\u001b[49m\u001b[43m)\u001b[49m\n",
      "File \u001b[0;32m~/.pyenv/versions/miniconda3-latest/envs/rapids-22.12/lib/python3.9/site-packages/pandas/core/internals/managers.py:304\u001b[0m, in \u001b[0;36mBaseBlockManager.apply\u001b[0;34m(self, f, align_keys, ignore_failures, **kwargs)\u001b[0m\n\u001b[1;32m    302\u001b[0m         applied \u001b[38;5;241m=\u001b[39m b\u001b[38;5;241m.\u001b[39mapply(f, \u001b[38;5;241m*\u001b[39m\u001b[38;5;241m*\u001b[39mkwargs)\n\u001b[1;32m    303\u001b[0m     \u001b[38;5;28;01melse\u001b[39;00m:\n\u001b[0;32m--> 304\u001b[0m         applied \u001b[38;5;241m=\u001b[39m \u001b[38;5;28;43mgetattr\u001b[39;49m\u001b[43m(\u001b[49m\u001b[43mb\u001b[49m\u001b[43m,\u001b[49m\u001b[43m \u001b[49m\u001b[43mf\u001b[49m\u001b[43m)\u001b[49m\u001b[43m(\u001b[49m\u001b[38;5;241;43m*\u001b[39;49m\u001b[38;5;241;43m*\u001b[39;49m\u001b[43mkwargs\u001b[49m\u001b[43m)\u001b[49m\n\u001b[1;32m    305\u001b[0m \u001b[38;5;28;01mexcept\u001b[39;00m (\u001b[38;5;167;01mTypeError\u001b[39;00m, \u001b[38;5;167;01mNotImplementedError\u001b[39;00m):\n\u001b[1;32m    306\u001b[0m     \u001b[38;5;28;01mif\u001b[39;00m \u001b[38;5;129;01mnot\u001b[39;00m ignore_failures:\n",
      "File \u001b[0;32m~/.pyenv/versions/miniconda3-latest/envs/rapids-22.12/lib/python3.9/site-packages/pandas/core/internals/blocks.py:402\u001b[0m, in \u001b[0;36mBlock.apply\u001b[0;34m(self, func, **kwargs)\u001b[0m\n\u001b[1;32m    396\u001b[0m \u001b[38;5;129m@final\u001b[39m\n\u001b[1;32m    397\u001b[0m \u001b[38;5;28;01mdef\u001b[39;00m \u001b[38;5;21mapply\u001b[39m(\u001b[38;5;28mself\u001b[39m, func, \u001b[38;5;241m*\u001b[39m\u001b[38;5;241m*\u001b[39mkwargs) \u001b[38;5;241m-\u001b[39m\u001b[38;5;241m>\u001b[39m \u001b[38;5;28mlist\u001b[39m[Block]:\n\u001b[1;32m    398\u001b[0m     \u001b[38;5;124;03m\"\"\"\u001b[39;00m\n\u001b[1;32m    399\u001b[0m \u001b[38;5;124;03m    apply the function to my values; return a block if we are not\u001b[39;00m\n\u001b[1;32m    400\u001b[0m \u001b[38;5;124;03m    one\u001b[39;00m\n\u001b[1;32m    401\u001b[0m \u001b[38;5;124;03m    \"\"\"\u001b[39;00m\n\u001b[0;32m--> 402\u001b[0m     result \u001b[38;5;241m=\u001b[39m \u001b[43mfunc\u001b[49m\u001b[43m(\u001b[49m\u001b[38;5;28;43mself\u001b[39;49m\u001b[38;5;241;43m.\u001b[39;49m\u001b[43mvalues\u001b[49m\u001b[43m,\u001b[49m\u001b[43m \u001b[49m\u001b[38;5;241;43m*\u001b[39;49m\u001b[38;5;241;43m*\u001b[39;49m\u001b[43mkwargs\u001b[49m\u001b[43m)\u001b[49m\n\u001b[1;32m    404\u001b[0m     \u001b[38;5;28;01mreturn\u001b[39;00m \u001b[38;5;28mself\u001b[39m\u001b[38;5;241m.\u001b[39m_split_op_result(result)\n",
      "File \u001b[0;32m~/.pyenv/versions/miniconda3-latest/envs/rapids-22.12/lib/python3.9/site-packages/pandas/core/dtypes/missing.py:143\u001b[0m, in \u001b[0;36misna\u001b[0;34m(obj)\u001b[0m\n\u001b[1;32m     66\u001b[0m \u001b[38;5;28;01mdef\u001b[39;00m \u001b[38;5;21misna\u001b[39m(obj):\n\u001b[1;32m     67\u001b[0m     \u001b[38;5;124;03m\"\"\"\u001b[39;00m\n\u001b[1;32m     68\u001b[0m \u001b[38;5;124;03m    Detect missing values for an array-like object.\u001b[39;00m\n\u001b[1;32m     69\u001b[0m \n\u001b[0;32m   (...)\u001b[0m\n\u001b[1;32m    141\u001b[0m \u001b[38;5;124;03m    Name: 1, dtype: bool\u001b[39;00m\n\u001b[1;32m    142\u001b[0m \u001b[38;5;124;03m    \"\"\"\u001b[39;00m\n\u001b[0;32m--> 143\u001b[0m     \u001b[38;5;28;01mreturn\u001b[39;00m \u001b[43m_isna\u001b[49m\u001b[43m(\u001b[49m\u001b[43mobj\u001b[49m\u001b[43m)\u001b[49m\n",
      "File \u001b[0;32m~/.pyenv/versions/miniconda3-latest/envs/rapids-22.12/lib/python3.9/site-packages/pandas/core/dtypes/missing.py:172\u001b[0m, in \u001b[0;36m_isna\u001b[0;34m(obj, inf_as_na)\u001b[0m\n\u001b[1;32m    170\u001b[0m     \u001b[38;5;28;01mreturn\u001b[39;00m \u001b[38;5;28;01mFalse\u001b[39;00m\n\u001b[1;32m    171\u001b[0m \u001b[38;5;28;01melif\u001b[39;00m \u001b[38;5;28misinstance\u001b[39m(obj, (np\u001b[38;5;241m.\u001b[39mndarray, ABCExtensionArray)):\n\u001b[0;32m--> 172\u001b[0m     \u001b[38;5;28;01mreturn\u001b[39;00m \u001b[43m_isna_array\u001b[49m\u001b[43m(\u001b[49m\u001b[43mobj\u001b[49m\u001b[43m,\u001b[49m\u001b[43m \u001b[49m\u001b[43minf_as_na\u001b[49m\u001b[38;5;241;43m=\u001b[39;49m\u001b[43minf_as_na\u001b[49m\u001b[43m)\u001b[49m\n\u001b[1;32m    173\u001b[0m \u001b[38;5;28;01melif\u001b[39;00m \u001b[38;5;28misinstance\u001b[39m(obj, ABCIndex):\n\u001b[1;32m    174\u001b[0m     \u001b[38;5;66;03m# Try to use cached isna, which also short-circuits for integer dtypes\u001b[39;00m\n\u001b[1;32m    175\u001b[0m     \u001b[38;5;66;03m#  and avoids materializing RangeIndex._values\u001b[39;00m\n\u001b[1;32m    176\u001b[0m     \u001b[38;5;28;01mif\u001b[39;00m \u001b[38;5;129;01mnot\u001b[39;00m obj\u001b[38;5;241m.\u001b[39m_can_hold_na:\n",
      "File \u001b[0;32m~/.pyenv/versions/miniconda3-latest/envs/rapids-22.12/lib/python3.9/site-packages/pandas/core/dtypes/missing.py:254\u001b[0m, in \u001b[0;36m_isna_array\u001b[0;34m(values, inf_as_na)\u001b[0m\n\u001b[1;32m    252\u001b[0m         result \u001b[38;5;241m=\u001b[39m values\u001b[38;5;241m.\u001b[39misna()  \u001b[38;5;66;03m# type: ignore[assignment]\u001b[39;00m\n\u001b[1;32m    253\u001b[0m \u001b[38;5;28;01melif\u001b[39;00m is_string_or_object_np_dtype(values\u001b[38;5;241m.\u001b[39mdtype):\n\u001b[0;32m--> 254\u001b[0m     result \u001b[38;5;241m=\u001b[39m \u001b[43m_isna_string_dtype\u001b[49m\u001b[43m(\u001b[49m\u001b[43mvalues\u001b[49m\u001b[43m,\u001b[49m\u001b[43m \u001b[49m\u001b[43minf_as_na\u001b[49m\u001b[38;5;241;43m=\u001b[39;49m\u001b[43minf_as_na\u001b[49m\u001b[43m)\u001b[49m\n\u001b[1;32m    255\u001b[0m \u001b[38;5;28;01melif\u001b[39;00m needs_i8_conversion(dtype):\n\u001b[1;32m    256\u001b[0m     \u001b[38;5;66;03m# this is the NaT pattern\u001b[39;00m\n\u001b[1;32m    257\u001b[0m     result \u001b[38;5;241m=\u001b[39m values\u001b[38;5;241m.\u001b[39mview(\u001b[38;5;124m\"\u001b[39m\u001b[38;5;124mi8\u001b[39m\u001b[38;5;124m\"\u001b[39m) \u001b[38;5;241m==\u001b[39m iNaT\n",
      "File \u001b[0;32m~/.pyenv/versions/miniconda3-latest/envs/rapids-22.12/lib/python3.9/site-packages/pandas/core/dtypes/missing.py:278\u001b[0m, in \u001b[0;36m_isna_string_dtype\u001b[0;34m(values, inf_as_na)\u001b[0m\n\u001b[1;32m    276\u001b[0m     result \u001b[38;5;241m=\u001b[39m libmissing\u001b[38;5;241m.\u001b[39misnaobj(values, inf_as_na\u001b[38;5;241m=\u001b[39minf_as_na)\n\u001b[1;32m    277\u001b[0m \u001b[38;5;28;01melif\u001b[39;00m values\u001b[38;5;241m.\u001b[39mndim \u001b[38;5;241m==\u001b[39m \u001b[38;5;241m2\u001b[39m:\n\u001b[0;32m--> 278\u001b[0m     result \u001b[38;5;241m=\u001b[39m \u001b[43mlibmissing\u001b[49m\u001b[38;5;241;43m.\u001b[39;49m\u001b[43misnaobj2d\u001b[49m\u001b[43m(\u001b[49m\u001b[43mvalues\u001b[49m\u001b[43m,\u001b[49m\u001b[43m \u001b[49m\u001b[43minf_as_na\u001b[49m\u001b[38;5;241;43m=\u001b[39;49m\u001b[43minf_as_na\u001b[49m\u001b[43m)\u001b[49m\n\u001b[1;32m    279\u001b[0m \u001b[38;5;28;01melse\u001b[39;00m:\n\u001b[1;32m    280\u001b[0m     \u001b[38;5;66;03m# 0-D, reached via e.g. mask_missing\u001b[39;00m\n\u001b[1;32m    281\u001b[0m     result \u001b[38;5;241m=\u001b[39m libmissing\u001b[38;5;241m.\u001b[39misnaobj(values\u001b[38;5;241m.\u001b[39mravel(), inf_as_na\u001b[38;5;241m=\u001b[39minf_as_na)\n",
      "\u001b[0;31mKeyboardInterrupt\u001b[0m: "
     ]
    }
   ],
   "source": [
    "charlson9 = comorbidity(df, \n",
    "                         \"ID\", \n",
    "                         code = \"DX\", \n",
    "                         age=None,\n",
    "                         icd='icd9',\n",
    "                         score = \"charlson\", \n",
    "                         variant=\"quan\",\n",
    "                         weighting=\"quan\",\n",
    "                         assign0 = False)"
   ]
  },
  {
   "cell_type": "code",
   "execution_count": 74,
   "id": "killing-saturn",
   "metadata": {},
   "outputs": [],
   "source": [
    "charlson10 = comorbidity(df, \n",
    "                         \"ID\", \n",
    "                         code = \"DX\", \n",
    "                         age=None,\n",
    "                         icd='icd10',\n",
    "                         score = \"charlson\", \n",
    "                         variant=\"quan\",\n",
    "                         weighting=\"quan\",\n",
    "                         assign0 = False)"
   ]
  },
  {
   "cell_type": "code",
   "execution_count": 80,
   "id": "amended-stanford",
   "metadata": {},
   "outputs": [],
   "source": [
    "charlson_all = pd.concat([charlson9,charlson10]).groupby('ID').sum().reset_index()"
   ]
  },
  {
   "cell_type": "code",
   "execution_count": 91,
   "id": "dated-invite",
   "metadata": {},
   "outputs": [],
   "source": [
    "charlson_all = demographics[['ID']].merge(charlson_all,how='left',on='ID').fillna(0)"
   ]
  },
  {
   "cell_type": "markdown",
   "id": "disabled-wisconsin",
   "metadata": {},
   "source": [
    "# Non-cancer covid patient"
   ]
  },
  {
   "cell_type": "code",
   "execution_count": 150,
   "id": "prescribed-prescription",
   "metadata": {},
   "outputs": [],
   "source": [
    "all_cancer_pid = pickle.load(open('/data/datasets/changyuyin/2_COVIDwithCancer/pid_dx_cancer_subtypes.pkl','rb'))"
   ]
  },
  {
   "cell_type": "code",
   "execution_count": 151,
   "id": "tested-suggestion",
   "metadata": {},
   "outputs": [],
   "source": [
    "pt_noncancer = demographics[~demographics['ID'].isin(all_cancer_pid.ID)]"
   ]
  },
  {
   "cell_type": "code",
   "execution_count": 152,
   "id": "productive-architect",
   "metadata": {},
   "outputs": [
    {
     "data": {
      "application/vnd.jupyter.widget-view+json": {
       "model_id": "aa1e47ab6c744033b56725089536207c",
       "version_major": 2,
       "version_minor": 0
      },
      "text/plain": [
       "Pandas Apply:   0%|          | 0/194770 [00:00<?, ?it/s]"
      ]
     },
     "metadata": {},
     "output_type": "display_data"
    }
   ],
   "source": [
    "pt_noncancer['RACE']=pt_noncancer['RACE'].replace({'01':'American Indian or Alaska Native',\n",
    "                            '02':'Asian',\n",
    "                            '03':'Black or African American',\n",
    "                            '04':'Native Hawaiian or Other Pacific Islander',\n",
    "                            '05':'White',\n",
    "                            '06':'Multiple race',\n",
    "                            '07':'Refuse to answer',\n",
    "                            'NI':'No information',\n",
    "                            'UN':'Unknown',\n",
    "                            'OT':'Other' })\n",
    "pt_noncancer['RACE'] = pt_noncancer['RACE'].fillna('No information')\n",
    "pt_noncancer['RACE_Ethinic'] = np.where( (pt_noncancer['HISPANIC']=='N') & (pt_noncancer['RACE']=='White'),\n",
    "                                              'NHW',\n",
    "                                              np.where((pt_noncancer['HISPANIC']=='N') & (pt_noncancer['RACE']=='Black or African American'),\n",
    "                                                      'NHB',\n",
    "                                                      np.where(pt_noncancer['HISPANIC']=='Y',\n",
    "                                                               'Hispanics',\n",
    "                                                              np.where(pt_noncancer['RACE'].isin(['Unknown','No information']),\n",
    "                                                                       'Unknown',\n",
    "                                                                       'Other')\n",
    "                                                      )\n",
    "                                             ))\n",
    "\n",
    "#calculate age at diagnosis (index_date provided)\n",
    "pt_noncancer['index_age'] = pt_noncancer.swifter.apply(lambda x: calc_age(x.BIRTH_DATE, x.index_date), axis=1)\n",
    "#calc group\n",
    "pt_noncancer['age_band'] = pd.cut(pt_noncancer.index_age, \\\n",
    "                                    [-999,18,65,75,999],\\\n",
    "                                    labels = ['[0,18)','[18,64)','[65,75)','>=75'],\\\n",
    "                                    include_lowest=True,right=False)"
   ]
  },
  {
   "cell_type": "code",
   "execution_count": 153,
   "id": "collected-focus",
   "metadata": {},
   "outputs": [],
   "source": [
    "pt_noncancer['age_band2'] = pd.cut(pt_noncancer.index_age, \\\n",
    "                                     [-999,20,30,40,45,50,60,70,80,999],\\\n",
    "                                    labels = ['[0,20)','[20,30)','[30,40)','[40,45)','[45,50)','[50,60)','[60,70)','[70,80)','80+'],\\\n",
    "                                    include_lowest=True,right=False)"
   ]
  },
  {
   "cell_type": "code",
   "execution_count": 154,
   "id": "contrary-motion",
   "metadata": {},
   "outputs": [
    {
     "data": {
      "text/plain": [
       "[0,20)     38998\n",
       "[20,30)    37854\n",
       "[30,40)    31787\n",
       "[50,60)    22582\n",
       "[60,70)    16590\n",
       "[40,45)    14102\n",
       "[45,50)    12609\n",
       "[70,80)    11228\n",
       "80+         9020\n",
       "Name: age_band2, dtype: int64"
      ]
     },
     "execution_count": 154,
     "metadata": {},
     "output_type": "execute_result"
    }
   ],
   "source": [
    "pt_noncancer['age_band2'].value_counts()"
   ]
  },
  {
   "cell_type": "code",
   "execution_count": 155,
   "id": "necessary-lender",
   "metadata": {},
   "outputs": [],
   "source": [
    "pt_noncancer = pt_noncancer.merge(charlson_all[['ID','comorbidity_score']],how='left',on='ID')"
   ]
  },
  {
   "cell_type": "code",
   "execution_count": 156,
   "id": "nervous-ministry",
   "metadata": {},
   "outputs": [],
   "source": [
    "pt_noncancer_healthy = pt_noncancer[pt_noncancer['comorbidity_score']==0]"
   ]
  },
  {
   "cell_type": "code",
   "execution_count": 157,
   "id": "serious-pursuit",
   "metadata": {},
   "outputs": [
    {
     "data": {
      "text/plain": [
       "[0,20)     24522\n",
       "[20,30)    24237\n",
       "[30,40)    19420\n",
       "[50,60)    12262\n",
       "[40,45)     8322\n",
       "[60,70)     7293\n",
       "[45,50)     7230\n",
       "[70,80)     4077\n",
       "80+         1961\n",
       "Name: age_band2, dtype: int64"
      ]
     },
     "execution_count": 157,
     "metadata": {},
     "output_type": "execute_result"
    }
   ],
   "source": [
    "pt_noncancer_healthy['age_band2'].value_counts()"
   ]
  },
  {
   "cell_type": "code",
   "execution_count": 162,
   "id": "traditional-manhattan",
   "metadata": {},
   "outputs": [
    {
     "data": {
      "text/plain": [
       "[60,70)    65\n",
       "[70,80)    46\n",
       "[50,60)    28\n",
       "80+        28\n",
       "[20,30)    21\n",
       "[30,40)    20\n",
       "[0,20)     18\n",
       "[45,50)    16\n",
       "[40,45)    14\n",
       "Name: age_band2, dtype: int64"
      ]
     },
     "execution_count": 162,
     "metadata": {},
     "output_type": "execute_result"
    }
   ],
   "source": [
    "dx_lung_afterCOVID['age_band2'].value_counts()"
   ]
  },
  {
   "cell_type": "code",
   "execution_count": 161,
   "id": "cloudy-brand",
   "metadata": {},
   "outputs": [
    {
     "data": {
      "text/plain": [
       "256"
      ]
     },
     "execution_count": 161,
     "metadata": {},
     "output_type": "execute_result"
    }
   ],
   "source": [
    "len(set(dx_lung_afterCOVID.ID))"
   ]
  },
  {
   "cell_type": "markdown",
   "id": "blank-processing",
   "metadata": {},
   "source": [
    "# summary"
   ]
  },
  {
   "cell_type": "code",
   "execution_count": 69,
   "id": "numerous-telescope",
   "metadata": {},
   "outputs": [],
   "source": [
    "def demog_summary(demographics):\n",
    "    demogrpahics_tmp = demographics[['ID','SEX','RACE_Ethinic','age_band']].drop_duplicates(ignore_index=True)\n",
    "    print(demographics.SEX.value_counts())\n",
    "    print(demographics.RACE_Ethinic.value_counts())\n",
    "    print(demographics.age_band.value_counts())"
   ]
  },
  {
   "cell_type": "code",
   "execution_count": 70,
   "id": "separate-prague",
   "metadata": {},
   "outputs": [
    {
     "name": "stdout",
     "output_type": "stream",
     "text": [
      "F     112275\n",
      "M      82454\n",
      "NI        20\n",
      "UN        12\n",
      "OT         9\n",
      "Name: SEX, dtype: int64\n",
      "Hispanics    70501\n",
      "NHW          57594\n",
      "NHB          46491\n",
      "Other        13507\n",
      "Unknown       6677\n",
      "Name: RACE_Ethinic, dtype: int64\n",
      "[18,64)    139996\n",
      "[0,18)      27239\n",
      ">=75        13868\n",
      "[65,75)     13667\n",
      "Name: age_band, dtype: int64\n"
     ]
    }
   ],
   "source": [
    "demog_summary(pt_noncancer)"
   ]
  },
  {
   "cell_type": "code",
   "execution_count": 71,
   "id": "thirty-jesus",
   "metadata": {},
   "outputs": [
    {
     "name": "stdout",
     "output_type": "stream",
     "text": [
      "F    152\n",
      "M    104\n",
      "Name: SEX, dtype: int64\n",
      "NHW          102\n",
      "Hispanics     70\n",
      "NHB           62\n",
      "Other         16\n",
      "Unknown        6\n",
      "Name: RACE_Ethinic, dtype: int64\n",
      "[18,64)    140\n",
      "[65,75)     56\n",
      ">=75        51\n",
      "[0,18)       9\n",
      "Name: age_band, dtype: int64\n"
     ]
    }
   ],
   "source": [
    "demog_summary(dx_lung_afterCOVID)"
   ]
  }
 ],
 "metadata": {
  "kernelspec": {
   "display_name": "rapids-changyu.yin",
   "language": "python",
   "name": "changyu.yin-rapids-22.12"
  },
  "language_info": {
   "codemirror_mode": {
    "name": "ipython",
    "version": 3
   },
   "file_extension": ".py",
   "mimetype": "text/x-python",
   "name": "python",
   "nbconvert_exporter": "python",
   "pygments_lexer": "ipython3",
   "version": "3.9.15"
  },
  "toc-autonumbering": true
 },
 "nbformat": 4,
 "nbformat_minor": 5
}

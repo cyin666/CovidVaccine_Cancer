{
 "cells": [
  {
   "cell_type": "code",
   "execution_count": 2,
   "id": "brave-sleeve",
   "metadata": {},
   "outputs": [],
   "source": [
    "#package loading \n",
    "import sklearn\n",
    "import pandas as pd\n",
    "import numpy as np\n",
    "import matplotlib.pyplot as plt\n",
    "import seaborn as sns\n",
    "from lifelines import CoxPHFitter\n",
    "from dateutil.relativedelta import relativedelta\n",
    "from scipy.stats import percentileofscore\n",
    "import umap\n",
    "from tqdm import tqdm\n",
    "import cudf\n",
    "import pickle"
   ]
  },
  {
   "cell_type": "code",
   "execution_count": 3,
   "id": "suited-cover",
   "metadata": {},
   "outputs": [],
   "source": [
    "from utility import *\n",
    "from preprocess import *"
   ]
  },
  {
   "cell_type": "code",
   "execution_count": 5,
   "id": "invalid-telescope",
   "metadata": {},
   "outputs": [],
   "source": [
    "import warnings\n",
    "warnings.filterwarnings(\"ignore\")"
   ]
  },
  {
   "cell_type": "markdown",
   "id": "cordless-oregon",
   "metadata": {},
   "source": [
    "# extract cancer paptients"
   ]
  },
  {
   "cell_type": "code",
   "execution_count": 6,
   "id": "ceramic-receptor",
   "metadata": {},
   "outputs": [],
   "source": [
    "all_cancer_pid = pickle.load(open('/data/datasets/changyuyin/2_COVIDwithCancer/pid_dx_cancer_subtypes.pkl','rb'))"
   ]
  },
  {
   "cell_type": "code",
   "execution_count": 7,
   "id": "invalid-candy",
   "metadata": {},
   "outputs": [],
   "source": [
    "data_wd = \"/data/datasets/Tianchen/2022_covid_pasc_1FL_data/20221020/covid_database\""
   ]
  },
  {
   "cell_type": "code",
   "execution_count": null,
   "id": "hispanic-confidence",
   "metadata": {},
   "outputs": [],
   "source": [
    "# covid database\n",
    "death_cov = pd.read_csv(data_wd+\"/DEATH.csv\",header=0,skiprows=[1])\n",
    "diagnosis_cov = pd.read_csv(data_wd+\"/DIAGNOSIS.csv\",header=0,skiprows=[1])\n",
    "encounter_cov = pd.read_csv(data_wd+\"/ENCOUNTER.csv\",header=0,skiprows=[1])\n",
    "lab_result_cm_cov = pd.read_csv(data_wd+\"/LAB_RESULT_CM.csv\",header=0,skiprows=[1])\n",
    "med_admin_cov = pd.read_csv(data_wd+\"/MED_ADMIN.csv\",header=0,skiprows=[1])\n",
    "obs_gen_cov = pd.read_csv(data_wd+\"/OBS_GEN.csv\",header=0,skiprows=[1])\n",
    "procedure_cov = pd.read_csv(data_wd+\"/PROCEDURES.csv\",header=0,skiprows=[1])\n",
    "demographics_cov = pd.read_csv(data_wd+\"/DEMOGRAPHIC.csv\",header=0,skiprows=[1])\n",
    "dispensing_cov = pd.read_csv(data_wd+\"/DISPENSING.csv\",header=0,skiprows=[1])\n",
    "immunization_cov = pd.read_csv(data_wd+\"/IMMUNIZATION.csv\",header=0,skiprows=[1])\n",
    "lds_address_history_cov = pd.read_csv(data_wd+\"/LDS_ADDRESS_HISTORY.csv\",header=0,skiprows=[1])\n",
    "obs_CLIN_cov = pd.read_csv(data_wd+\"/OBS_CLIN.csv\",header=0,skiprows=[1])\n",
    "prescribing_cov = pd.read_csv(data_wd+\"/PRESCRIBING.csv\",header=0,skiprows=[1])\n",
    "vital_cov = pd.read_csv(data_wd+\"/VITAL.csv\",header=0,skiprows=[1])"
   ]
  },
  {
   "cell_type": "code",
   "execution_count": null,
   "id": "cubic-hepatitis",
   "metadata": {},
   "outputs": [],
   "source": [
    "data_wd = \"/data/datasets/Tianchen/2022_covid_pasc_1FL_data/20221020/main_database\""
   ]
  },
  {
   "cell_type": "code",
   "execution_count": null,
   "id": "appreciated-pharmacy",
   "metadata": {},
   "outputs": [],
   "source": [
    "# general database\n",
    "death_m = pd.read_csv(data_wd+\"/DEATH.csv\",header=0,skiprows=[1])\n",
    "diagnosis_m = pd.read_csv(data_wd+\"/DIAGNOSIS.csv\",header=0,skiprows=[1])\n",
    "encounter_m = pd.read_csv(data_wd+\"/ENCOUNTER.csv\",header=0,skiprows=[1])\n",
    "lab_result_cm_m = pd.read_csv(data_wd+\"/LAB_RESULT_CM.csv\",header=0,skiprows=[1])\n",
    "med_admin_m = pd.read_csv(data_wd+\"/MED_ADMIN.csv\",header=0,skiprows=[1])\n",
    "obs_gen_m = pd.read_csv(data_wd+\"/OBS_GEN.csv\",header=0,skiprows=[1])\n",
    "procedure_m = pd.read_csv(data_wd+\"/PROCEDURES.csv\",header=0,skiprows=[1])\n",
    "demographics_m = pd.read_csv(data_wd+\"/DEMOGRAPHIC.csv\",header=0,skiprows=[1])\n",
    "dispensing_m = pd.read_csv(data_wd+\"/DISPENSING.csv\",header=0,skiprows=[1])\n",
    "immunization_m = pd.read_csv(data_wd+\"/IMMUNIZATION.csv\",header=0,skiprows=[1])\n",
    "lds_address_history_m = pd.read_csv(data_wd+\"/LDS_ADDRESS_HISTORY.csv\",header=0,skiprows=[1])\n",
    "obs_CLIN_m = pd.read_csv(data_wd+\"/OBS_CLIN.csv\",header=0,skiprows=[1])\n",
    "prescribing_m = pd.read_csv(data_wd+\"/PRESCRIBING.csv\",header=0,skiprows=[1])\n",
    "vital_m = pd.read_csv(data_wd+\"/VITAL.csv\",header=0,skiprows=[1])"
   ]
  },
  {
   "cell_type": "code",
   "execution_count": null,
   "id": "subject-sender",
   "metadata": {},
   "outputs": [],
   "source": [
    "print(death_m.columns == death_cov.columns)\n",
    "print(diagnosis_m.columns == diagnosis_cov.columns)\n",
    "print(encounter_m.columns == encounter_cov.columns)\n",
    "print(lab_result_cm_m.columns == lab_result_cm_cov.columns)\n",
    "print(med_admin_m.columns == med_admin_cov.columns)\n",
    "print(obs_gen_m.columns == obs_gen_cov.columns)\n",
    "print(procedure_m.columns == procedure_cov.columns)\n",
    "print(demographics_m.columns == demographics_cov.columns)\n",
    "print(dispensing_m.columns == dispensing_cov.columns)\n",
    "print(immunization_m.columns == immunization_cov.columns)\n",
    "print(lds_address_history_m.columns == lds_address_history_cov.columns)\n",
    "print(obs_CLIN_m.columns == obs_CLIN_cov.columns)\n",
    "print(prescribing_m.columns == prescribing_cov.columns)\n",
    "print(vital_m.columns == vital_cov.columns)"
   ]
  },
  {
   "cell_type": "code",
   "execution_count": null,
   "id": "sensitive-battlefield",
   "metadata": {},
   "outputs": [],
   "source": [
    "# combine them\n",
    "death = pd.concat([death_m,death_cov])\n",
    "print(\"complete death\")\n",
    "diagnosis = pd.concat([diagnosis_m,diagnosis_cov])\n",
    "print(\"complete diagnosis\")\n",
    "encounter = pd.concat([encounter_m,encounter_cov])\n",
    "print(\"complete encounter\")\n",
    "lab_result_cm = pd.concat([lab_result_cm_m,lab_result_cm_cov])\n",
    "print(\"complete lab_result_cm\")\n",
    "med_admin = pd.concat([med_admin_m,med_admin_cov])\n",
    "print(\"complete med_admin\")\n",
    "obs_gen = pd.concat([obs_gen_m,obs_gen_cov])\n",
    "print(\"complete obs_gen\")\n",
    "procedure = pd.concat([procedure_m,procedure_cov])\n",
    "print(\"complete procedure\")\n",
    "demographics = pd.concat([demographics_m,demographics_cov])\n",
    "print(\"complete demographics\")\n",
    "dispensing = pd.concat([dispensing_m,dispensing_cov])\n",
    "print(\"complete dispensing\")\n",
    "immunization = pd.concat([immunization_m,immunization_cov])\n",
    "print(\"complete immunization\")\n",
    "lds_address_history = pd.concat([lds_address_history_m,lds_address_history_cov])\n",
    "print(\"complete lds_address_history\")\n",
    "obs_CLIN = pd.concat([obs_CLIN_m,obs_CLIN_cov])\n",
    "print(\"complete obs_CLIN\")\n",
    "prescribing = pd.concat([prescribing_m,prescribing_cov])\n",
    "print(\"complete prescribing\")\n",
    "vital = pd.concat([vital_m,vital_cov])\n",
    "print(\"complete vital\")"
   ]
  },
  {
   "cell_type": "code",
   "execution_count": null,
   "id": "musical-server",
   "metadata": {},
   "outputs": [],
   "source": [
    "del(death_m)\n",
    "del(death_cov)\n",
    "del(diagnosis_m)\n",
    "del(diagnosis_cov)\n",
    "del(encounter_m)\n",
    "del(encounter_cov)\n",
    "del(lab_result_cm_m)\n",
    "del(lab_result_cm_cov)\n",
    "del(med_admin_m)\n",
    "del(med_admin_cov)\n",
    "del(obs_gen_m)\n",
    "del(obs_gen_cov)\n",
    "del(procedure_m)\n",
    "del(procedure_cov)\n",
    "del(demographics_m)\n",
    "del(demographics_cov)\n",
    "del(dispensing_m)\n",
    "del(dispensing_cov)\n",
    "del(immunization_m)\n",
    "del(immunization_cov)\n",
    "del(lds_address_history_m)\n",
    "del(lds_address_history_cov)\n",
    "del(obs_CLIN_m)\n",
    "del(obs_CLIN_cov)\n",
    "del(prescribing_m)\n",
    "del(prescribing_cov)\n",
    "del(vital_m)\n",
    "del(vital_cov)"
   ]
  },
  {
   "cell_type": "code",
   "execution_count": null,
   "id": "exceptional-alliance",
   "metadata": {},
   "outputs": [],
   "source": [
    "death_cancer = death.loc[is_in_set_pnb(death['ID'],all_cancer_pid['ID']) ].reset_index(drop=True)\n",
    "print(\"complete death\")\n",
    "diagnosis_cancer = diagnosis.loc[is_in_set_pnb(diagnosis['ID'],all_cancer_pid['ID']) ].reset_index(drop=True)\n",
    "print(\"complete diagnosis\")\n",
    "encounter_cancer = encounter.loc[is_in_set_pnb(encounter['ID'],all_cancer_pid['ID']) ].reset_index(drop=True)\n",
    "print(\"complete encounter\")\n",
    "lab_result_cm_cancer = lab_result_cm.loc[is_in_set_pnb(lab_result_cm['ID'],all_cancer_pid['ID']) ].reset_index(drop=True)\n",
    "print(\"complete lab_result_cm\")\n",
    "med_admin_cancer = med_admin.loc[is_in_set_pnb(med_admin['ID'],all_cancer_pid['ID']) ].reset_index(drop=True)\n",
    "print(\"complete med_admin\")\n",
    "obs_gen_cancer = obs_gen.loc[is_in_set_pnb(obs_gen['ID'],all_cancer_pid['ID']) ].reset_index(drop=True)\n",
    "print(\"complete obs_gen\")\n",
    "procedure_cancer = procedure.loc[is_in_set_pnb(procedure['ID'],all_cancer_pid['ID']) ].reset_index(drop=True)\n",
    "print(\"complete procedure\")\n",
    "demographics_cancer = demographics.loc[is_in_set_pnb(demographics['ID'],all_cancer_pid['ID']) ].reset_index(drop=True)\n",
    "print(\"complete demographics\")\n",
    "dispensing_cancer = dispensing.loc[is_in_set_pnb(dispensing['ID'],all_cancer_pid['ID']) ].reset_index(drop=True)\n",
    "print(\"complete dispensing\")\n",
    "immunization_cancer = immunization.loc[is_in_set_pnb(immunization['ID'],all_cancer_pid['ID']) ].reset_index(drop=True)\n",
    "print(\"complete immunization\")\n",
    "lds_address_history_cancer = lds_address_history.loc[is_in_set_pnb(lds_address_history['ID'],all_cancer_pid['ID']) ].reset_index(drop=True)\n",
    "print(\"complete lds_address_history\")\n",
    "obs_CLIN_cancer = obs_CLIN.loc[is_in_set_pnb(obs_CLIN['ID'],all_cancer_pid['ID']) ].reset_index(drop=True)\n",
    "print(\"complete obs_CLIN\")\n",
    "prescribing_cancer = prescribing.loc[is_in_set_pnb(prescribing['ID'],all_cancer_pid['ID']) ].reset_index(drop=True)\n",
    "print(\"complete prescribing\")\n",
    "vital_cancer = vital.loc[is_in_set_pnb(vital['ID'],all_cancer_pid['ID']) ].reset_index(drop=True)\n",
    "print(\"complete vital\")"
   ]
  },
  {
   "cell_type": "code",
   "execution_count": null,
   "id": "rapid-catering",
   "metadata": {},
   "outputs": [],
   "source": [
    "print(death_cancer.shape,len(set(death_cancer['ID'])))\n",
    "print(diagnosis_cancer.shape,len(set(diagnosis_cancer['ID'])))\n",
    "print(encounter_cancer.shape,len(set(encounter_cancer['ID'])))\n",
    "print(lab_result_cm_cancer.shape,len(set(lab_result_cm_cancer['ID'])))\n",
    "print(med_admin_cancer.shape,len(set(med_admin_cancer['ID'])))\n",
    "print(obs_gen_cancer.shape,len(set(obs_gen_cancer['ID'])))\n",
    "print(procedure_cancer.shape,len(set(procedure_cancer['ID'])))\n",
    "print(demographics_cancer.shape,len(set(demographics_cancer['ID'])))\n",
    "print(dispensing_cancer.shape,len(set(dispensing_cancer['ID'])))\n",
    "print(immunization_cancer.shape,len(set(immunization_cancer['ID'])))\n",
    "print(lds_address_history_cancer.shape,len(set(lds_address_history_cancer['ID'])))\n",
    "print(obs_CLIN_cancer.shape,len(set(obs_CLIN_cancer['ID'])))\n",
    "print(prescribing_cancer.shape,len(set(prescribing_cancer['ID'])))\n",
    "print(vital_cancer.shape,len(set(vital_cancer['ID'])))"
   ]
  },
  {
   "cell_type": "code",
   "execution_count": null,
   "id": "humanitarian-characteristic",
   "metadata": {},
   "outputs": [],
   "source": [
    "print(all_cancer_pid.shape,len(set(all_cancer_pid['ID'])))"
   ]
  },
  {
   "cell_type": "code",
   "execution_count": null,
   "id": "parental-migration",
   "metadata": {},
   "outputs": [],
   "source": [
    "#releasing memory\n",
    "del(death)\n",
    "del(diagnosis)\n",
    "del(encounter)\n",
    "del(lab_result_cm)\n",
    "del(med_admin)\n",
    "del(obs_gen)\n",
    "del(procedure)\n",
    "del(demographics)\n",
    "del(dispensing)\n",
    "del(immunization)\n",
    "del(lds_address_history)\n",
    "del(obs_CLIN)\n",
    "del(prescribing)\n",
    "del(vital)"
   ]
  },
  {
   "cell_type": "markdown",
   "id": "painted-transfer",
   "metadata": {},
   "source": [
    "# Data quality check"
   ]
  },
  {
   "cell_type": "markdown",
   "id": "documentary-specific",
   "metadata": {},
   "source": [
    "## Remove duplicates"
   ]
  },
  {
   "cell_type": "markdown",
   "id": "impressive-prayer",
   "metadata": {},
   "source": [
    "### death"
   ]
  },
  {
   "cell_type": "code",
   "execution_count": null,
   "id": "crude-thailand",
   "metadata": {},
   "outputs": [],
   "source": [
    "#death\n",
    "death_cancer.columns"
   ]
  },
  {
   "cell_type": "code",
   "execution_count": null,
   "id": "convinced-costume",
   "metadata": {},
   "outputs": [],
   "source": [
    "print(death_cancer.shape)\n",
    "print(len(set(death_cancer['ID'])))\n",
    "print(len(death_cancer.loc[death_cancer['ID'].isna()]))"
   ]
  },
  {
   "cell_type": "code",
   "execution_count": null,
   "id": "tested-syria",
   "metadata": {},
   "outputs": [],
   "source": [
    "death_cancer['DEATH_DATE'] = pd.to_datetime(death_cancer['DEATH_DATE'])\n",
    "death_cancer = death_cancer.groupby('ID').agg(DEATH_DATE = ('DEATH_DATE','min'))\n",
    "death_cancer = death_cancer.reset_index()"
   ]
  },
  {
   "cell_type": "code",
   "execution_count": null,
   "id": "nominated-aircraft",
   "metadata": {},
   "outputs": [],
   "source": [
    "print(death_cancer.shape)"
   ]
  },
  {
   "cell_type": "markdown",
   "id": "decreased-belief",
   "metadata": {},
   "source": [
    "### demographics"
   ]
  },
  {
   "cell_type": "code",
   "execution_count": null,
   "id": "integrated-royal",
   "metadata": {},
   "outputs": [],
   "source": [
    "print(demographics_cancer.shape)\n",
    "print(len(set(demographics_cancer['ID'])))\n",
    "print(len(demographics_cancer.loc[demographics_cancer['BIRTH_DATE'].isna()]))"
   ]
  },
  {
   "cell_type": "code",
   "execution_count": null,
   "id": "international-appearance",
   "metadata": {},
   "outputs": [],
   "source": [
    "demographics_cancer = demographics_cancer.drop_duplicates('ID').reset_index()"
   ]
  },
  {
   "cell_type": "code",
   "execution_count": null,
   "id": "determined-symbol",
   "metadata": {},
   "outputs": [],
   "source": [
    "print(demographics_cancer.shape)"
   ]
  },
  {
   "cell_type": "markdown",
   "id": "stuck-burton",
   "metadata": {},
   "source": [
    "### other duplicates to be investigated"
   ]
  },
  {
   "cell_type": "markdown",
   "id": "overall-marker",
   "metadata": {},
   "source": [
    "# write "
   ]
  },
  {
   "cell_type": "code",
   "execution_count": null,
   "id": "thousand-process",
   "metadata": {},
   "outputs": [],
   "source": [
    "pickle.dump(death_cancer, open('/data/datasets/changyuyin/2_LongCOVID_OneFL/death_cancer.pkl','wb'))\n",
    "pickle.dump(diagnosis_cancer, open('/data/datasets/changyuyin/2_LongCOVID_OneFL/diagnosis_cancer.pkl','wb'))\n",
    "pickle.dump(encounter_cancer, open('/data/datasets/changyuyin/2_LongCOVID_OneFL/encounter_cancer.pkl','wb'))\n",
    "pickle.dump(lab_result_cm_cancer, open('/data/datasets/changyuyin/2_LongCOVID_OneFL/lab_result_cm_cancer.pkl','wb'))\n",
    "pickle.dump(med_admin_cancer, open('/data/datasets/changyuyin/2_LongCOVID_OneFL/med_admin_cancer.pkl','wb'))\n",
    "pickle.dump(obs_gen_cancer, open('/data/datasets/changyuyin/2_LongCOVID_OneFL/obs_gen_cancer.pkl','wb'))\n",
    "pickle.dump(procedure_cancer, open('/data/datasets/changyuyin/2_LongCOVID_OneFL/procedure_cancer.pkl','wb'))\n",
    "pickle.dump(demographics_cancer, open('/data/datasets/changyuyin/2_LongCOVID_OneFL/demographics_cancer.pkl','wb'))\n",
    "pickle.dump(dispensing_cancer, open('/data/datasets/changyuyin/2_LongCOVID_OneFL/dispensing_cancer.pkl','wb'))\n",
    "pickle.dump(immunization_cancer, open('/data/datasets/changyuyin/2_LongCOVID_OneFL/immunization_cancer.pkl','wb'))\n",
    "pickle.dump(lds_address_history_cancer, open('/data/datasets/changyuyin/2_LongCOVID_OneFL/lds_address_history_cancer.pkl','wb'))\n",
    "pickle.dump(obs_CLIN_cancer, open('/data/datasets/changyuyin/2_LongCOVID_OneFL/obs_CLIN_cancer.pkl','wb'))\n",
    "pickle.dump(prescribing_cancer, open('/data/datasets/changyuyin/2_LongCOVID_OneFL/prescribing_cancer.pkl','wb'))\n",
    "pickle.dump(vital_cancer, open('/data/datasets/changyuyin/2_LongCOVID_OneFL/vital_cancer.pkl','wb'))"
   ]
  },
  {
   "cell_type": "code",
   "execution_count": null,
   "id": "disturbed-concrete",
   "metadata": {},
   "outputs": [],
   "source": []
  }
 ],
 "metadata": {
  "kernelspec": {
   "display_name": "rapids-changyu.yin",
   "language": "python",
   "name": "changyu.yin-rapids-22.12"
  },
  "language_info": {
   "codemirror_mode": {
    "name": "ipython",
    "version": 3
   },
   "file_extension": ".py",
   "mimetype": "text/x-python",
   "name": "python",
   "nbconvert_exporter": "python",
   "pygments_lexer": "ipython3",
   "version": "3.9.15"
  },
  "toc-autonumbering": true
 },
 "nbformat": 4,
 "nbformat_minor": 5
}

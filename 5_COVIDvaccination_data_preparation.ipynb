{
 "cells": [
  {
   "cell_type": "code",
   "execution_count": 8,
   "id": "turned-savage",
   "metadata": {},
   "outputs": [],
   "source": [
    "#package loading \n",
    "import sklearn\n",
    "import pandas as pd\n",
    "import numpy as np\n",
    "import matplotlib.pyplot as plt\n",
    "import seaborn as sns\n",
    "from lifelines import CoxPHFitter\n",
    "from dateutil.relativedelta import relativedelta\n",
    "from scipy.stats import percentileofscore\n",
    "import umap\n",
    "from tqdm import tqdm\n",
    "import cudf\n",
    "import pickle\n",
    "import sys"
   ]
  },
  {
   "cell_type": "code",
   "execution_count": 9,
   "id": "fuzzy-tackle",
   "metadata": {},
   "outputs": [],
   "source": [
    "from utility import *\n",
    "from preprocess import *"
   ]
  },
  {
   "cell_type": "code",
   "execution_count": 10,
   "id": "based-kuwait",
   "metadata": {},
   "outputs": [],
   "source": [
    "import warnings\n",
    "warnings.filterwarnings(\"ignore\")"
   ]
  },
  {
   "cell_type": "markdown",
   "id": "powerful-medicine",
   "metadata": {},
   "source": [
    "*The tables below may have information of COVID-vaccine*"
   ]
  },
  {
   "cell_type": "code",
   "execution_count": 4,
   "id": "blond-athens",
   "metadata": {},
   "outputs": [],
   "source": [
    "#death_cancer=pickle.load(open('/data/datasets/changyuyin/2_COVIDwithCancer/death_cancer.pkl','rb'))\n",
    "#diagnosis_cancer=pickle.load(open('/data/datasets/changyuyin/2_COVIDwithCancer/diagnosis_cancer.pkl','rb'))\n",
    "#encounter_cancer=pickle.load(open('/data/datasets/changyuyin/2_COVIDwithCancer/encounter_cancer.pkl','rb'))\n",
    "#lab_result_cm_cancer=pickle.load(open('/data/datasets/changyuyin/2_COVIDwithCancer/lab_result_cm_cancer.pkl','rb'))\n",
    "med_admin_cancer=pickle.load(open('/data/datasets/changyuyin/2_COVIDwithCancer/med_admin_cancer.pkl','rb'))\n",
    "obs_gen_cancer=pickle.load(open('/data/datasets/changyuyin/2_COVIDwithCancer/obs_gen_cancer.pkl','rb'))\n",
    "procedure_cancer=pickle.load( open('/data/datasets/changyuyin/2_COVIDwithCancer/procedure_cancer.pkl','rb'))\n",
    "#demographics_cancer=pickle.load(open('/data/datasets/changyuyin/2_COVIDwithCancer/demographics_cancer.pkl','rb'))\n",
    "dispensing_cancer=pickle.load(open('/data/datasets/changyuyin/2_COVIDwithCancer/dispensing_cancer.pkl','rb'))\n",
    "immunization_cancer=pickle.load(open('/data/datasets/changyuyin/2_COVIDwithCancer/immunization_cancer.pkl','rb'))\n",
    "#lds_address_history_cancer=pickle.load(open('/data/datasets/changyuyin/2_COVIDwithCancer/lds_address_history_cancer.pkl','rb'))\n",
    "#obs_CLIN_cancer=pickle.load(open('/data/datasets/changyuyin/2_COVIDwithCancer/obs_CLIN_cancer.pkl','rb'))\n",
    "prescribing_cancer=pickle.load(open('/data/datasets/changyuyin/2_COVIDwithCancer/prescribing_cancer.pkl','rb'))\n",
    "#vital_cancer=pickle.load(open('/data/datasets/changyuyin/2_COVIDwithCancer/vital_cancer.pkl','rb'))"
   ]
  },
  {
   "cell_type": "markdown",
   "id": "french-assurance",
   "metadata": {},
   "source": [
    "# Define codes representing COVID-19 vaccination"
   ]
  },
  {
   "cell_type": "code",
   "execution_count": 142,
   "id": "subsequent-stocks",
   "metadata": {},
   "outputs": [
    {
     "name": "stdout",
     "output_type": "stream",
     "text": [
      "58\n"
     ]
    }
   ],
   "source": [
    "cpt_codes = tuple(set(['91300','0004A','91300','0001A','91300','0002A','91300',\n",
    "                       '0003A','91301','0011A','91301','0012A','91301','0013A',\n",
    "                       '91302','0021A','91302','0022A','91303','0034A','91303',\n",
    "                       '0031A','91304','0044A','91304','0041A','91304','0042A',\n",
    "                       '91305','0054A','91305','0051A','91305','0052A','91305',\n",
    "                       '0053A','91306','0064A','91307','0074A','91307','0071A',\n",
    "                       '91307','0072A','91307','0073A','91308','0081A','91308',\n",
    "                       '0082A','91308','0083A','91309','0094A','91309','0091A',\n",
    "                       '91309','0092A','91309','0093A','91310','0104A','91311',\n",
    "                       '0111A','91311','0112A','91311','0113A','91312','0124A',\n",
    "                       '91313','0134A','91314','0144A','91315','0154A','91316',\n",
    "                       '0164A','91317','0173A','91303','91301','91306','91301',\n",
    "                       '91309','91311','91313','91314','91316','91300','91305',\n",
    "                       '91305','91307','91308','91312','91315','91317','91304',\n",
    "                       '91310']))\n",
    "print(len(cpt_codes))"
   ]
  },
  {
   "cell_type": "code",
   "execution_count": 143,
   "id": "south-checklist",
   "metadata": {},
   "outputs": [
    {
     "name": "stdout",
     "output_type": "stream",
     "text": [
      "16\n"
     ]
    }
   ],
   "source": [
    "cvx_codes = tuple(set(['212','207','207','207','221','228','229','230','208','217',\n",
    "                   '217','218','219','300','301','302','211','225','213']))\n",
    "print(len(cvx_codes))"
   ]
  },
  {
   "cell_type": "code",
   "execution_count": 144,
   "id": "indonesian-faith",
   "metadata": {},
   "outputs": [
    {
     "name": "stdout",
     "output_type": "stream",
     "text": [
      "47\n"
     ]
    }
   ],
   "source": [
    "rxnorm_codes = tuple(set(['2623378','2623382','2610328','2610319','2610347',\n",
    "                      '2606078','2603740','2598700','2593847','2592364',\n",
    "                      '2587906','2587899','2587898','2587313','2587312',\n",
    "                      '2583743','2559909','2550903','2479835','2479154',\n",
    "                      '2479153','2479150','2479149','2479159','2479158',\n",
    "                      '2479156','2479155','2477902','2470234','2468235',\n",
    "                      '2465246','2465248','2465253','2465255','2397257',\n",
    "                      '2397251','2370236','2370234','2205474','2205472',\n",
    "                      '2047247','2047241','2463118','2395502','2284960',\n",
    "                      '2395504','2367758']))\n",
    "print(len(rxnorm_codes))"
   ]
  },
  {
   "cell_type": "code",
   "execution_count": 145,
   "id": "difficult-custom",
   "metadata": {},
   "outputs": [
    {
     "name": "stdout",
     "output_type": "stream",
     "text": [
      "68\n"
     ]
    }
   ],
   "source": [
    "ndc_codes = tuple(set(['5926710001','5926710001','5926710001','5926710001',\n",
    "                   '8077727310','8077727310','8077727310','0310122210',\n",
    "                   '0310122210','5967658005','5967658005','8063110001',\n",
    "                   '8063110001','8063110001','5926710251','5926710251',\n",
    "                   '5926710251','5926710251','8077727310','5926710551',\n",
    "                   '5926710551','5926710551','5926710551','5926700781',\n",
    "                   '5926700784','5926700784','8077727505','8077727505',\n",
    "                   '8077727505','8077727505','4928161820','8077727905',\n",
    "                   '8077727905','8077727905','5926703041','8077728205',\n",
    "                   '8077728205','5926705651','8077728302','5926706091',\n",
    "                   '59267100001','59267100001','59267100001','59267100001',\n",
    "                   '80777027310','80777027310','80777027310','00310122210',\n",
    "                   '00310122210','59676058005','59676058005','80631100001',\n",
    "                   '80631100001','80631100001','59267102501','59267102501',\n",
    "                   '59267102501','59267102501','80777027310','59267105501',\n",
    "                   '59267105501','59267105501','59267105501','59267007801',\n",
    "                   '59267007804','59267007804','80777027505','80777027505',\n",
    "                   '80777027505','80777027505','49281061820','80777027905',\n",
    "                   '80777027905','80777027905','59267030401','80777028205',\n",
    "                   '80777028205','59267056501','80777028302','59267060901',\n",
    "                   '5967658015','8077727399','8077727398','8077727399',\n",
    "                   '8077727398','8077710099','8077727599','8077727999',\n",
    "                   '8077728299','8077728399','5926710002','5926710003',\n",
    "                   '5926710253','5926710254','0069202510','0069202525',\n",
    "                   '5926710554','5926700784','5926703042','5926714042',\n",
    "                   '5926705652','5926706092','8063110010','4928161820',\n",
    "                   '0069100002','00069100003','8077710098','8077727799',\n",
    "                   '8077728099','5967658005','8077727310','8077727315',\n",
    "                   '8077727310','8077727315','8077710011','8077727505',\n",
    "                   '8077727905','8077728205','8077728302','5926710001',\n",
    "                   '5926710251','0069202501','5926710551','5926700781',\n",
    "                   '5926703041','5926714041','5926705651','5926706091',\n",
    "                   '8063110001','4928161878','0069100001','8077710015',\n",
    "                   '8077727705','8077728005',]))\n",
    "print(len(ndc_codes))"
   ]
  },
  {
   "cell_type": "markdown",
   "id": "focused-couple",
   "metadata": {},
   "source": [
    "# Extract COVID-19 vaccination records"
   ]
  },
  {
   "cell_type": "markdown",
   "id": "worth-argument",
   "metadata": {},
   "source": [
    "## from `immunization`"
   ]
  },
  {
   "cell_type": "code",
   "execution_count": 146,
   "id": "simple-being",
   "metadata": {},
   "outputs": [
    {
     "name": "stdout",
     "output_type": "stream",
     "text": [
      "Index(['IMMUNIZATIONID', 'ID', 'ENCOUNTERID', 'PROCEDURESID', 'VX_PROVIDERID',\n",
      "       'VX_RECORD_DATE', 'VX_ADMIN_DATE', 'VX_CODE_TYPE', 'VX_CODE',\n",
      "       'VX_STATUS', 'VX_STATUS_REASON', 'VX_SOURCE', 'VX_DOSE', 'VX_DOSE_UNIT',\n",
      "       'VX_ROUTE', 'VX_BODY_SITE', 'VX_MANUFACTURER', 'VX_LOT_NUM',\n",
      "       'VX_EXP_DATE', 'SOURCE_masked'],\n",
      "      dtype='object')\n",
      "NI    86337\n",
      "OT    35767\n",
      "CX    26332\n",
      "ND     2239\n",
      "CH     1593\n",
      "RX       10\n",
      "Name: VX_CODE_TYPE, dtype: int64\n"
     ]
    }
   ],
   "source": [
    "print(immunization_cancer.columns)\n",
    "print(immunization_cancer.VX_CODE_TYPE.value_counts())"
   ]
  },
  {
   "cell_type": "code",
   "execution_count": 147,
   "id": "dated-boston",
   "metadata": {},
   "outputs": [
    {
     "name": "stdout",
     "output_type": "stream",
     "text": [
      "Dimension before filtering:  (152278, 20)\n",
      "Dimension after filtering:  (237, 20)\n"
     ]
    }
   ],
   "source": [
    "immunization_cancer_vax = extract_COVIDvax_record(df=immunization_cancer,\\\n",
    "                             extract_from_col=\"VX_CODE\",\\\n",
    "                             code_type_col=\"VX_CODE_TYPE\",\\\n",
    "                             cpt_codes=cpt_codes,\\\n",
    "                             rxnorm_codes=rxnorm_codes,\\\n",
    "                             ndc_codes=ndc_codes,\\\n",
    "                             cvx_codes=cvx_codes)"
   ]
  },
  {
   "cell_type": "code",
   "execution_count": 148,
   "id": "direct-cholesterol",
   "metadata": {},
   "outputs": [
    {
     "data": {
      "text/plain": [
       "IMMUNIZATIONID        0\n",
       "ID                    0\n",
       "ENCOUNTERID          20\n",
       "PROCEDURESID        230\n",
       "VX_PROVIDERID         0\n",
       "VX_RECORD_DATE        0\n",
       "VX_ADMIN_DATE         0\n",
       "VX_CODE_TYPE          0\n",
       "VX_CODE               0\n",
       "VX_STATUS             0\n",
       "VX_STATUS_REASON    107\n",
       "VX_SOURCE             0\n",
       "VX_DOSE               2\n",
       "VX_DOSE_UNIT         19\n",
       "VX_ROUTE              0\n",
       "VX_BODY_SITE          0\n",
       "VX_MANUFACTURER       0\n",
       "VX_LOT_NUM            3\n",
       "VX_EXP_DATE         107\n",
       "SOURCE_masked         0\n",
       "dtype: int64"
      ]
     },
     "execution_count": 148,
     "metadata": {},
     "output_type": "execute_result"
    }
   ],
   "source": [
    "immunization_cancer_vax.isnull().sum()"
   ]
  },
  {
   "cell_type": "markdown",
   "id": "clinical-contest",
   "metadata": {},
   "source": [
    "## from `procedure`"
   ]
  },
  {
   "cell_type": "code",
   "execution_count": 149,
   "id": "actual-paraguay",
   "metadata": {},
   "outputs": [
    {
     "name": "stdout",
     "output_type": "stream",
     "text": [
      "Index(['PROCEDURESID', 'ID', 'ENCOUNTERID', 'ENC_TYPE', 'ADMIT_DATE',\n",
      "       'PROVIDERID', 'PX_DATE', 'PX', 'PX_TYPE', 'PX_SOURCE', 'PPX',\n",
      "       'SOURCE_masked'],\n",
      "      dtype='object')\n",
      "CH    23889820\n",
      "RE     4181826\n",
      "09      258530\n",
      "10      228741\n",
      "OT      172463\n",
      "NI         879\n",
      "Name: PX_TYPE, dtype: int64\n"
     ]
    }
   ],
   "source": [
    "print(procedure_cancer.columns)\n",
    "print(procedure_cancer.PX_TYPE.value_counts())"
   ]
  },
  {
   "cell_type": "code",
   "execution_count": 150,
   "id": "professional-commons",
   "metadata": {},
   "outputs": [
    {
     "name": "stdout",
     "output_type": "stream",
     "text": [
      "Dimension before filtering:  (28732259, 12)\n",
      "Dimension after filtering:  (6330, 12)\n"
     ]
    }
   ],
   "source": [
    "procedure_cancer_vax = extract_COVIDvax_record(df=procedure_cancer,\\\n",
    "                             extract_from_col=\"PX\",\\\n",
    "                             code_type_col=\"PX_TYPE\",\\\n",
    "                             cpt_codes=cpt_codes,\\\n",
    "                             rxnorm_codes=rxnorm_codes,\\\n",
    "                             ndc_codes=ndc_codes,\\\n",
    "                             cvx_codes=cvx_codes)"
   ]
  },
  {
   "cell_type": "code",
   "execution_count": 151,
   "id": "square-chess",
   "metadata": {},
   "outputs": [
    {
     "data": {
      "text/plain": [
       "PROCEDURESID        0\n",
       "ID                  0\n",
       "ENCOUNTERID         0\n",
       "ENC_TYPE            0\n",
       "ADMIT_DATE          0\n",
       "PROVIDERID       1404\n",
       "PX_DATE            25\n",
       "VX_CODE             0\n",
       "VX_CODE_TYPE        0\n",
       "PX_SOURCE           0\n",
       "PPX                 0\n",
       "SOURCE_masked       0\n",
       "dtype: int64"
      ]
     },
     "execution_count": 151,
     "metadata": {},
     "output_type": "execute_result"
    }
   ],
   "source": [
    "procedure_cancer_vax.isnull().sum()"
   ]
  },
  {
   "cell_type": "markdown",
   "id": "frequent-chapter",
   "metadata": {},
   "source": [
    "## from `prescribing`"
   ]
  },
  {
   "cell_type": "code",
   "execution_count": 152,
   "id": "painted-slope",
   "metadata": {},
   "outputs": [
    {
     "name": "stdout",
     "output_type": "stream",
     "text": [
      "Index(['PRESCRIBINGID', 'ID', 'ENCOUNTERID', 'RX_PROVIDERID', 'RX_ORDER_DATE',\n",
      "       'RX_ORDER_TIME', 'RX_START_DATE', 'RX_END_DATE', 'RX_DOSE_ORDERED',\n",
      "       'RX_DOSE_ORDERED_UNIT', 'RX_QUANTITY', 'RX_DOSE_FORM', 'RX_REFILLS',\n",
      "       'RX_DAYS_SUPPLY', 'RX_FREQUENCY', 'RX_PRN_FLAG', 'RX_ROUTE', 'RX_BASIS',\n",
      "       'RXNORM_CUI', 'RX_SOURCE', 'RX_DISPENSE_AS_WRITTEN', 'SOURCE_masked'],\n",
      "      dtype='object')\n"
     ]
    }
   ],
   "source": [
    "print(prescribing_cancer.columns)"
   ]
  },
  {
   "cell_type": "code",
   "execution_count": 153,
   "id": "clear-sixth",
   "metadata": {},
   "outputs": [],
   "source": [
    "prescribing_cancer['CODE_TYPE']='RX'"
   ]
  },
  {
   "cell_type": "code",
   "execution_count": 154,
   "id": "smooth-firmware",
   "metadata": {},
   "outputs": [],
   "source": [
    "prescribing_cancer['RXNORM_CUI'] = prescribing_cancer['RXNORM_CUI'].fillna('-9999999999').astype(int).astype(str)"
   ]
  },
  {
   "cell_type": "code",
   "execution_count": 155,
   "id": "incorporate-characterization",
   "metadata": {},
   "outputs": [
    {
     "name": "stdout",
     "output_type": "stream",
     "text": [
      "Dimension before filtering:  (9278961, 23)\n",
      "Dimension after filtering:  (3185, 23)\n"
     ]
    }
   ],
   "source": [
    "prescribing_cancer_vax = extract_COVIDvax_record(df=prescribing_cancer,\\\n",
    "                             extract_from_col=\"RXNORM_CUI\",\\\n",
    "                             code_type_col=\"CODE_TYPE\",\\\n",
    "                             cpt_codes=cpt_codes,\\\n",
    "                             rxnorm_codes=rxnorm_codes,\\\n",
    "                             ndc_codes=ndc_codes,\\\n",
    "                             cvx_codes=cvx_codes)"
   ]
  },
  {
   "cell_type": "code",
   "execution_count": 156,
   "id": "intellectual-minority",
   "metadata": {},
   "outputs": [
    {
     "data": {
      "text/plain": [
       "PRESCRIBINGID                0\n",
       "ID                           0\n",
       "ENCOUNTERID                  0\n",
       "RX_PROVIDERID              329\n",
       "RX_ORDER_DATE                0\n",
       "RX_ORDER_TIME                0\n",
       "RX_START_DATE              556\n",
       "RX_END_DATE                570\n",
       "RX_DOSE_ORDERED            342\n",
       "RX_DOSE_ORDERED_UNIT         0\n",
       "RX_QUANTITY               3173\n",
       "RX_DOSE_FORM               555\n",
       "RX_REFILLS                3171\n",
       "RX_DAYS_SUPPLY            2748\n",
       "RX_FREQUENCY                 0\n",
       "RX_PRN_FLAG                  0\n",
       "RX_ROUTE                    64\n",
       "RX_BASIS                   554\n",
       "VX_CODE                      0\n",
       "RX_SOURCE                    0\n",
       "RX_DISPENSE_AS_WRITTEN     554\n",
       "SOURCE_masked                0\n",
       "VX_CODE_TYPE                 0\n",
       "dtype: int64"
      ]
     },
     "execution_count": 156,
     "metadata": {},
     "output_type": "execute_result"
    }
   ],
   "source": [
    "prescribing_cancer_vax.isnull().sum()"
   ]
  },
  {
   "cell_type": "markdown",
   "id": "expired-hayes",
   "metadata": {},
   "source": [
    "## from `dispensing`"
   ]
  },
  {
   "cell_type": "code",
   "execution_count": 157,
   "id": "premium-hepatitis",
   "metadata": {},
   "outputs": [
    {
     "name": "stdout",
     "output_type": "stream",
     "text": [
      "Index(['DISPENSINGID', 'ID', 'PRESCRIBINGID', 'DISPENSE_DATE', 'NDC',\n",
      "       'DISPENSE_SOURCE', 'DISPENSE_SUP', 'DISPENSE_AMT', 'DISPENSE_DOSE_DISP',\n",
      "       'DISPENSE_DOSE_DISP_UNIT', 'DISPENSE_ROUTE', 'SOURCE_masked'],\n",
      "      dtype='object')\n"
     ]
    }
   ],
   "source": [
    "print(dispensing_cancer.columns)"
   ]
  },
  {
   "cell_type": "code",
   "execution_count": 158,
   "id": "invalid-force",
   "metadata": {},
   "outputs": [
    {
     "data": {
      "text/plain": [
       "DISPENSINGID                  0\n",
       "ID                            0\n",
       "PRESCRIBINGID                 0\n",
       "DISPENSE_DATE                 0\n",
       "VX_CODE                       0\n",
       "DISPENSE_SOURCE               0\n",
       "DISPENSE_SUP                  0\n",
       "DISPENSE_AMT                  0\n",
       "DISPENSE_DOSE_DISP         1268\n",
       "DISPENSE_DOSE_DISP_UNIT    1266\n",
       "DISPENSE_ROUTE             1266\n",
       "SOURCE_masked                 0\n",
       "VX_CODE_TYPE                  0\n",
       "dtype: int64"
      ]
     },
     "execution_count": 158,
     "metadata": {},
     "output_type": "execute_result"
    }
   ],
   "source": [
    "dispensing_cancer_vax.isnull().sum()"
   ]
  },
  {
   "cell_type": "code",
   "execution_count": 159,
   "id": "handed-lindsay",
   "metadata": {},
   "outputs": [],
   "source": [
    "dispensing_cancer['CODE_TYPE']='ND'"
   ]
  },
  {
   "cell_type": "code",
   "execution_count": 160,
   "id": "developed-disabled",
   "metadata": {},
   "outputs": [],
   "source": [
    "dispensing_cancer['NDC'] = dispensing_cancer['NDC'].fillna('-9999999999').astype(str)"
   ]
  },
  {
   "cell_type": "code",
   "execution_count": 161,
   "id": "positive-fundamental",
   "metadata": {},
   "outputs": [
    {
     "name": "stdout",
     "output_type": "stream",
     "text": [
      "Dimension before filtering:  (4417243, 13)\n",
      "Dimension after filtering:  (1300, 13)\n"
     ]
    }
   ],
   "source": [
    "dispensing_cancer_vax = extract_COVIDvax_record(df=dispensing_cancer,\\\n",
    "                             extract_from_col=\"NDC\",\\\n",
    "                             code_type_col=\"CODE_TYPE\",\\\n",
    "                             cpt_codes=cpt_codes,\\\n",
    "                             rxnorm_codes=rxnorm_codes,\\\n",
    "                             ndc_codes=ndc_codes,\\\n",
    "                             cvx_codes=cvx_codes)"
   ]
  },
  {
   "cell_type": "code",
   "execution_count": 162,
   "id": "absent-nevada",
   "metadata": {},
   "outputs": [
    {
     "data": {
      "text/plain": [
       "DISPENSINGID                  0\n",
       "ID                            0\n",
       "PRESCRIBINGID                 0\n",
       "DISPENSE_DATE                 0\n",
       "VX_CODE                       0\n",
       "DISPENSE_SOURCE               0\n",
       "DISPENSE_SUP                  0\n",
       "DISPENSE_AMT                  0\n",
       "DISPENSE_DOSE_DISP         1268\n",
       "DISPENSE_DOSE_DISP_UNIT    1266\n",
       "DISPENSE_ROUTE             1266\n",
       "SOURCE_masked                 0\n",
       "VX_CODE_TYPE                  0\n",
       "dtype: int64"
      ]
     },
     "execution_count": 162,
     "metadata": {},
     "output_type": "execute_result"
    }
   ],
   "source": [
    "dispensing_cancer_vax.isnull().sum()"
   ]
  },
  {
   "cell_type": "markdown",
   "id": "hawaiian-perry",
   "metadata": {},
   "source": [
    "# Assemble the data"
   ]
  },
  {
   "cell_type": "code",
   "execution_count": 164,
   "id": "extended-retrieval",
   "metadata": {},
   "outputs": [
    {
     "name": "stdout",
     "output_type": "stream",
     "text": [
      "237\n",
      "237\n",
      "6330\n",
      "6286\n",
      "3185\n",
      "3077\n",
      "1300\n",
      "1300\n"
     ]
    }
   ],
   "source": [
    "print(len(immunization_cancer_vax['IMMUNIZATIONID']))\n",
    "print(len(set(immunization_cancer_vax['IMMUNIZATIONID'])))\n",
    "print(len(procedure_cancer_vax['PROCEDURESID']))\n",
    "print(len(set(procedure_cancer_vax['PROCEDURESID'])))\n",
    "print(len(prescribing_cancer_vax['PRESCRIBINGID']))\n",
    "print(len(set(prescribing_cancer_vax['PRESCRIBINGID'])))\n",
    "print(len(dispensing_cancer_vax['DISPENSINGID']))\n",
    "print(len(set(dispensing_cancer_vax['DISPENSINGID'])))"
   ]
  },
  {
   "cell_type": "code",
   "execution_count": null,
   "id": "spatial-psychology",
   "metadata": {},
   "outputs": [],
   "source": [
    "immunization_cancer_vax = immunization_cancer_vax.rename(columns={\"VX_ADMIN_DATE\":\"VX_DATE\"})\n",
    "prescribing_cancer_vax = prescribing_cancer_vax.rename(columns={\"RX_ORDER_DATE\":\"VX_DATE\"})\n",
    "procedure_cancer_vax = procedure_cancer_vax.rename(columns={\"PX_DATE\":\"VX_DATE\"})\n",
    "dispensing_cancer_vax = dispensing_cancer_vax.rename(columns={\"DISPENSE_DATE\":\"VX_DATE\"})"
   ]
  },
  {
   "cell_type": "code",
   "execution_count": null,
   "id": "piano-flesh",
   "metadata": {},
   "outputs": [],
   "source": [
    "immunization_cancer_vax = immunization_cancer_vax.rename(columns={\"IMMUNIZATIONID\":\"VX_ID\"})\n",
    "immunization_cancer_vax['VX_ID'] = \"IMMUNIZATION\"+immunization_cancer_vax['VX_ID']\n",
    "immunization_cancer_vax['DOMAIN'] = \"IMMUNIZATION\"\n",
    "\n",
    "prescribing_cancer_vax = prescribing_cancer_vax.rename(columns={\"PRESCRIBINGID\":\"VX_ID\"})\n",
    "prescribing_cancer_vax['VX_ID'] = \"PRESCRIBING\"+prescribing_cancer_vax['VX_ID']\n",
    "prescribing_cancer_vax['DOMAIN'] = \"PRESCRIBING\"\n",
    "\n",
    "procedure_cancer_vax = procedure_cancer_vax.rename(columns={\"PROCEDURESID\":\"VX_ID\"})\n",
    "procedure_cancer_vax['VX_ID'] = \"PROCEDURE\"+procedure_cancer_vax['VX_ID']\n",
    "procedure_cancer_vax['DOMAIN'] = \"PROCEDURE\"\n",
    "\n",
    "dispensing_cancer_vax = dispensing_cancer_vax.rename(columns={\"DISPENSINGID\":\"VX_ID\"})\n",
    "dispensing_cancer_vax['VX_ID'] = \"DISPENSING\"+dispensing_cancer_vax['VX_ID']\n",
    "dispensing_cancer_vax['DOMAIN'] = \"DISPENSING\""
   ]
  },
  {
   "cell_type": "code",
   "execution_count": null,
   "id": "bound-buffalo",
   "metadata": {},
   "outputs": [],
   "source": [
    "vax_cancer = pd.concat([immunization_cancer_vax[['ID','VX_ID','VX_CODE_TYPE','VX_CODE','VX_DATE','DOMAIN']],\n",
    "                        prescribing_cancer_vax[['ID','VX_ID','VX_CODE_TYPE','VX_CODE','VX_DATE','DOMAIN']],\n",
    "                        procedure_cancer_vax[['ID','VX_ID','VX_CODE_TYPE','VX_CODE','VX_DATE','DOMAIN']],\n",
    "                        dispensing_cancer_vax[['ID','VX_ID','VX_CODE_TYPE','VX_CODE','VX_DATE','DOMAIN']]\n",
    "                       ])"
   ]
  },
  {
   "cell_type": "code",
   "execution_count": 12,
   "id": "extensive-blogger",
   "metadata": {},
   "outputs": [],
   "source": [
    "vax_cancer['VX_ID_RAW'] = vax_cancer['VX_ID']\n",
    "vax_cancer['VX_ID'] = vax_cancer['ID']+vax_cancer['VX_CODE']+vax_cancer['VX_DATE']"
   ]
  },
  {
   "cell_type": "code",
   "execution_count": 13,
   "id": "aggregate-witch",
   "metadata": {},
   "outputs": [
    {
     "name": "stdout",
     "output_type": "stream",
     "text": [
      "(11052, 7)\n"
     ]
    }
   ],
   "source": [
    "print(vax_cancer.shape)"
   ]
  },
  {
   "cell_type": "code",
   "execution_count": 17,
   "id": "optimum-willow",
   "metadata": {},
   "outputs": [],
   "source": [
    "#drop duplicate information\n",
    "vax_cancer = vax_cancer.drop_duplicates('VX_ID',ignore_index=True)"
   ]
  },
  {
   "cell_type": "code",
   "execution_count": 19,
   "id": "center-preliminary",
   "metadata": {},
   "outputs": [
    {
     "name": "stdout",
     "output_type": "stream",
     "text": [
      "(9273, 7)\n"
     ]
    }
   ],
   "source": [
    "print(vax_cancer.shape)"
   ]
  },
  {
   "cell_type": "code",
   "execution_count": 20,
   "id": "boolean-classics",
   "metadata": {},
   "outputs": [],
   "source": [
    "pickle.dump(vax_cancer, open('/data/datasets/changyuyin/2_COVIDwithCancer/vax_cancer.pkl','wb'))"
   ]
  },
  {
   "cell_type": "code",
   "execution_count": 18,
   "id": "christian-gateway",
   "metadata": {},
   "outputs": [],
   "source": [
    "pickle.dump(immunization_cancer_vax, open('/data/datasets/changyuyin/2_COVIDwithCancer/immunization_cancer_vax.pkl','wb'))\n",
    "pickle.dump(procedure_cancer_vax, open('/data/datasets/changyuyin/2_COVIDwithCancer/procedure_cancer_vax.pkl','wb'))\n",
    "pickle.dump(prescribing_cancer_vax, open('/data/datasets/changyuyin/2_COVIDwithCancer/prescribing_cancer_vax.pkl','wb'))\n",
    "pickle.dump(dispensing_cancer_vax, open('/data/datasets/changyuyin/2_COVIDwithCancer/dispensing_cancer_vax.pkl','wb'))"
   ]
  }
 ],
 "metadata": {
  "kernelspec": {
   "display_name": "rapids-changyu.yin",
   "language": "python",
   "name": "changyu.yin-rapids-22.12"
  },
  "language_info": {
   "codemirror_mode": {
    "name": "ipython",
    "version": 3
   },
   "file_extension": ".py",
   "mimetype": "text/x-python",
   "name": "python",
   "nbconvert_exporter": "python",
   "pygments_lexer": "ipython3",
   "version": "3.9.15"
  }
 },
 "nbformat": 4,
 "nbformat_minor": 5
}

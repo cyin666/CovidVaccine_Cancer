{
 "cells": [
  {
   "cell_type": "code",
   "execution_count": 2,
   "id": "legendary-syracuse",
   "metadata": {},
   "outputs": [
    {
     "name": "stderr",
     "output_type": "stream",
     "text": [
      "Installing package into ‘/usr/local/lib/R/site-library’\n",
      "(as ‘lib’ is unspecified)\n",
      "\n",
      "Warning message in install.packages(\"comorbidity\"):\n",
      "“'lib = \"/usr/local/lib/R/site-library\"' is not writable”\n"
     ]
    },
    {
     "ename": "ERROR",
     "evalue": "Error in install.packages(\"comorbidity\"): unable to install packages\n",
     "output_type": "error",
     "traceback": [
      "Error in install.packages(\"comorbidity\"): unable to install packages\nTraceback:\n",
      "1. install.packages(\"comorbidity\")",
      "2. stop(\"unable to install packages\")"
     ]
    }
   ],
   "source": [
    "install.packages('comorbidity')"
   ]
  },
  {
   "cell_type": "code",
   "execution_count": null,
   "id": "paperback-spelling",
   "metadata": {},
   "outputs": [],
   "source": []
  }
 ],
 "metadata": {
  "kernelspec": {
   "display_name": "R 4.0.4",
   "language": "R",
   "name": "ir404"
  },
  "language_info": {
   "codemirror_mode": "r",
   "file_extension": ".r",
   "mimetype": "text/x-r-source",
   "name": "R",
   "pygments_lexer": "r",
   "version": "4.1.3"
  }
 },
 "nbformat": 4,
 "nbformat_minor": 5
}
